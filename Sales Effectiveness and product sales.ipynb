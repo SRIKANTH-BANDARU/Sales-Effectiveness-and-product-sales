{
 "cells": [
  {
   "cell_type": "markdown",
   "id": "863a1e4e",
   "metadata": {},
   "source": [
    "# INDIVIDUAL ID : PTID - CDS - MAR - 24 - 1856"
   ]
  },
  {
   "cell_type": "markdown",
   "id": "830419f5",
   "metadata": {},
   "source": [
    "# BATCH ID : 25 - OCT - 23 - CDS - BUN - 021 - WDM11 - BAN"
   ]
  },
  {
   "cell_type": "markdown",
   "id": "89432f71",
   "metadata": {},
   "source": [
    "# CLIENT : SALES EFFECTIVENESS | CATEGORY : PRODUCT SALES"
   ]
  },
  {
   "cell_type": "markdown",
   "id": "d884d5b2",
   "metadata": {},
   "source": [
    "# PROJECT REF : PRCL - 0019"
   ]
  },
  {
   "cell_type": "markdown",
   "id": "509df339",
   "metadata": {},
   "source": [
    "# BUSINESS CASE :  **Enhancing Sales Effectiveness through Machine Learning**"
   ]
  },
  {
   "cell_type": "markdown",
   "id": "cd15149d",
   "metadata": {},
   "source": [
    "## COMPANY OVERVIEW :\n",
    "FicZon Inc is a prominent IT solution provider offering a diverse range of products, including on-premises solutions and Software as a Service (SAAS) offerings. With a primary focus on digital channels and website-driven leads, FicZon has historically thrived on effective sales force management.\n",
    "\n",
    "## MARKET CHALLENGES :\n",
    "In the face of a maturing market and increased competition, FicZon is witnessing a decline in sales performance. The traditional reliance on manual lead categorization, heavily dependent on the sales team, has become a bottleneck. Lead quality, a pivotal factor in sales effectiveness, is currently determined through post-analysis rather than in real-time.\n",
    "\n",
    "## OPPORTUNITY FOR IMPROVEMENT :\n",
    "Recognizing the need for innovation, FicZon aims to leverage Machine Learning (ML) to revolutionize the lead categorization process. The objective is to pre-categorize leads based on ML algorithms, providing a more accurate and timely assessment of lead quality."
   ]
  },
  {
   "cell_type": "markdown",
   "id": "8de71724",
   "metadata": {},
   "source": [
    "# PROJECT PROCESS STEPS :"
   ]
  },
  {
   "cell_type": "markdown",
   "id": "5eb0f716",
   "metadata": {},
   "source": [
    "**1.IMPORTING ALL THE NECESSASRY LAIBRARIES**\n",
    "\n",
    "**2.DATABASE DETAILS / UNDERSTANDING THE DATA**\n",
    " \n",
    "**3.DOMAIN ANALYSIS**\n",
    "\n",
    "**4.DATA PRE-PROCESSING**\n",
    "\n",
    "**5.EXPLORATARY DATA ANALYSIS (EDA) & INSIGHTS FROM DATA**\n",
    "\n",
    "**6.ENCODING CATEGORICAL VARIABLES**\n",
    "\n",
    "**7.FEATURE ENGINEERING**\n",
    "\n",
    "**8.MODEL CREATION AND EVALUATION**\n",
    "\n",
    "**7.CONCLUSION**"
   ]
  },
  {
   "cell_type": "code",
   "execution_count": 1,
   "id": "8dda2f34",
   "metadata": {},
   "outputs": [
    {
     "name": "stdout",
     "output_type": "stream",
     "text": [
      "Requirement already satisfied: mysql-connector in c:\\users\\dell\\anaconda3\\lib\\site-packages (2.2.9)\n"
     ]
    }
   ],
   "source": [
    "!pip install mysql-connector\n",
    "import mysql.connector"
   ]
  },
  {
   "cell_type": "markdown",
   "id": "ba4753b6",
   "metadata": {},
   "source": [
    "# IMPORTING ALL THE NECESSASRY LAIBRARIES"
   ]
  },
  {
   "cell_type": "code",
   "execution_count": 2,
   "id": "8d29aab1",
   "metadata": {},
   "outputs": [],
   "source": [
    "# Importing the necessary libraries\n",
    "import pandas as pd\n",
    "import numpy as np\n",
    "import seaborn as sns\n",
    "import matplotlib.pyplot as plt\n",
    "import warnings\n",
    "warnings.filterwarnings('ignore')\n",
    "\n",
    "from sklearn.preprocessing import LabelEncoder\n",
    "from sklearn.model_selection import train_test_split, GridSearchCV, RandomizedSearchCV\n",
    "from imblearn.over_sampling import SMOTE\n",
    "from sklearn.metrics import accuracy_score, classification_report, confusion_matrix"
   ]
  },
  {
   "cell_type": "markdown",
   "id": "27a29ec5",
   "metadata": {},
   "source": [
    "# DATABASE DETAILS:"
   ]
  },
  {
   "cell_type": "markdown",
   "id": "a671327f",
   "metadata": {},
   "source": [
    "DB Name : project_sales \n",
    "Table Name : data \n",
    "Host : 18.136.157.135 \n",
    "Port : 3306 \n",
    "Username : dm_team2 \n",
    "Password : DM!$Team&27@9!20!"
   ]
  },
  {
   "cell_type": "code",
   "execution_count": 3,
   "id": "da117cc5",
   "metadata": {},
   "outputs": [],
   "source": [
    "# Connecting to database\n",
    "db = mysql.connector.connect(host = \"18.136.157.135\", user = \"dm_team2\",\n",
    "                             password = \"DM!$Team&27@9!20!\", database = \"project_sales\")"
   ]
  },
  {
   "cell_type": "code",
   "execution_count": 4,
   "id": "30e6beae",
   "metadata": {},
   "outputs": [
    {
     "name": "stdout",
     "output_type": "stream",
     "text": [
      "('information_schema',)\n",
      "('project_sales',)\n"
     ]
    }
   ],
   "source": [
    "cursor = db.cursor()\n",
    "cursor.execute(\"show databases\")\n",
    "for i in cursor:\n",
    "    print(i)"
   ]
  },
  {
   "cell_type": "code",
   "execution_count": 5,
   "id": "fa5e2b2c",
   "metadata": {},
   "outputs": [
    {
     "name": "stdout",
     "output_type": "stream",
     "text": [
      "  Tables_in_project_sales\n",
      "0                    data\n"
     ]
    }
   ],
   "source": [
    "# Check the number of database available on the server\n",
    "db_tables = pd.read_sql_query(\"show tables\", db)\n",
    "\n",
    "print(db_tables)"
   ]
  },
  {
   "cell_type": "code",
   "execution_count": 6,
   "id": "c1a1c752",
   "metadata": {},
   "outputs": [
    {
     "name": "stdout",
     "output_type": "stream",
     "text": [
      "           Field          Type Null Key Default Extra\n",
      "0        Created  varchar(150)  YES        None      \n",
      "1     Product_ID  varchar(150)  YES        None      \n",
      "2         Source  varchar(150)  YES        None      \n",
      "3         Mobile  varchar(150)  YES        None      \n",
      "4          EMAIL  varchar(150)  YES        None      \n",
      "5    Sales_Agent  varchar(255)  YES        None      \n",
      "6       Location  varchar(255)  YES        None      \n",
      "7  Delivery_Mode  varchar(255)  YES        None      \n",
      "8         Status  varchar(255)  YES        None      \n"
     ]
    }
   ],
   "source": [
    "table_name = \"data\"\n",
    "table_details = pd.read_sql_query(f'DESCRIBE {table_name}', db)\n",
    "print(table_details)"
   ]
  },
  {
   "cell_type": "code",
   "execution_count": 7,
   "id": "7f750419",
   "metadata": {},
   "outputs": [
    {
     "data": {
      "text/html": [
       "<div>\n",
       "<style scoped>\n",
       "    .dataframe tbody tr th:only-of-type {\n",
       "        vertical-align: middle;\n",
       "    }\n",
       "\n",
       "    .dataframe tbody tr th {\n",
       "        vertical-align: top;\n",
       "    }\n",
       "\n",
       "    .dataframe thead th {\n",
       "        text-align: right;\n",
       "    }\n",
       "</style>\n",
       "<table border=\"1\" class=\"dataframe\">\n",
       "  <thead>\n",
       "    <tr style=\"text-align: right;\">\n",
       "      <th></th>\n",
       "      <th>Created</th>\n",
       "      <th>Product_ID</th>\n",
       "      <th>Source</th>\n",
       "      <th>Mobile</th>\n",
       "      <th>EMAIL</th>\n",
       "      <th>Sales_Agent</th>\n",
       "      <th>Location</th>\n",
       "      <th>Delivery_Mode</th>\n",
       "      <th>Status</th>\n",
       "    </tr>\n",
       "  </thead>\n",
       "  <tbody>\n",
       "    <tr>\n",
       "      <th>0</th>\n",
       "      <td>14-11-2018 10:05</td>\n",
       "      <td></td>\n",
       "      <td>Website</td>\n",
       "      <td>984XXXXXXX</td>\n",
       "      <td>aXXXXXXX@gmail.com</td>\n",
       "      <td>Sales-Agent-11</td>\n",
       "      <td></td>\n",
       "      <td>Mode-5</td>\n",
       "      <td>Open</td>\n",
       "    </tr>\n",
       "    <tr>\n",
       "      <th>1</th>\n",
       "      <td>14-11-2018 09:22</td>\n",
       "      <td></td>\n",
       "      <td>Website</td>\n",
       "      <td>XXXXXXX</td>\n",
       "      <td>#VALUE!</td>\n",
       "      <td>Sales-Agent-10</td>\n",
       "      <td></td>\n",
       "      <td>Mode-5</td>\n",
       "      <td>Open</td>\n",
       "    </tr>\n",
       "    <tr>\n",
       "      <th>2</th>\n",
       "      <td>14-11-2018 09:21</td>\n",
       "      <td></td>\n",
       "      <td>Website</td>\n",
       "      <td>XXXXXXX</td>\n",
       "      <td>dXXXXXXX@yahoo.com</td>\n",
       "      <td>Sales-Agent-10</td>\n",
       "      <td></td>\n",
       "      <td>Mode-5</td>\n",
       "      <td>Open</td>\n",
       "    </tr>\n",
       "    <tr>\n",
       "      <th>3</th>\n",
       "      <td>14-11-2018 08:46</td>\n",
       "      <td></td>\n",
       "      <td>Website</td>\n",
       "      <td>XXXXXXX</td>\n",
       "      <td>wXXXXXXX@gmail.com</td>\n",
       "      <td>Sales-Agent-10</td>\n",
       "      <td></td>\n",
       "      <td>Mode-5</td>\n",
       "      <td>Open</td>\n",
       "    </tr>\n",
       "    <tr>\n",
       "      <th>4</th>\n",
       "      <td>14-11-2018 07:34</td>\n",
       "      <td></td>\n",
       "      <td>Website</td>\n",
       "      <td>XXXXXXX</td>\n",
       "      <td>cXXXXXXX@gmail.com</td>\n",
       "      <td>Sales-Agent-10</td>\n",
       "      <td></td>\n",
       "      <td>Mode-5</td>\n",
       "      <td>Open</td>\n",
       "    </tr>\n",
       "    <tr>\n",
       "      <th>...</th>\n",
       "      <td>...</td>\n",
       "      <td>...</td>\n",
       "      <td>...</td>\n",
       "      <td>...</td>\n",
       "      <td>...</td>\n",
       "      <td>...</td>\n",
       "      <td>...</td>\n",
       "      <td>...</td>\n",
       "      <td>...</td>\n",
       "    </tr>\n",
       "    <tr>\n",
       "      <th>7417</th>\n",
       "      <td>28-04-2018 09:45</td>\n",
       "      <td>9</td>\n",
       "      <td>Call</td>\n",
       "      <td></td>\n",
       "      <td>aXXXXXXX@gmail.com</td>\n",
       "      <td>Sales-Agent-6</td>\n",
       "      <td>Mumbai</td>\n",
       "      <td>Mode-4</td>\n",
       "      <td>LOST</td>\n",
       "    </tr>\n",
       "    <tr>\n",
       "      <th>7418</th>\n",
       "      <td>28-04-2018 09:43</td>\n",
       "      <td>15</td>\n",
       "      <td>Call</td>\n",
       "      <td></td>\n",
       "      <td>#VALUE!</td>\n",
       "      <td>Sales-Agent-12</td>\n",
       "      <td>Other Locations</td>\n",
       "      <td>Mode-5</td>\n",
       "      <td>LOST</td>\n",
       "    </tr>\n",
       "    <tr>\n",
       "      <th>7419</th>\n",
       "      <td>28-04-2018 09:20</td>\n",
       "      <td>5</td>\n",
       "      <td>Live Chat-Direct</td>\n",
       "      <td></td>\n",
       "      <td>sXXXXXXX@gmail.com</td>\n",
       "      <td>Sales-Agent-11</td>\n",
       "      <td>Bangalore</td>\n",
       "      <td>Mode-1</td>\n",
       "      <td>Not Responding</td>\n",
       "    </tr>\n",
       "    <tr>\n",
       "      <th>7420</th>\n",
       "      <td>28-04-2018 08:04</td>\n",
       "      <td>21</td>\n",
       "      <td>CRM form</td>\n",
       "      <td></td>\n",
       "      <td>YXXXXXXX@gmail.com</td>\n",
       "      <td>Sales-Agent-4</td>\n",
       "      <td>Other Locations</td>\n",
       "      <td>Mode-1</td>\n",
       "      <td>Just Enquiry</td>\n",
       "    </tr>\n",
       "    <tr>\n",
       "      <th>7421</th>\n",
       "      <td>28-04-2018 07:54</td>\n",
       "      <td>25</td>\n",
       "      <td>Website</td>\n",
       "      <td></td>\n",
       "      <td>cXXXXXXX@gmail.com</td>\n",
       "      <td>Sales-Agent-3</td>\n",
       "      <td>Chennai</td>\n",
       "      <td>Mode-1</td>\n",
       "      <td>CONVERTED</td>\n",
       "    </tr>\n",
       "  </tbody>\n",
       "</table>\n",
       "<p>7422 rows × 9 columns</p>\n",
       "</div>"
      ],
      "text/plain": [
       "               Created Product_ID            Source      Mobile  \\\n",
       "0     14-11-2018 10:05                      Website  984XXXXXXX   \n",
       "1     14-11-2018 09:22                      Website     XXXXXXX   \n",
       "2     14-11-2018 09:21                      Website     XXXXXXX   \n",
       "3     14-11-2018 08:46                      Website     XXXXXXX   \n",
       "4     14-11-2018 07:34                      Website     XXXXXXX   \n",
       "...                ...        ...               ...         ...   \n",
       "7417  28-04-2018 09:45          9              Call               \n",
       "7418  28-04-2018 09:43         15              Call               \n",
       "7419  28-04-2018 09:20          5  Live Chat-Direct               \n",
       "7420  28-04-2018 08:04         21          CRM form               \n",
       "7421  28-04-2018 07:54         25           Website               \n",
       "\n",
       "                   EMAIL     Sales_Agent         Location Delivery_Mode  \\\n",
       "0     aXXXXXXX@gmail.com  Sales-Agent-11                         Mode-5   \n",
       "1                #VALUE!  Sales-Agent-10                         Mode-5   \n",
       "2     dXXXXXXX@yahoo.com  Sales-Agent-10                         Mode-5   \n",
       "3     wXXXXXXX@gmail.com  Sales-Agent-10                         Mode-5   \n",
       "4     cXXXXXXX@gmail.com  Sales-Agent-10                         Mode-5   \n",
       "...                  ...             ...              ...           ...   \n",
       "7417  aXXXXXXX@gmail.com   Sales-Agent-6           Mumbai        Mode-4   \n",
       "7418             #VALUE!  Sales-Agent-12  Other Locations        Mode-5   \n",
       "7419  sXXXXXXX@gmail.com  Sales-Agent-11        Bangalore        Mode-1   \n",
       "7420  YXXXXXXX@gmail.com   Sales-Agent-4  Other Locations        Mode-1   \n",
       "7421  cXXXXXXX@gmail.com   Sales-Agent-3          Chennai        Mode-1   \n",
       "\n",
       "              Status  \n",
       "0               Open  \n",
       "1               Open  \n",
       "2               Open  \n",
       "3               Open  \n",
       "4               Open  \n",
       "...              ...  \n",
       "7417            LOST  \n",
       "7418            LOST  \n",
       "7419  Not Responding  \n",
       "7420    Just Enquiry  \n",
       "7421       CONVERTED  \n",
       "\n",
       "[7422 rows x 9 columns]"
      ]
     },
     "execution_count": 7,
     "metadata": {},
     "output_type": "execute_result"
    }
   ],
   "source": [
    "query = \"select * from data\"         # SQL statement\n",
    "sales = pd.read_sql(query, db)    # what query and where to excute\n",
    "sales"
   ]
  },
  {
   "cell_type": "markdown",
   "id": "05b57a28",
   "metadata": {},
   "source": [
    "## The analysis of how different columns relate to the target variable \"Status\" has been conducted. Here's a brief summary for each column:\n",
    "\n",
    "### Created:\n",
    "The 'Created' column, which likely represents the timestamp of when the sales lead was created, shows varying counts across different 'Status' categories. This suggests that the time of lead creation might influence the eventual status of the lead.\n",
    "\n",
    "### Product_ID:\n",
    "The relationship between 'Product_ID' and 'Status' would show if certain products are more likely to result in a sale or a lost lead. However, this is a numeric column with a small number of unique values, so a more detailed analysis would be needed to draw conclusions.\n",
    "\n",
    "### Source:\n",
    "This column indicates the source of the lead. The relationship between 'Source' and 'Status' can reveal which sources are more effective in generating successful leads.\n",
    "\n",
    "### Mobile:\n",
    "Although this column has a significant number of missing values, the relationship between the provided mobile numbers and 'Status' could indicate if the presence of a mobile number affects the lead's outcome.\n",
    "\n",
    "### EMAIL:\n",
    "The 'EMAIL' column has no missing values, and its relationship with 'Status' could show if certain email domains or patterns correlate with lead outcomes.\n",
    "\n",
    "### Sales_Agent:\n",
    "Different sales agents may have varying success rates, and the relationship between 'Sales_Agent' and 'Status' can highlight agent performance.\n",
    "\n",
    "### Location:\n",
    "The 'Location' column's relationship with 'Status' could indicate if geographical factors play a role in the success of sales leads.\n",
    "\n",
    "### Delivery_Mode:\n",
    "This column's relationship with 'Status' might reveal if the mode of delivery influences the lead's outcome."
   ]
  },
  {
   "cell_type": "markdown",
   "id": "2b1b81c8",
   "metadata": {},
   "source": [
    "# DOMAIN ANALISIS"
   ]
  },
  {
   "cell_type": "code",
   "execution_count": 8,
   "id": "3afc076f",
   "metadata": {},
   "outputs": [
    {
     "data": {
      "text/html": [
       "<div>\n",
       "<style scoped>\n",
       "    .dataframe tbody tr th:only-of-type {\n",
       "        vertical-align: middle;\n",
       "    }\n",
       "\n",
       "    .dataframe tbody tr th {\n",
       "        vertical-align: top;\n",
       "    }\n",
       "\n",
       "    .dataframe thead th {\n",
       "        text-align: right;\n",
       "    }\n",
       "</style>\n",
       "<table border=\"1\" class=\"dataframe\">\n",
       "  <thead>\n",
       "    <tr style=\"text-align: right;\">\n",
       "      <th></th>\n",
       "      <th>column</th>\n",
       "      <th>Data Type</th>\n",
       "      <th>Unique count</th>\n",
       "      <th>Missing values</th>\n",
       "      <th>% Missing values</th>\n",
       "    </tr>\n",
       "  </thead>\n",
       "  <tbody>\n",
       "    <tr>\n",
       "      <th>0</th>\n",
       "      <td>Created</td>\n",
       "      <td>object</td>\n",
       "      <td>6752</td>\n",
       "      <td>0</td>\n",
       "      <td>0.0</td>\n",
       "    </tr>\n",
       "    <tr>\n",
       "      <th>1</th>\n",
       "      <td>Product_ID</td>\n",
       "      <td>object</td>\n",
       "      <td>30</td>\n",
       "      <td>0</td>\n",
       "      <td>0.0</td>\n",
       "    </tr>\n",
       "    <tr>\n",
       "      <th>2</th>\n",
       "      <td>Source</td>\n",
       "      <td>object</td>\n",
       "      <td>26</td>\n",
       "      <td>0</td>\n",
       "      <td>0.0</td>\n",
       "    </tr>\n",
       "    <tr>\n",
       "      <th>3</th>\n",
       "      <td>Mobile</td>\n",
       "      <td>object</td>\n",
       "      <td>487</td>\n",
       "      <td>0</td>\n",
       "      <td>0.0</td>\n",
       "    </tr>\n",
       "    <tr>\n",
       "      <th>4</th>\n",
       "      <td>EMAIL</td>\n",
       "      <td>object</td>\n",
       "      <td>883</td>\n",
       "      <td>0</td>\n",
       "      <td>0.0</td>\n",
       "    </tr>\n",
       "    <tr>\n",
       "      <th>5</th>\n",
       "      <td>Sales_Agent</td>\n",
       "      <td>object</td>\n",
       "      <td>13</td>\n",
       "      <td>0</td>\n",
       "      <td>0.0</td>\n",
       "    </tr>\n",
       "    <tr>\n",
       "      <th>6</th>\n",
       "      <td>Location</td>\n",
       "      <td>object</td>\n",
       "      <td>18</td>\n",
       "      <td>0</td>\n",
       "      <td>0.0</td>\n",
       "    </tr>\n",
       "    <tr>\n",
       "      <th>7</th>\n",
       "      <td>Delivery_Mode</td>\n",
       "      <td>object</td>\n",
       "      <td>5</td>\n",
       "      <td>0</td>\n",
       "      <td>0.0</td>\n",
       "    </tr>\n",
       "    <tr>\n",
       "      <th>8</th>\n",
       "      <td>Status</td>\n",
       "      <td>object</td>\n",
       "      <td>11</td>\n",
       "      <td>0</td>\n",
       "      <td>0.0</td>\n",
       "    </tr>\n",
       "  </tbody>\n",
       "</table>\n",
       "</div>"
      ],
      "text/plain": [
       "          column Data Type  Unique count  Missing values  % Missing values\n",
       "0        Created    object          6752               0               0.0\n",
       "1     Product_ID    object            30               0               0.0\n",
       "2         Source    object            26               0               0.0\n",
       "3         Mobile    object           487               0               0.0\n",
       "4          EMAIL    object           883               0               0.0\n",
       "5    Sales_Agent    object            13               0               0.0\n",
       "6       Location    object            18               0               0.0\n",
       "7  Delivery_Mode    object             5               0               0.0\n",
       "8         Status    object            11               0               0.0"
      ]
     },
     "execution_count": 8,
     "metadata": {},
     "output_type": "execute_result"
    }
   ],
   "source": [
    "domain_analysis = pd.DataFrame({\n",
    "    \"Data Type\" : sales.dtypes,\n",
    "    \"Unique count\" : sales.nunique(),\n",
    "    \"Missing values\" : sales.isnull().sum(),\n",
    "    \"% Missing values\" : (sales.isnull().sum()/len(sales)*100)\n",
    "}).reset_index()\n",
    "\n",
    "domain_analysis.rename(columns = {\"index\" : \"column\"}, inplace = True)\n",
    "\n",
    "domain_analysis"
   ]
  },
  {
   "cell_type": "markdown",
   "id": "6871179a",
   "metadata": {},
   "source": [
    "### The domain analysis of the dataset reveals the following insights:\n",
    "    \n",
    "1.The 'Created' column is of object type with no missing values, indicating it likely contains date-time information.\n",
    "\n",
    "2.'Product_ID' is a numeric column with a small number of unique values and a few missing entries.\n",
    "\n",
    "3.'Source', 'Mobile', 'EMAIL', 'Sales_Agent', 'Location', 'Delivery_Mode', and 'Status' are all object types, suggesting they contain categorical data.\n",
    "\n",
    "4.The 'Mobile' column has a significant number of missing values, over 24%.\n",
    "\n",
    "5.'Product_ID' and 'Location' have a small percentage of missing values, less than 1%.\n",
    "\n",
    "6.'Source' and 'Sales_Agent' have very few missing values.\n",
    "\n",
    "7.'EMAIL', 'Delivery_Mode', and 'Status' columns have no missing values."
   ]
  },
  {
   "cell_type": "markdown",
   "id": "b6ec67a7",
   "metadata": {},
   "source": [
    "# BASIC CHECKS"
   ]
  },
  {
   "cell_type": "code",
   "execution_count": 9,
   "id": "4dcb1cab",
   "metadata": {},
   "outputs": [
    {
     "data": {
      "text/html": [
       "<div>\n",
       "<style scoped>\n",
       "    .dataframe tbody tr th:only-of-type {\n",
       "        vertical-align: middle;\n",
       "    }\n",
       "\n",
       "    .dataframe tbody tr th {\n",
       "        vertical-align: top;\n",
       "    }\n",
       "\n",
       "    .dataframe thead th {\n",
       "        text-align: right;\n",
       "    }\n",
       "</style>\n",
       "<table border=\"1\" class=\"dataframe\">\n",
       "  <thead>\n",
       "    <tr style=\"text-align: right;\">\n",
       "      <th></th>\n",
       "      <th>Created</th>\n",
       "      <th>Product_ID</th>\n",
       "      <th>Source</th>\n",
       "      <th>Mobile</th>\n",
       "      <th>EMAIL</th>\n",
       "      <th>Sales_Agent</th>\n",
       "      <th>Location</th>\n",
       "      <th>Delivery_Mode</th>\n",
       "      <th>Status</th>\n",
       "    </tr>\n",
       "  </thead>\n",
       "  <tbody>\n",
       "    <tr>\n",
       "      <th>0</th>\n",
       "      <td>14-11-2018 10:05</td>\n",
       "      <td></td>\n",
       "      <td>Website</td>\n",
       "      <td>984XXXXXXX</td>\n",
       "      <td>aXXXXXXX@gmail.com</td>\n",
       "      <td>Sales-Agent-11</td>\n",
       "      <td></td>\n",
       "      <td>Mode-5</td>\n",
       "      <td>Open</td>\n",
       "    </tr>\n",
       "    <tr>\n",
       "      <th>1</th>\n",
       "      <td>14-11-2018 09:22</td>\n",
       "      <td></td>\n",
       "      <td>Website</td>\n",
       "      <td>XXXXXXX</td>\n",
       "      <td>#VALUE!</td>\n",
       "      <td>Sales-Agent-10</td>\n",
       "      <td></td>\n",
       "      <td>Mode-5</td>\n",
       "      <td>Open</td>\n",
       "    </tr>\n",
       "    <tr>\n",
       "      <th>2</th>\n",
       "      <td>14-11-2018 09:21</td>\n",
       "      <td></td>\n",
       "      <td>Website</td>\n",
       "      <td>XXXXXXX</td>\n",
       "      <td>dXXXXXXX@yahoo.com</td>\n",
       "      <td>Sales-Agent-10</td>\n",
       "      <td></td>\n",
       "      <td>Mode-5</td>\n",
       "      <td>Open</td>\n",
       "    </tr>\n",
       "    <tr>\n",
       "      <th>3</th>\n",
       "      <td>14-11-2018 08:46</td>\n",
       "      <td></td>\n",
       "      <td>Website</td>\n",
       "      <td>XXXXXXX</td>\n",
       "      <td>wXXXXXXX@gmail.com</td>\n",
       "      <td>Sales-Agent-10</td>\n",
       "      <td></td>\n",
       "      <td>Mode-5</td>\n",
       "      <td>Open</td>\n",
       "    </tr>\n",
       "    <tr>\n",
       "      <th>4</th>\n",
       "      <td>14-11-2018 07:34</td>\n",
       "      <td></td>\n",
       "      <td>Website</td>\n",
       "      <td>XXXXXXX</td>\n",
       "      <td>cXXXXXXX@gmail.com</td>\n",
       "      <td>Sales-Agent-10</td>\n",
       "      <td></td>\n",
       "      <td>Mode-5</td>\n",
       "      <td>Open</td>\n",
       "    </tr>\n",
       "  </tbody>\n",
       "</table>\n",
       "</div>"
      ],
      "text/plain": [
       "            Created Product_ID   Source      Mobile               EMAIL  \\\n",
       "0  14-11-2018 10:05             Website  984XXXXXXX  aXXXXXXX@gmail.com   \n",
       "1  14-11-2018 09:22             Website     XXXXXXX             #VALUE!   \n",
       "2  14-11-2018 09:21             Website     XXXXXXX  dXXXXXXX@yahoo.com   \n",
       "3  14-11-2018 08:46             Website     XXXXXXX  wXXXXXXX@gmail.com   \n",
       "4  14-11-2018 07:34             Website     XXXXXXX  cXXXXXXX@gmail.com   \n",
       "\n",
       "      Sales_Agent Location Delivery_Mode Status  \n",
       "0  Sales-Agent-11                 Mode-5   Open  \n",
       "1  Sales-Agent-10                 Mode-5   Open  \n",
       "2  Sales-Agent-10                 Mode-5   Open  \n",
       "3  Sales-Agent-10                 Mode-5   Open  \n",
       "4  Sales-Agent-10                 Mode-5   Open  "
      ]
     },
     "execution_count": 9,
     "metadata": {},
     "output_type": "execute_result"
    }
   ],
   "source": [
    "# To check first five rows\n",
    "sales.head()"
   ]
  },
  {
   "cell_type": "code",
   "execution_count": 10,
   "id": "d46b2bcb",
   "metadata": {},
   "outputs": [
    {
     "data": {
      "text/html": [
       "<div>\n",
       "<style scoped>\n",
       "    .dataframe tbody tr th:only-of-type {\n",
       "        vertical-align: middle;\n",
       "    }\n",
       "\n",
       "    .dataframe tbody tr th {\n",
       "        vertical-align: top;\n",
       "    }\n",
       "\n",
       "    .dataframe thead th {\n",
       "        text-align: right;\n",
       "    }\n",
       "</style>\n",
       "<table border=\"1\" class=\"dataframe\">\n",
       "  <thead>\n",
       "    <tr style=\"text-align: right;\">\n",
       "      <th></th>\n",
       "      <th>Created</th>\n",
       "      <th>Product_ID</th>\n",
       "      <th>Source</th>\n",
       "      <th>Mobile</th>\n",
       "      <th>EMAIL</th>\n",
       "      <th>Sales_Agent</th>\n",
       "      <th>Location</th>\n",
       "      <th>Delivery_Mode</th>\n",
       "      <th>Status</th>\n",
       "    </tr>\n",
       "  </thead>\n",
       "  <tbody>\n",
       "    <tr>\n",
       "      <th>7417</th>\n",
       "      <td>28-04-2018 09:45</td>\n",
       "      <td>9</td>\n",
       "      <td>Call</td>\n",
       "      <td></td>\n",
       "      <td>aXXXXXXX@gmail.com</td>\n",
       "      <td>Sales-Agent-6</td>\n",
       "      <td>Mumbai</td>\n",
       "      <td>Mode-4</td>\n",
       "      <td>LOST</td>\n",
       "    </tr>\n",
       "    <tr>\n",
       "      <th>7418</th>\n",
       "      <td>28-04-2018 09:43</td>\n",
       "      <td>15</td>\n",
       "      <td>Call</td>\n",
       "      <td></td>\n",
       "      <td>#VALUE!</td>\n",
       "      <td>Sales-Agent-12</td>\n",
       "      <td>Other Locations</td>\n",
       "      <td>Mode-5</td>\n",
       "      <td>LOST</td>\n",
       "    </tr>\n",
       "    <tr>\n",
       "      <th>7419</th>\n",
       "      <td>28-04-2018 09:20</td>\n",
       "      <td>5</td>\n",
       "      <td>Live Chat-Direct</td>\n",
       "      <td></td>\n",
       "      <td>sXXXXXXX@gmail.com</td>\n",
       "      <td>Sales-Agent-11</td>\n",
       "      <td>Bangalore</td>\n",
       "      <td>Mode-1</td>\n",
       "      <td>Not Responding</td>\n",
       "    </tr>\n",
       "    <tr>\n",
       "      <th>7420</th>\n",
       "      <td>28-04-2018 08:04</td>\n",
       "      <td>21</td>\n",
       "      <td>CRM form</td>\n",
       "      <td></td>\n",
       "      <td>YXXXXXXX@gmail.com</td>\n",
       "      <td>Sales-Agent-4</td>\n",
       "      <td>Other Locations</td>\n",
       "      <td>Mode-1</td>\n",
       "      <td>Just Enquiry</td>\n",
       "    </tr>\n",
       "    <tr>\n",
       "      <th>7421</th>\n",
       "      <td>28-04-2018 07:54</td>\n",
       "      <td>25</td>\n",
       "      <td>Website</td>\n",
       "      <td></td>\n",
       "      <td>cXXXXXXX@gmail.com</td>\n",
       "      <td>Sales-Agent-3</td>\n",
       "      <td>Chennai</td>\n",
       "      <td>Mode-1</td>\n",
       "      <td>CONVERTED</td>\n",
       "    </tr>\n",
       "  </tbody>\n",
       "</table>\n",
       "</div>"
      ],
      "text/plain": [
       "               Created Product_ID            Source Mobile  \\\n",
       "7417  28-04-2018 09:45          9              Call          \n",
       "7418  28-04-2018 09:43         15              Call          \n",
       "7419  28-04-2018 09:20          5  Live Chat-Direct          \n",
       "7420  28-04-2018 08:04         21          CRM form          \n",
       "7421  28-04-2018 07:54         25           Website          \n",
       "\n",
       "                   EMAIL     Sales_Agent         Location Delivery_Mode  \\\n",
       "7417  aXXXXXXX@gmail.com   Sales-Agent-6           Mumbai        Mode-4   \n",
       "7418             #VALUE!  Sales-Agent-12  Other Locations        Mode-5   \n",
       "7419  sXXXXXXX@gmail.com  Sales-Agent-11        Bangalore        Mode-1   \n",
       "7420  YXXXXXXX@gmail.com   Sales-Agent-4  Other Locations        Mode-1   \n",
       "7421  cXXXXXXX@gmail.com   Sales-Agent-3          Chennai        Mode-1   \n",
       "\n",
       "              Status  \n",
       "7417            LOST  \n",
       "7418            LOST  \n",
       "7419  Not Responding  \n",
       "7420    Just Enquiry  \n",
       "7421       CONVERTED  "
      ]
     },
     "execution_count": 10,
     "metadata": {},
     "output_type": "execute_result"
    }
   ],
   "source": [
    "# To check last five rows\n",
    "sales.tail()"
   ]
  },
  {
   "cell_type": "code",
   "execution_count": 11,
   "id": "9f776dd8",
   "metadata": {},
   "outputs": [
    {
     "name": "stdout",
     "output_type": "stream",
     "text": [
      "<class 'pandas.core.frame.DataFrame'>\n",
      "RangeIndex: 7422 entries, 0 to 7421\n",
      "Data columns (total 9 columns):\n",
      " #   Column         Non-Null Count  Dtype \n",
      "---  ------         --------------  ----- \n",
      " 0   Created        7422 non-null   object\n",
      " 1   Product_ID     7422 non-null   object\n",
      " 2   Source         7422 non-null   object\n",
      " 3   Mobile         7422 non-null   object\n",
      " 4   EMAIL          7422 non-null   object\n",
      " 5   Sales_Agent    7422 non-null   object\n",
      " 6   Location       7422 non-null   object\n",
      " 7   Delivery_Mode  7422 non-null   object\n",
      " 8   Status         7422 non-null   object\n",
      "dtypes: object(9)\n",
      "memory usage: 522.0+ KB\n"
     ]
    }
   ],
   "source": [
    "# To check data type and null values for all columns\n",
    "sales.info()"
   ]
  },
  {
   "cell_type": "code",
   "execution_count": 12,
   "id": "55702562",
   "metadata": {},
   "outputs": [
    {
     "data": {
      "text/html": [
       "<div>\n",
       "<style scoped>\n",
       "    .dataframe tbody tr th:only-of-type {\n",
       "        vertical-align: middle;\n",
       "    }\n",
       "\n",
       "    .dataframe tbody tr th {\n",
       "        vertical-align: top;\n",
       "    }\n",
       "\n",
       "    .dataframe thead th {\n",
       "        text-align: right;\n",
       "    }\n",
       "</style>\n",
       "<table border=\"1\" class=\"dataframe\">\n",
       "  <thead>\n",
       "    <tr style=\"text-align: right;\">\n",
       "      <th></th>\n",
       "      <th>Created</th>\n",
       "      <th>Product_ID</th>\n",
       "      <th>Source</th>\n",
       "      <th>Mobile</th>\n",
       "      <th>EMAIL</th>\n",
       "      <th>Sales_Agent</th>\n",
       "      <th>Location</th>\n",
       "      <th>Delivery_Mode</th>\n",
       "      <th>Status</th>\n",
       "    </tr>\n",
       "  </thead>\n",
       "  <tbody>\n",
       "    <tr>\n",
       "      <th>count</th>\n",
       "      <td>7422</td>\n",
       "      <td>7422</td>\n",
       "      <td>7422</td>\n",
       "      <td>7422</td>\n",
       "      <td>7422</td>\n",
       "      <td>7422</td>\n",
       "      <td>7422</td>\n",
       "      <td>7422</td>\n",
       "      <td>7422</td>\n",
       "    </tr>\n",
       "    <tr>\n",
       "      <th>unique</th>\n",
       "      <td>6752</td>\n",
       "      <td>30</td>\n",
       "      <td>26</td>\n",
       "      <td>487</td>\n",
       "      <td>883</td>\n",
       "      <td>13</td>\n",
       "      <td>18</td>\n",
       "      <td>5</td>\n",
       "      <td>11</td>\n",
       "    </tr>\n",
       "    <tr>\n",
       "      <th>top</th>\n",
       "      <td>26-09-2018 11:30</td>\n",
       "      <td>18</td>\n",
       "      <td>Call</td>\n",
       "      <td></td>\n",
       "      <td>#VALUE!</td>\n",
       "      <td>Sales-Agent-4</td>\n",
       "      <td>Other Locations</td>\n",
       "      <td>Mode-5</td>\n",
       "      <td>Junk Lead</td>\n",
       "    </tr>\n",
       "    <tr>\n",
       "      <th>freq</th>\n",
       "      <td>4</td>\n",
       "      <td>1711</td>\n",
       "      <td>2547</td>\n",
       "      <td>1810</td>\n",
       "      <td>1701</td>\n",
       "      <td>1500</td>\n",
       "      <td>2500</td>\n",
       "      <td>2975</td>\n",
       "      <td>1536</td>\n",
       "    </tr>\n",
       "  </tbody>\n",
       "</table>\n",
       "</div>"
      ],
      "text/plain": [
       "                 Created Product_ID Source Mobile    EMAIL    Sales_Agent  \\\n",
       "count               7422       7422   7422   7422     7422           7422   \n",
       "unique              6752         30     26    487      883             13   \n",
       "top     26-09-2018 11:30         18   Call         #VALUE!  Sales-Agent-4   \n",
       "freq                   4       1711   2547   1810     1701           1500   \n",
       "\n",
       "               Location Delivery_Mode     Status  \n",
       "count              7422          7422       7422  \n",
       "unique               18             5         11  \n",
       "top     Other Locations        Mode-5  Junk Lead  \n",
       "freq               2500          2975       1536  "
      ]
     },
     "execution_count": 12,
     "metadata": {},
     "output_type": "execute_result"
    }
   ],
   "source": [
    "# Used to view some basic statistical details like percentile,mean,std etc.\n",
    "sales.describe()"
   ]
  },
  {
   "cell_type": "code",
   "execution_count": 13,
   "id": "cc0fe2db",
   "metadata": {},
   "outputs": [
    {
     "data": {
      "text/html": [
       "<div>\n",
       "<style scoped>\n",
       "    .dataframe tbody tr th:only-of-type {\n",
       "        vertical-align: middle;\n",
       "    }\n",
       "\n",
       "    .dataframe tbody tr th {\n",
       "        vertical-align: top;\n",
       "    }\n",
       "\n",
       "    .dataframe thead th {\n",
       "        text-align: right;\n",
       "    }\n",
       "</style>\n",
       "<table border=\"1\" class=\"dataframe\">\n",
       "  <thead>\n",
       "    <tr style=\"text-align: right;\">\n",
       "      <th></th>\n",
       "      <th>Created</th>\n",
       "      <th>Product_ID</th>\n",
       "      <th>Source</th>\n",
       "      <th>Mobile</th>\n",
       "      <th>EMAIL</th>\n",
       "      <th>Sales_Agent</th>\n",
       "      <th>Location</th>\n",
       "      <th>Delivery_Mode</th>\n",
       "      <th>Status</th>\n",
       "    </tr>\n",
       "  </thead>\n",
       "  <tbody>\n",
       "    <tr>\n",
       "      <th>count</th>\n",
       "      <td>7422</td>\n",
       "      <td>7422</td>\n",
       "      <td>7422</td>\n",
       "      <td>7422</td>\n",
       "      <td>7422</td>\n",
       "      <td>7422</td>\n",
       "      <td>7422</td>\n",
       "      <td>7422</td>\n",
       "      <td>7422</td>\n",
       "    </tr>\n",
       "    <tr>\n",
       "      <th>unique</th>\n",
       "      <td>6752</td>\n",
       "      <td>30</td>\n",
       "      <td>26</td>\n",
       "      <td>487</td>\n",
       "      <td>883</td>\n",
       "      <td>13</td>\n",
       "      <td>18</td>\n",
       "      <td>5</td>\n",
       "      <td>11</td>\n",
       "    </tr>\n",
       "    <tr>\n",
       "      <th>top</th>\n",
       "      <td>26-09-2018 11:30</td>\n",
       "      <td>18</td>\n",
       "      <td>Call</td>\n",
       "      <td></td>\n",
       "      <td>#VALUE!</td>\n",
       "      <td>Sales-Agent-4</td>\n",
       "      <td>Other Locations</td>\n",
       "      <td>Mode-5</td>\n",
       "      <td>Junk Lead</td>\n",
       "    </tr>\n",
       "    <tr>\n",
       "      <th>freq</th>\n",
       "      <td>4</td>\n",
       "      <td>1711</td>\n",
       "      <td>2547</td>\n",
       "      <td>1810</td>\n",
       "      <td>1701</td>\n",
       "      <td>1500</td>\n",
       "      <td>2500</td>\n",
       "      <td>2975</td>\n",
       "      <td>1536</td>\n",
       "    </tr>\n",
       "  </tbody>\n",
       "</table>\n",
       "</div>"
      ],
      "text/plain": [
       "                 Created Product_ID Source Mobile    EMAIL    Sales_Agent  \\\n",
       "count               7422       7422   7422   7422     7422           7422   \n",
       "unique              6752         30     26    487      883             13   \n",
       "top     26-09-2018 11:30         18   Call         #VALUE!  Sales-Agent-4   \n",
       "freq                   4       1711   2547   1810     1701           1500   \n",
       "\n",
       "               Location Delivery_Mode     Status  \n",
       "count              7422          7422       7422  \n",
       "unique               18             5         11  \n",
       "top     Other Locations        Mode-5  Junk Lead  \n",
       "freq               2500          2975       1536  "
      ]
     },
     "execution_count": 13,
     "metadata": {},
     "output_type": "execute_result"
    }
   ],
   "source": [
    "# It will give you info about categorical data/columns\n",
    "sales.describe(include = \"O\")"
   ]
  },
  {
   "cell_type": "code",
   "execution_count": 14,
   "id": "805ee495",
   "metadata": {},
   "outputs": [
    {
     "data": {
      "text/plain": [
       "Created          0\n",
       "Product_ID       0\n",
       "Source           0\n",
       "Mobile           0\n",
       "EMAIL            0\n",
       "Sales_Agent      0\n",
       "Location         0\n",
       "Delivery_Mode    0\n",
       "Status           0\n",
       "dtype: int64"
      ]
     },
     "execution_count": 14,
     "metadata": {},
     "output_type": "execute_result"
    }
   ],
   "source": [
    "# checking how many null values are present in data\n",
    "sales.isnull().sum()\n"
   ]
  },
  {
   "cell_type": "markdown",
   "id": "e35b70fa",
   "metadata": {},
   "source": [
    "# DATA PREPROCESSING"
   ]
  },
  {
   "cell_type": "code",
   "execution_count": 15,
   "id": "336dd72c",
   "metadata": {},
   "outputs": [
    {
     "data": {
      "text/html": [
       "<div>\n",
       "<style scoped>\n",
       "    .dataframe tbody tr th:only-of-type {\n",
       "        vertical-align: middle;\n",
       "    }\n",
       "\n",
       "    .dataframe tbody tr th {\n",
       "        vertical-align: top;\n",
       "    }\n",
       "\n",
       "    .dataframe thead th {\n",
       "        text-align: right;\n",
       "    }\n",
       "</style>\n",
       "<table border=\"1\" class=\"dataframe\">\n",
       "  <thead>\n",
       "    <tr style=\"text-align: right;\">\n",
       "      <th></th>\n",
       "      <th>Created</th>\n",
       "      <th>Product_ID</th>\n",
       "      <th>Source</th>\n",
       "      <th>Mobile</th>\n",
       "      <th>EMAIL</th>\n",
       "      <th>Sales_Agent</th>\n",
       "      <th>Location</th>\n",
       "      <th>Delivery_Mode</th>\n",
       "      <th>Status</th>\n",
       "    </tr>\n",
       "  </thead>\n",
       "  <tbody>\n",
       "    <tr>\n",
       "      <th>0</th>\n",
       "      <td>14-11-2018 10:05</td>\n",
       "      <td></td>\n",
       "      <td>Website</td>\n",
       "      <td>984XXXXXXX</td>\n",
       "      <td>aXXXXXXX@gmail.com</td>\n",
       "      <td>Sales-Agent-11</td>\n",
       "      <td></td>\n",
       "      <td>Mode-5</td>\n",
       "      <td>Open</td>\n",
       "    </tr>\n",
       "    <tr>\n",
       "      <th>1</th>\n",
       "      <td>14-11-2018 09:22</td>\n",
       "      <td></td>\n",
       "      <td>Website</td>\n",
       "      <td>XXXXXXX</td>\n",
       "      <td>#VALUE!</td>\n",
       "      <td>Sales-Agent-10</td>\n",
       "      <td></td>\n",
       "      <td>Mode-5</td>\n",
       "      <td>Open</td>\n",
       "    </tr>\n",
       "    <tr>\n",
       "      <th>2</th>\n",
       "      <td>14-11-2018 09:21</td>\n",
       "      <td></td>\n",
       "      <td>Website</td>\n",
       "      <td>XXXXXXX</td>\n",
       "      <td>dXXXXXXX@yahoo.com</td>\n",
       "      <td>Sales-Agent-10</td>\n",
       "      <td></td>\n",
       "      <td>Mode-5</td>\n",
       "      <td>Open</td>\n",
       "    </tr>\n",
       "    <tr>\n",
       "      <th>3</th>\n",
       "      <td>14-11-2018 08:46</td>\n",
       "      <td></td>\n",
       "      <td>Website</td>\n",
       "      <td>XXXXXXX</td>\n",
       "      <td>wXXXXXXX@gmail.com</td>\n",
       "      <td>Sales-Agent-10</td>\n",
       "      <td></td>\n",
       "      <td>Mode-5</td>\n",
       "      <td>Open</td>\n",
       "    </tr>\n",
       "    <tr>\n",
       "      <th>4</th>\n",
       "      <td>14-11-2018 07:34</td>\n",
       "      <td></td>\n",
       "      <td>Website</td>\n",
       "      <td>XXXXXXX</td>\n",
       "      <td>cXXXXXXX@gmail.com</td>\n",
       "      <td>Sales-Agent-10</td>\n",
       "      <td></td>\n",
       "      <td>Mode-5</td>\n",
       "      <td>Open</td>\n",
       "    </tr>\n",
       "    <tr>\n",
       "      <th>5</th>\n",
       "      <td>14-11-2018 07:33</td>\n",
       "      <td></td>\n",
       "      <td>Website</td>\n",
       "      <td>XXXXXXX</td>\n",
       "      <td>rXXXXXXX@gmail.com</td>\n",
       "      <td>Sales-Agent-10</td>\n",
       "      <td></td>\n",
       "      <td>Mode-5</td>\n",
       "      <td>Open</td>\n",
       "    </tr>\n",
       "    <tr>\n",
       "      <th>6</th>\n",
       "      <td>14-11-2018 05:58</td>\n",
       "      <td></td>\n",
       "      <td>Website</td>\n",
       "      <td>XXXXXXX</td>\n",
       "      <td>aXXXXXXX@gmail.com</td>\n",
       "      <td>Sales-Agent-10</td>\n",
       "      <td></td>\n",
       "      <td>Mode-5</td>\n",
       "      <td>Open</td>\n",
       "    </tr>\n",
       "    <tr>\n",
       "      <th>7</th>\n",
       "      <td>14-11-2018 05:49</td>\n",
       "      <td></td>\n",
       "      <td>Website</td>\n",
       "      <td>XXXXXXX</td>\n",
       "      <td>rXXXXXXX@gmail.com</td>\n",
       "      <td>Sales-Agent-10</td>\n",
       "      <td></td>\n",
       "      <td>Mode-5</td>\n",
       "      <td>Open</td>\n",
       "    </tr>\n",
       "    <tr>\n",
       "      <th>8</th>\n",
       "      <td>14-11-2018 05:40</td>\n",
       "      <td></td>\n",
       "      <td>Website</td>\n",
       "      <td>078XXXXXXX</td>\n",
       "      <td>DXXXXXXXheblue.com</td>\n",
       "      <td>Sales-Agent-10</td>\n",
       "      <td></td>\n",
       "      <td>Mode-5</td>\n",
       "      <td>Open</td>\n",
       "    </tr>\n",
       "    <tr>\n",
       "      <th>9</th>\n",
       "      <td>14-11-2018 05:06</td>\n",
       "      <td></td>\n",
       "      <td>Website</td>\n",
       "      <td>XXXXXXX</td>\n",
       "      <td>jXXXXXXX@gmail.com</td>\n",
       "      <td>Sales-Agent-10</td>\n",
       "      <td></td>\n",
       "      <td>Mode-5</td>\n",
       "      <td>Open</td>\n",
       "    </tr>\n",
       "  </tbody>\n",
       "</table>\n",
       "</div>"
      ],
      "text/plain": [
       "            Created Product_ID   Source      Mobile               EMAIL  \\\n",
       "0  14-11-2018 10:05             Website  984XXXXXXX  aXXXXXXX@gmail.com   \n",
       "1  14-11-2018 09:22             Website     XXXXXXX             #VALUE!   \n",
       "2  14-11-2018 09:21             Website     XXXXXXX  dXXXXXXX@yahoo.com   \n",
       "3  14-11-2018 08:46             Website     XXXXXXX  wXXXXXXX@gmail.com   \n",
       "4  14-11-2018 07:34             Website     XXXXXXX  cXXXXXXX@gmail.com   \n",
       "5  14-11-2018 07:33             Website     XXXXXXX  rXXXXXXX@gmail.com   \n",
       "6  14-11-2018 05:58             Website     XXXXXXX  aXXXXXXX@gmail.com   \n",
       "7  14-11-2018 05:49             Website     XXXXXXX  rXXXXXXX@gmail.com   \n",
       "8  14-11-2018 05:40             Website  078XXXXXXX  DXXXXXXXheblue.com   \n",
       "9  14-11-2018 05:06             Website     XXXXXXX  jXXXXXXX@gmail.com   \n",
       "\n",
       "      Sales_Agent Location Delivery_Mode Status  \n",
       "0  Sales-Agent-11                 Mode-5   Open  \n",
       "1  Sales-Agent-10                 Mode-5   Open  \n",
       "2  Sales-Agent-10                 Mode-5   Open  \n",
       "3  Sales-Agent-10                 Mode-5   Open  \n",
       "4  Sales-Agent-10                 Mode-5   Open  \n",
       "5  Sales-Agent-10                 Mode-5   Open  \n",
       "6  Sales-Agent-10                 Mode-5   Open  \n",
       "7  Sales-Agent-10                 Mode-5   Open  \n",
       "8  Sales-Agent-10                 Mode-5   Open  \n",
       "9  Sales-Agent-10                 Mode-5   Open  "
      ]
     },
     "execution_count": 15,
     "metadata": {},
     "output_type": "execute_result"
    }
   ],
   "source": [
    "sales.head(10)"
   ]
  },
  {
   "cell_type": "code",
   "execution_count": 16,
   "id": "2d445cc3",
   "metadata": {},
   "outputs": [
    {
     "data": {
      "text/plain": [
       "Index(['Created', 'Product_ID', 'Source', 'Mobile', 'EMAIL', 'Sales_Agent',\n",
       "       'Location', 'Delivery_Mode', 'Status'],\n",
       "      dtype='object')"
      ]
     },
     "execution_count": 16,
     "metadata": {},
     "output_type": "execute_result"
    }
   ],
   "source": [
    "sales.columns"
   ]
  },
  {
   "cell_type": "code",
   "execution_count": 17,
   "id": "243f45d7",
   "metadata": {},
   "outputs": [
    {
     "data": {
      "text/plain": [
       "(7422, 9)"
      ]
     },
     "execution_count": 17,
     "metadata": {},
     "output_type": "execute_result"
    }
   ],
   "source": [
    "sales.shape"
   ]
  },
  {
   "cell_type": "code",
   "execution_count": 18,
   "id": "00ebc7c4",
   "metadata": {},
   "outputs": [],
   "source": [
    "#dropping the columns which are no use in analysis\n",
    "\n",
    "sales.drop(\"EMAIL\", axis = 1, inplace = True)\n",
    "sales.drop(\"Mobile\", axis = 1, inplace = True)\n",
    "sales.drop(\"Created\", axis = 1, inplace = True)"
   ]
  },
  {
   "cell_type": "code",
   "execution_count": 19,
   "id": "6eec602d",
   "metadata": {},
   "outputs": [
    {
     "data": {
      "text/plain": [
       "(7422, 6)"
      ]
     },
     "execution_count": 19,
     "metadata": {},
     "output_type": "execute_result"
    }
   ],
   "source": [
    "sales.shape"
   ]
  },
  {
   "cell_type": "code",
   "execution_count": 20,
   "id": "de595ad4",
   "metadata": {},
   "outputs": [
    {
     "data": {
      "text/plain": [
       "Product_ID       0\n",
       "Source           0\n",
       "Sales_Agent      0\n",
       "Location         0\n",
       "Delivery_Mode    0\n",
       "Status           0\n",
       "dtype: int64"
      ]
     },
     "execution_count": 20,
     "metadata": {},
     "output_type": "execute_result"
    }
   ],
   "source": [
    "sales.isnull().sum()"
   ]
  },
  {
   "cell_type": "code",
   "execution_count": 21,
   "id": "51a15172",
   "metadata": {},
   "outputs": [],
   "source": [
    "# Dropping rows with missing data because they are few\n",
    "\n",
    "sales.replace('',np.nan,inplace=True)\n",
    "sales.dropna(inplace=True)\n",
    "sales.reset_index(inplace=True,drop=True)"
   ]
  },
  {
   "cell_type": "code",
   "execution_count": 22,
   "id": "2d908de4",
   "metadata": {},
   "outputs": [
    {
     "data": {
      "text/plain": [
       "(7328, 6)"
      ]
     },
     "execution_count": 22,
     "metadata": {},
     "output_type": "execute_result"
    }
   ],
   "source": [
    "sales.shape"
   ]
  },
  {
   "cell_type": "code",
   "execution_count": 23,
   "id": "f41d0194",
   "metadata": {},
   "outputs": [],
   "source": [
    "# Compressing and Merging the labels in column\n",
    "\n",
    "sales.Source.replace(['Live Chat-Direct','Live Chat-Google Organic','Live Chat -PPC','Live Chat-Blog','Live Chat-Quora',\n",
    "                    'Live Chat-CPC','Live Chat-Google Ads','Live Chat-Adwords Remarketing','Live Chat-Youtube',\n",
    "                    'Live Chat-Justdial'],'Live Chat',inplace=True)\n",
    "sales.Source.replace(['Existing Client','CRM form','Personal Contact'],'Existing Customer',inplace=True)\n",
    "sales.Source.replace('By Recommendation','Customer Referral',inplace=True)\n",
    "sales.Source.replace(['US Website','Just Dial'],'Website',inplace=True)\n",
    "sales.Source.replace(['E-mail Campaign','SMS Campaign','E-Mail Message','Other'],'Campaign',inplace=True)"
   ]
  },
  {
   "cell_type": "code",
   "execution_count": 24,
   "id": "19d9870f",
   "metadata": {},
   "outputs": [
    {
     "data": {
      "text/plain": [
       "Source\n",
       "Live Chat            2663\n",
       "Call                 2536\n",
       "Website              1736\n",
       "Customer Referral     212\n",
       "Existing Customer     145\n",
       "Campaign               36\n",
       "Name: count, dtype: int64"
      ]
     },
     "execution_count": 24,
     "metadata": {},
     "output_type": "execute_result"
    }
   ],
   "source": [
    "#checked value_counts of source column Afer compressing and merging the label in column\n",
    "\n",
    "sales['Source'].value_counts()"
   ]
  },
  {
   "cell_type": "code",
   "execution_count": 25,
   "id": "c961f107",
   "metadata": {},
   "outputs": [
    {
     "data": {
      "text/plain": [
       "Location\n",
       "Other Locations    2481\n",
       "Bangalore          2079\n",
       "Chennai             907\n",
       "Hyderabad           527\n",
       "Delhi               470\n",
       "Mumbai              399\n",
       "Pune                139\n",
       "UAE                  77\n",
       "Trivandrum           58\n",
       "Kolkata              55\n",
       "USA                  45\n",
       "UK                   41\n",
       "AUSTRALIA            25\n",
       "Singapore            17\n",
       "Malaysia              4\n",
       "EUROPE                3\n",
       "Howrah                1\n",
       "Name: count, dtype: int64"
      ]
     },
     "execution_count": 25,
     "metadata": {},
     "output_type": "execute_result"
    }
   ],
   "source": [
    "#checked value_counts of location column before Compressing and Merging the labels in column\n",
    "\n",
    "sales['Location'].value_counts()\n"
   ]
  },
  {
   "cell_type": "code",
   "execution_count": 26,
   "id": "b0a85312",
   "metadata": {},
   "outputs": [],
   "source": [
    "## Compressing and Merging the labels in column\n",
    "\n",
    "sales.Location.replace(['UAE','USA','UK','AUSTRALIA','Singapore','Malaysia','EUROPE'],'Foreign',inplace=True)\n",
    "sales.Location.replace(['Howrah','Kolkata','Trivandrum'],'Other Locations',inplace=True)"
   ]
  },
  {
   "cell_type": "code",
   "execution_count": 27,
   "id": "58b744ca",
   "metadata": {},
   "outputs": [
    {
     "data": {
      "text/plain": [
       "Location\n",
       "Other Locations    2595\n",
       "Bangalore          2079\n",
       "Chennai             907\n",
       "Hyderabad           527\n",
       "Delhi               470\n",
       "Mumbai              399\n",
       "Foreign             212\n",
       "Pune                139\n",
       "Name: count, dtype: int64"
      ]
     },
     "execution_count": 27,
     "metadata": {},
     "output_type": "execute_result"
    }
   ],
   "source": [
    "#checked value_counts of Location column Afer compressing and merging the label in column\n",
    "\n",
    "sales['Location'].value_counts()"
   ]
  },
  {
   "cell_type": "code",
   "execution_count": 28,
   "id": "9ee9a313",
   "metadata": {},
   "outputs": [
    {
     "data": {
      "text/plain": [
       "Product_ID\n",
       "18    1706\n",
       "15    1501\n",
       "19    1188\n",
       "9      990\n",
       "27     737\n",
       "5      484\n",
       "10     168\n",
       "1      104\n",
       "20     101\n",
       "25      90\n",
       "21      65\n",
       "2       38\n",
       "12      36\n",
       "26      31\n",
       "14      27\n",
       "11      12\n",
       "22       8\n",
       "3        7\n",
       "6        7\n",
       "8        6\n",
       "17       6\n",
       "13       4\n",
       "16       3\n",
       "24       2\n",
       "23       2\n",
       "0        2\n",
       "28       1\n",
       "7        1\n",
       "4        1\n",
       "Name: count, dtype: int64"
      ]
     },
     "execution_count": 28,
     "metadata": {},
     "output_type": "execute_result"
    }
   ],
   "source": [
    "#checked value_counts of Product_ID column\n",
    "\n",
    "sales['Product_ID'].value_counts()\n"
   ]
  },
  {
   "cell_type": "code",
   "execution_count": 29,
   "id": "efdace21",
   "metadata": {},
   "outputs": [],
   "source": [
    "sales.Product_ID.replace(['8','6','3','17','22','11','7','28','0','23','24','16','13','4','14','26','12','2','21','25'],\n",
    "                        'Less Sold Product',inplace=True)"
   ]
  },
  {
   "cell_type": "code",
   "execution_count": 30,
   "id": "147ad8be",
   "metadata": {},
   "outputs": [
    {
     "data": {
      "text/plain": [
       "Status\n",
       "Junk Lead               1532\n",
       "Not Responding          1119\n",
       "CONVERTED                834\n",
       "Just Enquiry             751\n",
       "Potential                705\n",
       "Long Term                644\n",
       "In Progress Positive     642\n",
       "In Progress Negative     625\n",
       "LOST                     439\n",
       "Open                      19\n",
       "converted                 18\n",
       "Name: count, dtype: int64"
      ]
     },
     "execution_count": 30,
     "metadata": {},
     "output_type": "execute_result"
    }
   ],
   "source": [
    "#checked value_counts of status column before Compressing and Merging the labels in column\n",
    "\n",
    "sales['Status'].value_counts()"
   ]
  },
  {
   "cell_type": "code",
   "execution_count": 31,
   "id": "fc284fd1",
   "metadata": {},
   "outputs": [],
   "source": [
    "# Defining 'Status' as 'Good' or 'Bad'\n",
    "sales.Status.replace(['CONVERTED','converted','In Progress Positive','Potential','Long Term','Open'],'Good',inplace=True)\n",
    "sales.Status.replace(['LOST','In Progress Negative','Not Responding','Junk Lead','Just Enquiry'],'Bad',inplace=True)"
   ]
  },
  {
   "cell_type": "code",
   "execution_count": 32,
   "id": "b65f7b05",
   "metadata": {},
   "outputs": [
    {
     "data": {
      "text/plain": [
       "Status\n",
       "Bad     4466\n",
       "Good    2862\n",
       "Name: count, dtype: int64"
      ]
     },
     "execution_count": 32,
     "metadata": {},
     "output_type": "execute_result"
    }
   ],
   "source": [
    "#checked value_counts of status column after Compressing and Merging the labels in column\n",
    "sales['Status'].value_counts()"
   ]
  },
  {
   "cell_type": "code",
   "execution_count": 33,
   "id": "8ccb7409",
   "metadata": {},
   "outputs": [
    {
     "data": {
      "text/html": [
       "<div>\n",
       "<style scoped>\n",
       "    .dataframe tbody tr th:only-of-type {\n",
       "        vertical-align: middle;\n",
       "    }\n",
       "\n",
       "    .dataframe tbody tr th {\n",
       "        vertical-align: top;\n",
       "    }\n",
       "\n",
       "    .dataframe thead th {\n",
       "        text-align: right;\n",
       "    }\n",
       "</style>\n",
       "<table border=\"1\" class=\"dataframe\">\n",
       "  <thead>\n",
       "    <tr style=\"text-align: right;\">\n",
       "      <th></th>\n",
       "      <th>Product_ID</th>\n",
       "      <th>Source</th>\n",
       "      <th>Sales_Agent</th>\n",
       "      <th>Location</th>\n",
       "      <th>Delivery_Mode</th>\n",
       "      <th>Status</th>\n",
       "    </tr>\n",
       "  </thead>\n",
       "  <tbody>\n",
       "    <tr>\n",
       "      <th>0</th>\n",
       "      <td>9</td>\n",
       "      <td>Live Chat</td>\n",
       "      <td>Sales-Agent-3</td>\n",
       "      <td>Bangalore</td>\n",
       "      <td>Mode-1</td>\n",
       "      <td>Good</td>\n",
       "    </tr>\n",
       "    <tr>\n",
       "      <th>1</th>\n",
       "      <td>19</td>\n",
       "      <td>Call</td>\n",
       "      <td>Sales-Agent-4</td>\n",
       "      <td>Other Locations</td>\n",
       "      <td>Mode-5</td>\n",
       "      <td>Good</td>\n",
       "    </tr>\n",
       "    <tr>\n",
       "      <th>2</th>\n",
       "      <td>18</td>\n",
       "      <td>Website</td>\n",
       "      <td>Sales-Agent-11</td>\n",
       "      <td>Other Locations</td>\n",
       "      <td>Mode-1</td>\n",
       "      <td>Good</td>\n",
       "    </tr>\n",
       "    <tr>\n",
       "      <th>3</th>\n",
       "      <td>15</td>\n",
       "      <td>Website</td>\n",
       "      <td>Sales-Agent-7</td>\n",
       "      <td>Hyderabad</td>\n",
       "      <td>Mode-1</td>\n",
       "      <td>Bad</td>\n",
       "    </tr>\n",
       "    <tr>\n",
       "      <th>4</th>\n",
       "      <td>18</td>\n",
       "      <td>Call</td>\n",
       "      <td>Sales-Agent-7</td>\n",
       "      <td>Bangalore</td>\n",
       "      <td>Mode-1</td>\n",
       "      <td>Good</td>\n",
       "    </tr>\n",
       "    <tr>\n",
       "      <th>5</th>\n",
       "      <td>18</td>\n",
       "      <td>Live Chat</td>\n",
       "      <td>Sales-Agent-9</td>\n",
       "      <td>Other Locations</td>\n",
       "      <td>Mode-3</td>\n",
       "      <td>Bad</td>\n",
       "    </tr>\n",
       "    <tr>\n",
       "      <th>6</th>\n",
       "      <td>27</td>\n",
       "      <td>Call</td>\n",
       "      <td>Sales-Agent-11</td>\n",
       "      <td>Chennai</td>\n",
       "      <td>Mode-5</td>\n",
       "      <td>Good</td>\n",
       "    </tr>\n",
       "    <tr>\n",
       "      <th>7</th>\n",
       "      <td>19</td>\n",
       "      <td>Live Chat</td>\n",
       "      <td>Sales-Agent-4</td>\n",
       "      <td>Foreign</td>\n",
       "      <td>Mode-2</td>\n",
       "      <td>Good</td>\n",
       "    </tr>\n",
       "    <tr>\n",
       "      <th>8</th>\n",
       "      <td>19</td>\n",
       "      <td>Live Chat</td>\n",
       "      <td>Sales-Agent-4</td>\n",
       "      <td>Foreign</td>\n",
       "      <td>Mode-4</td>\n",
       "      <td>Bad</td>\n",
       "    </tr>\n",
       "    <tr>\n",
       "      <th>9</th>\n",
       "      <td>18</td>\n",
       "      <td>Call</td>\n",
       "      <td>Sales-Agent-7</td>\n",
       "      <td>Bangalore</td>\n",
       "      <td>Mode-1</td>\n",
       "      <td>Bad</td>\n",
       "    </tr>\n",
       "  </tbody>\n",
       "</table>\n",
       "</div>"
      ],
      "text/plain": [
       "  Product_ID     Source     Sales_Agent         Location Delivery_Mode Status\n",
       "0          9  Live Chat   Sales-Agent-3        Bangalore        Mode-1   Good\n",
       "1         19       Call   Sales-Agent-4  Other Locations        Mode-5   Good\n",
       "2         18    Website  Sales-Agent-11  Other Locations        Mode-1   Good\n",
       "3         15    Website   Sales-Agent-7        Hyderabad        Mode-1    Bad\n",
       "4         18       Call   Sales-Agent-7        Bangalore        Mode-1   Good\n",
       "5         18  Live Chat   Sales-Agent-9  Other Locations        Mode-3    Bad\n",
       "6         27       Call  Sales-Agent-11          Chennai        Mode-5   Good\n",
       "7         19  Live Chat   Sales-Agent-4          Foreign        Mode-2   Good\n",
       "8         19  Live Chat   Sales-Agent-4          Foreign        Mode-4    Bad\n",
       "9         18       Call   Sales-Agent-7        Bangalore        Mode-1    Bad"
      ]
     },
     "execution_count": 33,
     "metadata": {},
     "output_type": "execute_result"
    }
   ],
   "source": [
    "sales.head(10)"
   ]
  },
  {
   "cell_type": "markdown",
   "id": "ff79fba4",
   "metadata": {},
   "source": [
    "# EXPLORATORY DATA ANALYSIS (E.D.A)"
   ]
  },
  {
   "cell_type": "code",
   "execution_count": 34,
   "id": "44c39309",
   "metadata": {},
   "outputs": [
    {
     "data": {
      "image/png": "[encoded data removed]",
      "text/plain": [
       "<Figure size 1500x1000 with 6 Axes>"
      ]
     },
     "metadata": {},
     "output_type": "display_data"
    }
   ],
   "source": [
    "# Plotting the labels in each column\n",
    "plt.figure(figsize=(15,10))\n",
    "\n",
    "# Product_ID value counts\n",
    "plt.subplot(2,3,1)\n",
    "sales['Product_ID'].value_counts().plot(kind='bar')\n",
    "plt.title('Product_ID Value Counts')\n",
    "\n",
    "# Source value counts\n",
    "plt.subplot(2,3,2)\n",
    "sales['Source'].value_counts().plot(kind='bar')\n",
    "plt.title('Source Value Counts')\n",
    "\n",
    "# Sales_Agent value counts\n",
    "plt.subplot(2,3,3)\n",
    "sales['Sales_Agent'].value_counts().plot(kind='bar')\n",
    "plt.title('Sales_Agent Value Counts')\n",
    "\n",
    "# Location value counts\n",
    "plt.subplot(2,3,4)\n",
    "sales['Location'].value_counts().plot(kind='bar')\n",
    "plt.title('Location Value Counts')\n",
    "\n",
    "# Delivery_Mode value counts\n",
    "plt.subplot(2,3,5)\n",
    "sales['Delivery_Mode'].value_counts().plot(kind='bar')\n",
    "plt.title('Delivery_Mode Value Counts')\n",
    "\n",
    "# Status value counts\n",
    "plt.subplot(2,3,6)\n",
    "sales['Status'].value_counts().plot(kind='bar')\n",
    "plt.title('Status Value Counts')\n",
    "\n",
    "plt.tight_layout()\n",
    "plt.show()\n"
   ]
  },
  {
   "cell_type": "markdown",
   "id": "1b82a303",
   "metadata": {},
   "source": [
    "# INSIGHTS :"
   ]
  },
  {
   "cell_type": "markdown",
   "id": "4e880e17",
   "metadata": {},
   "source": [
    "## the bar charts visualizing the value counts for various columns"
   ]
  },
  {
   "cell_type": "markdown",
   "id": "661e17f6",
   "metadata": {},
   "source": [
    "### Product_ID :\n",
    "The chart for Product_ID shows the frequency of each product in the dataset. Some products appear more frequently, which could indicate higher sales volume or popularity.\n",
    "\n",
    "### Source :\n",
    "The Source chart would highlight which lead sources are most commonly used. A high frequency for a particular source could suggest it is a major channel for lead generation.\n",
    "\n",
    "### Sales_Agent :\n",
    "The Sales_Agent chart would reveal which agents are handling more leads. Agents with higher counts could be more active or have a larger customer base.\n",
    "\n",
    "### Location :\n",
    "The Location chart would show the distribution of leads across different locations. This could indicate the market reach and where the business efforts are concentrated.\n",
    "\n",
    "### Delivery_Mode :\n",
    "The Delivery_Mode chart would indicate the preferred methods of delivery for products or services. A dominant mode could suggest customer preference or operational efficiency.\n",
    "\n",
    "### Status :\n",
    "The Status chart provides an overview of the outcome of leads.bad leads are more as compared to good leads."
   ]
  },
  {
   "cell_type": "code",
   "execution_count": 35,
   "id": "c87b435c",
   "metadata": {},
   "outputs": [
    {
     "data": {
      "text/plain": [
       "Product_ID       object\n",
       "Source           object\n",
       "Sales_Agent      object\n",
       "Location         object\n",
       "Delivery_Mode    object\n",
       "Status           object\n",
       "dtype: object"
      ]
     },
     "execution_count": 35,
     "metadata": {},
     "output_type": "execute_result"
    }
   ],
   "source": [
    "sales.dtypes"
   ]
  },
  {
   "cell_type": "code",
   "execution_count": 36,
   "id": "f1173cdc",
   "metadata": {},
   "outputs": [
    {
     "name": "stdout",
     "output_type": "stream",
     "text": [
      "Requirement already satisfied: sweetviz in c:\\users\\dell\\anaconda3\\lib\\site-packages (2.3.1)\n",
      "Requirement already satisfied: pandas!=1.0.0,!=1.0.1,!=1.0.2,>=0.25.3 in c:\\users\\dell\\anaconda3\\lib\\site-packages (from sweetviz) (2.0.3)\n",
      "Requirement already satisfied: numpy>=1.16.0 in c:\\users\\dell\\anaconda3\\lib\\site-packages (from sweetviz) (1.24.3)\n",
      "Requirement already satisfied: matplotlib>=3.1.3 in c:\\users\\dell\\anaconda3\\lib\\site-packages (from sweetviz) (3.7.2)\n",
      "Requirement already satisfied: tqdm>=4.43.0 in c:\\users\\dell\\anaconda3\\lib\\site-packages (from sweetviz) (4.65.0)\n",
      "Requirement already satisfied: scipy>=1.3.2 in c:\\users\\dell\\anaconda3\\lib\\site-packages (from sweetviz) (1.11.1)\n",
      "Requirement already satisfied: jinja2>=2.11.1 in c:\\users\\dell\\anaconda3\\lib\\site-packages (from sweetviz) (3.1.2)\n",
      "Requirement already satisfied: importlib-resources>=1.2.0 in c:\\users\\dell\\anaconda3\\lib\\site-packages (from sweetviz) (6.1.1)\n",
      "Requirement already satisfied: MarkupSafe>=2.0 in c:\\users\\dell\\anaconda3\\lib\\site-packages (from jinja2>=2.11.1->sweetviz) (2.1.1)\n",
      "Requirement already satisfied: contourpy>=1.0.1 in c:\\users\\dell\\anaconda3\\lib\\site-packages (from matplotlib>=3.1.3->sweetviz) (1.0.5)\n",
      "Requirement already satisfied: cycler>=0.10 in c:\\users\\dell\\anaconda3\\lib\\site-packages (from matplotlib>=3.1.3->sweetviz) (0.11.0)\n",
      "Requirement already satisfied: fonttools>=4.22.0 in c:\\users\\dell\\anaconda3\\lib\\site-packages (from matplotlib>=3.1.3->sweetviz) (4.25.0)\n",
      "Requirement already satisfied: kiwisolver>=1.0.1 in c:\\users\\dell\\anaconda3\\lib\\site-packages (from matplotlib>=3.1.3->sweetviz) (1.4.4)\n",
      "Requirement already satisfied: packaging>=20.0 in c:\\users\\dell\\anaconda3\\lib\\site-packages (from matplotlib>=3.1.3->sweetviz) (23.1)\n",
      "Requirement already satisfied: pillow>=6.2.0 in c:\\users\\dell\\anaconda3\\lib\\site-packages (from matplotlib>=3.1.3->sweetviz) (9.4.0)\n",
      "Requirement already satisfied: pyparsing<3.1,>=2.3.1 in c:\\users\\dell\\anaconda3\\lib\\site-packages (from matplotlib>=3.1.3->sweetviz) (3.0.9)\n",
      "Requirement already satisfied: python-dateutil>=2.7 in c:\\users\\dell\\anaconda3\\lib\\site-packages (from matplotlib>=3.1.3->sweetviz) (2.8.2)\n",
      "Requirement already satisfied: pytz>=2020.1 in c:\\users\\dell\\anaconda3\\lib\\site-packages (from pandas!=1.0.0,!=1.0.1,!=1.0.2,>=0.25.3->sweetviz) (2023.3.post1)\n",
      "Requirement already satisfied: tzdata>=2022.1 in c:\\users\\dell\\anaconda3\\lib\\site-packages (from pandas!=1.0.0,!=1.0.1,!=1.0.2,>=0.25.3->sweetviz) (2023.3)\n",
      "Requirement already satisfied: colorama in c:\\users\\dell\\anaconda3\\lib\\site-packages (from tqdm>=4.43.0->sweetviz) (0.4.6)\n",
      "Requirement already satisfied: six>=1.5 in c:\\users\\dell\\anaconda3\\lib\\site-packages (from python-dateutil>=2.7->matplotlib>=3.1.3->sweetviz) (1.16.0)\n"
     ]
    }
   ],
   "source": [
    "!pip install sweetviz"
   ]
  },
  {
   "cell_type": "code",
   "execution_count": 37,
   "id": "92998fd7",
   "metadata": {},
   "outputs": [
    {
     "data": {
      "application/vnd.jupyter.widget-view+json": {
       "model_id": "42f4cb0ca608498b9386cd973c12ee5c",
       "version_major": 2,
       "version_minor": 0
      },
      "text/plain": [
       "                                             |                                             | [  0%]   00:00 ->…"
      ]
     },
     "metadata": {},
     "output_type": "display_data"
    }
   ],
   "source": [
    "# For reference analyzing data using sweetviz\n",
    "import sweetviz as sv\n",
    "report = sv.analyze(sales)"
   ]
  },
  {
   "cell_type": "code",
   "execution_count": 38,
   "id": "35c63412",
   "metadata": {},
   "outputs": [
    {
     "name": "stdout",
     "output_type": "stream",
     "text": [
      "Report SWEETVIZ_REPORT.html was generated! NOTEBOOK/COLAB USERS: the web browser MAY not pop up, regardless, the report IS saved in your notebook/colab files.\n"
     ]
    }
   ],
   "source": [
    "report.show_html()"
   ]
  },
  {
   "cell_type": "markdown",
   "id": "9adb414a",
   "metadata": {},
   "source": [
    "# ENCODING CATEGORICAL VARIABLES"
   ]
  },
  {
   "cell_type": "code",
   "execution_count": 39,
   "id": "86b209b2",
   "metadata": {},
   "outputs": [],
   "source": [
    "from sklearn.preprocessing import LabelEncoder"
   ]
  },
  {
   "cell_type": "code",
   "execution_count": 40,
   "id": "49a8ee97",
   "metadata": {},
   "outputs": [
    {
     "name": "stdout",
     "output_type": "stream",
     "text": [
      "\n",
      "Converted DataFrame:\n"
     ]
    },
    {
     "data": {
      "text/html": [
       "<div>\n",
       "<style scoped>\n",
       "    .dataframe tbody tr th:only-of-type {\n",
       "        vertical-align: middle;\n",
       "    }\n",
       "\n",
       "    .dataframe tbody tr th {\n",
       "        vertical-align: top;\n",
       "    }\n",
       "\n",
       "    .dataframe thead th {\n",
       "        text-align: right;\n",
       "    }\n",
       "</style>\n",
       "<table border=\"1\" class=\"dataframe\">\n",
       "  <thead>\n",
       "    <tr style=\"text-align: right;\">\n",
       "      <th></th>\n",
       "      <th>Product_ID</th>\n",
       "      <th>Source</th>\n",
       "      <th>Sales_Agent</th>\n",
       "      <th>Location</th>\n",
       "      <th>Delivery_Mode</th>\n",
       "      <th>Status</th>\n",
       "    </tr>\n",
       "  </thead>\n",
       "  <tbody>\n",
       "    <tr>\n",
       "      <th>0</th>\n",
       "      <td>8</td>\n",
       "      <td>4</td>\n",
       "      <td>4</td>\n",
       "      <td>0</td>\n",
       "      <td>0</td>\n",
       "      <td>1</td>\n",
       "    </tr>\n",
       "    <tr>\n",
       "      <th>1</th>\n",
       "      <td>4</td>\n",
       "      <td>0</td>\n",
       "      <td>5</td>\n",
       "      <td>6</td>\n",
       "      <td>4</td>\n",
       "      <td>1</td>\n",
       "    </tr>\n",
       "    <tr>\n",
       "      <th>2</th>\n",
       "      <td>3</td>\n",
       "      <td>5</td>\n",
       "      <td>1</td>\n",
       "      <td>6</td>\n",
       "      <td>0</td>\n",
       "      <td>1</td>\n",
       "    </tr>\n",
       "    <tr>\n",
       "      <th>3</th>\n",
       "      <td>2</td>\n",
       "      <td>5</td>\n",
       "      <td>8</td>\n",
       "      <td>4</td>\n",
       "      <td>0</td>\n",
       "      <td>0</td>\n",
       "    </tr>\n",
       "    <tr>\n",
       "      <th>4</th>\n",
       "      <td>3</td>\n",
       "      <td>0</td>\n",
       "      <td>8</td>\n",
       "      <td>0</td>\n",
       "      <td>0</td>\n",
       "      <td>1</td>\n",
       "    </tr>\n",
       "    <tr>\n",
       "      <th>...</th>\n",
       "      <td>...</td>\n",
       "      <td>...</td>\n",
       "      <td>...</td>\n",
       "      <td>...</td>\n",
       "      <td>...</td>\n",
       "      <td>...</td>\n",
       "    </tr>\n",
       "    <tr>\n",
       "      <th>7323</th>\n",
       "      <td>8</td>\n",
       "      <td>0</td>\n",
       "      <td>7</td>\n",
       "      <td>5</td>\n",
       "      <td>3</td>\n",
       "      <td>0</td>\n",
       "    </tr>\n",
       "    <tr>\n",
       "      <th>7324</th>\n",
       "      <td>2</td>\n",
       "      <td>0</td>\n",
       "      <td>2</td>\n",
       "      <td>6</td>\n",
       "      <td>4</td>\n",
       "      <td>0</td>\n",
       "    </tr>\n",
       "    <tr>\n",
       "      <th>7325</th>\n",
       "      <td>7</td>\n",
       "      <td>4</td>\n",
       "      <td>1</td>\n",
       "      <td>0</td>\n",
       "      <td>0</td>\n",
       "      <td>0</td>\n",
       "    </tr>\n",
       "    <tr>\n",
       "      <th>7326</th>\n",
       "      <td>9</td>\n",
       "      <td>3</td>\n",
       "      <td>5</td>\n",
       "      <td>6</td>\n",
       "      <td>0</td>\n",
       "      <td>0</td>\n",
       "    </tr>\n",
       "    <tr>\n",
       "      <th>7327</th>\n",
       "      <td>9</td>\n",
       "      <td>5</td>\n",
       "      <td>4</td>\n",
       "      <td>1</td>\n",
       "      <td>0</td>\n",
       "      <td>1</td>\n",
       "    </tr>\n",
       "  </tbody>\n",
       "</table>\n",
       "<p>7328 rows × 6 columns</p>\n",
       "</div>"
      ],
      "text/plain": [
       "      Product_ID  Source  Sales_Agent  Location  Delivery_Mode  Status\n",
       "0              8       4            4         0              0       1\n",
       "1              4       0            5         6              4       1\n",
       "2              3       5            1         6              0       1\n",
       "3              2       5            8         4              0       0\n",
       "4              3       0            8         0              0       1\n",
       "...          ...     ...          ...       ...            ...     ...\n",
       "7323           8       0            7         5              3       0\n",
       "7324           2       0            2         6              4       0\n",
       "7325           7       4            1         0              0       0\n",
       "7326           9       3            5         6              0       0\n",
       "7327           9       5            4         1              0       1\n",
       "\n",
       "[7328 rows x 6 columns]"
      ]
     },
     "execution_count": 40,
     "metadata": {},
     "output_type": "execute_result"
    }
   ],
   "source": [
    "label_encoder = LabelEncoder()\n",
    "\n",
    "# Apply label encoding to each categorical column\n",
    "for column in sales.columns:\n",
    "    sales[column] = label_encoder.fit_transform(sales[column])\n",
    "\n",
    "# Display the converted DataFrame\n",
    "print(\"\\nConverted DataFrame:\")\n",
    "sales\n"
   ]
  },
  {
   "cell_type": "code",
   "execution_count": 41,
   "id": "2d6bba2c",
   "metadata": {},
   "outputs": [
    {
     "name": "stdout",
     "output_type": "stream",
     "text": [
      "<class 'pandas.core.frame.DataFrame'>\n",
      "RangeIndex: 7328 entries, 0 to 7327\n",
      "Data columns (total 6 columns):\n",
      " #   Column         Non-Null Count  Dtype\n",
      "---  ------         --------------  -----\n",
      " 0   Product_ID     7328 non-null   int32\n",
      " 1   Source         7328 non-null   int32\n",
      " 2   Sales_Agent    7328 non-null   int32\n",
      " 3   Location       7328 non-null   int32\n",
      " 4   Delivery_Mode  7328 non-null   int32\n",
      " 5   Status         7328 non-null   int32\n",
      "dtypes: int32(6)\n",
      "memory usage: 171.9 KB\n"
     ]
    }
   ],
   "source": [
    "sales.info()"
   ]
  },
  {
   "cell_type": "markdown",
   "id": "08021ce3",
   "metadata": {},
   "source": [
    "# FEATURE ENGINEERING"
   ]
  },
  {
   "cell_type": "code",
   "execution_count": 42,
   "id": "29b5af48",
   "metadata": {},
   "outputs": [
    {
     "data": {
      "text/html": [
       "<div>\n",
       "<style scoped>\n",
       "    .dataframe tbody tr th:only-of-type {\n",
       "        vertical-align: middle;\n",
       "    }\n",
       "\n",
       "    .dataframe tbody tr th {\n",
       "        vertical-align: top;\n",
       "    }\n",
       "\n",
       "    .dataframe thead th {\n",
       "        text-align: right;\n",
       "    }\n",
       "</style>\n",
       "<table border=\"1\" class=\"dataframe\">\n",
       "  <thead>\n",
       "    <tr style=\"text-align: right;\">\n",
       "      <th></th>\n",
       "      <th>Product_ID</th>\n",
       "      <th>Source</th>\n",
       "      <th>Sales_Agent</th>\n",
       "      <th>Location</th>\n",
       "      <th>Delivery_Mode</th>\n",
       "      <th>Status</th>\n",
       "    </tr>\n",
       "  </thead>\n",
       "  <tbody>\n",
       "    <tr>\n",
       "      <th>Product_ID</th>\n",
       "      <td>1.000000</td>\n",
       "      <td>0.074868</td>\n",
       "      <td>0.056065</td>\n",
       "      <td>-0.226961</td>\n",
       "      <td>-0.181464</td>\n",
       "      <td>0.138943</td>\n",
       "    </tr>\n",
       "    <tr>\n",
       "      <th>Source</th>\n",
       "      <td>0.074868</td>\n",
       "      <td>1.000000</td>\n",
       "      <td>-0.023186</td>\n",
       "      <td>-0.003034</td>\n",
       "      <td>-0.216516</td>\n",
       "      <td>-0.015411</td>\n",
       "    </tr>\n",
       "    <tr>\n",
       "      <th>Sales_Agent</th>\n",
       "      <td>0.056065</td>\n",
       "      <td>-0.023186</td>\n",
       "      <td>1.000000</td>\n",
       "      <td>-0.140876</td>\n",
       "      <td>-0.224688</td>\n",
       "      <td>0.137074</td>\n",
       "    </tr>\n",
       "    <tr>\n",
       "      <th>Location</th>\n",
       "      <td>-0.226961</td>\n",
       "      <td>-0.003034</td>\n",
       "      <td>-0.140876</td>\n",
       "      <td>1.000000</td>\n",
       "      <td>0.414193</td>\n",
       "      <td>-0.347418</td>\n",
       "    </tr>\n",
       "    <tr>\n",
       "      <th>Delivery_Mode</th>\n",
       "      <td>-0.181464</td>\n",
       "      <td>-0.216516</td>\n",
       "      <td>-0.224688</td>\n",
       "      <td>0.414193</td>\n",
       "      <td>1.000000</td>\n",
       "      <td>-0.220445</td>\n",
       "    </tr>\n",
       "    <tr>\n",
       "      <th>Status</th>\n",
       "      <td>0.138943</td>\n",
       "      <td>-0.015411</td>\n",
       "      <td>0.137074</td>\n",
       "      <td>-0.347418</td>\n",
       "      <td>-0.220445</td>\n",
       "      <td>1.000000</td>\n",
       "    </tr>\n",
       "  </tbody>\n",
       "</table>\n",
       "</div>"
      ],
      "text/plain": [
       "               Product_ID    Source  Sales_Agent  Location  Delivery_Mode  \\\n",
       "Product_ID       1.000000  0.074868     0.056065 -0.226961      -0.181464   \n",
       "Source           0.074868  1.000000    -0.023186 -0.003034      -0.216516   \n",
       "Sales_Agent      0.056065 -0.023186     1.000000 -0.140876      -0.224688   \n",
       "Location        -0.226961 -0.003034    -0.140876  1.000000       0.414193   \n",
       "Delivery_Mode   -0.181464 -0.216516    -0.224688  0.414193       1.000000   \n",
       "Status           0.138943 -0.015411     0.137074 -0.347418      -0.220445   \n",
       "\n",
       "                 Status  \n",
       "Product_ID     0.138943  \n",
       "Source        -0.015411  \n",
       "Sales_Agent    0.137074  \n",
       "Location      -0.347418  \n",
       "Delivery_Mode -0.220445  \n",
       "Status         1.000000  "
      ]
     },
     "execution_count": 42,
     "metadata": {},
     "output_type": "execute_result"
    }
   ],
   "source": [
    "# Checking the correlation coeffecient\n",
    "sales.corr()"
   ]
  },
  {
   "cell_type": "code",
   "execution_count": 43,
   "id": "a8c1e587",
   "metadata": {},
   "outputs": [
    {
     "data": {
      "image/png": "[encoded data removed]",
      "text/plain": [
       "<Figure size 640x480 with 2 Axes>"
      ]
     },
     "metadata": {},
     "output_type": "display_data"
    }
   ],
   "source": [
    "sns.heatmap(sales.corr(),annot=True)\n",
    "\n",
    "plt.show()"
   ]
  },
  {
   "cell_type": "code",
   "execution_count": 44,
   "id": "6c99fbca",
   "metadata": {},
   "outputs": [],
   "source": [
    "#splitting dataset into x and y\n",
    "\n",
    "x=sales.iloc[:,:-1]\n",
    "y=sales.Status\n"
   ]
  },
  {
   "cell_type": "code",
   "execution_count": 45,
   "id": "374228ff",
   "metadata": {},
   "outputs": [
    {
     "data": {
      "text/html": [
       "<div>\n",
       "<style scoped>\n",
       "    .dataframe tbody tr th:only-of-type {\n",
       "        vertical-align: middle;\n",
       "    }\n",
       "\n",
       "    .dataframe tbody tr th {\n",
       "        vertical-align: top;\n",
       "    }\n",
       "\n",
       "    .dataframe thead th {\n",
       "        text-align: right;\n",
       "    }\n",
       "</style>\n",
       "<table border=\"1\" class=\"dataframe\">\n",
       "  <thead>\n",
       "    <tr style=\"text-align: right;\">\n",
       "      <th></th>\n",
       "      <th>Product_ID</th>\n",
       "      <th>Source</th>\n",
       "      <th>Sales_Agent</th>\n",
       "      <th>Location</th>\n",
       "      <th>Delivery_Mode</th>\n",
       "    </tr>\n",
       "  </thead>\n",
       "  <tbody>\n",
       "    <tr>\n",
       "      <th>0</th>\n",
       "      <td>8</td>\n",
       "      <td>4</td>\n",
       "      <td>4</td>\n",
       "      <td>0</td>\n",
       "      <td>0</td>\n",
       "    </tr>\n",
       "    <tr>\n",
       "      <th>1</th>\n",
       "      <td>4</td>\n",
       "      <td>0</td>\n",
       "      <td>5</td>\n",
       "      <td>6</td>\n",
       "      <td>4</td>\n",
       "    </tr>\n",
       "    <tr>\n",
       "      <th>2</th>\n",
       "      <td>3</td>\n",
       "      <td>5</td>\n",
       "      <td>1</td>\n",
       "      <td>6</td>\n",
       "      <td>0</td>\n",
       "    </tr>\n",
       "    <tr>\n",
       "      <th>3</th>\n",
       "      <td>2</td>\n",
       "      <td>5</td>\n",
       "      <td>8</td>\n",
       "      <td>4</td>\n",
       "      <td>0</td>\n",
       "    </tr>\n",
       "    <tr>\n",
       "      <th>4</th>\n",
       "      <td>3</td>\n",
       "      <td>0</td>\n",
       "      <td>8</td>\n",
       "      <td>0</td>\n",
       "      <td>0</td>\n",
       "    </tr>\n",
       "    <tr>\n",
       "      <th>...</th>\n",
       "      <td>...</td>\n",
       "      <td>...</td>\n",
       "      <td>...</td>\n",
       "      <td>...</td>\n",
       "      <td>...</td>\n",
       "    </tr>\n",
       "    <tr>\n",
       "      <th>7323</th>\n",
       "      <td>8</td>\n",
       "      <td>0</td>\n",
       "      <td>7</td>\n",
       "      <td>5</td>\n",
       "      <td>3</td>\n",
       "    </tr>\n",
       "    <tr>\n",
       "      <th>7324</th>\n",
       "      <td>2</td>\n",
       "      <td>0</td>\n",
       "      <td>2</td>\n",
       "      <td>6</td>\n",
       "      <td>4</td>\n",
       "    </tr>\n",
       "    <tr>\n",
       "      <th>7325</th>\n",
       "      <td>7</td>\n",
       "      <td>4</td>\n",
       "      <td>1</td>\n",
       "      <td>0</td>\n",
       "      <td>0</td>\n",
       "    </tr>\n",
       "    <tr>\n",
       "      <th>7326</th>\n",
       "      <td>9</td>\n",
       "      <td>3</td>\n",
       "      <td>5</td>\n",
       "      <td>6</td>\n",
       "      <td>0</td>\n",
       "    </tr>\n",
       "    <tr>\n",
       "      <th>7327</th>\n",
       "      <td>9</td>\n",
       "      <td>5</td>\n",
       "      <td>4</td>\n",
       "      <td>1</td>\n",
       "      <td>0</td>\n",
       "    </tr>\n",
       "  </tbody>\n",
       "</table>\n",
       "<p>7328 rows × 5 columns</p>\n",
       "</div>"
      ],
      "text/plain": [
       "      Product_ID  Source  Sales_Agent  Location  Delivery_Mode\n",
       "0              8       4            4         0              0\n",
       "1              4       0            5         6              4\n",
       "2              3       5            1         6              0\n",
       "3              2       5            8         4              0\n",
       "4              3       0            8         0              0\n",
       "...          ...     ...          ...       ...            ...\n",
       "7323           8       0            7         5              3\n",
       "7324           2       0            2         6              4\n",
       "7325           7       4            1         0              0\n",
       "7326           9       3            5         6              0\n",
       "7327           9       5            4         1              0\n",
       "\n",
       "[7328 rows x 5 columns]"
      ]
     },
     "execution_count": 45,
     "metadata": {},
     "output_type": "execute_result"
    }
   ],
   "source": [
    "x"
   ]
  },
  {
   "cell_type": "code",
   "execution_count": 46,
   "id": "ddef8ad8",
   "metadata": {},
   "outputs": [
    {
     "data": {
      "text/plain": [
       "0       1\n",
       "1       1\n",
       "2       1\n",
       "3       0\n",
       "4       1\n",
       "       ..\n",
       "7323    0\n",
       "7324    0\n",
       "7325    0\n",
       "7326    0\n",
       "7327    1\n",
       "Name: Status, Length: 7328, dtype: int32"
      ]
     },
     "execution_count": 46,
     "metadata": {},
     "output_type": "execute_result"
    }
   ],
   "source": [
    "y"
   ]
  },
  {
   "cell_type": "code",
   "execution_count": 47,
   "id": "bb2db95e",
   "metadata": {},
   "outputs": [],
   "source": [
    "# Splitting into training and testing data for accuracy\n",
    "x_train, x_test, y_train, y_test = train_test_split(x,y,test_size=0.2,random_state=0)"
   ]
  },
  {
   "cell_type": "code",
   "execution_count": 48,
   "id": "fbc3c5cc",
   "metadata": {},
   "outputs": [
    {
     "data": {
      "text/plain": [
       "(5862, 5)"
      ]
     },
     "execution_count": 48,
     "metadata": {},
     "output_type": "execute_result"
    }
   ],
   "source": [
    "x_train.shape"
   ]
  },
  {
   "cell_type": "code",
   "execution_count": 49,
   "id": "bbeace69",
   "metadata": {},
   "outputs": [
    {
     "data": {
      "text/plain": [
       "(1466, 5)"
      ]
     },
     "execution_count": 49,
     "metadata": {},
     "output_type": "execute_result"
    }
   ],
   "source": [
    "x_test.shape"
   ]
  },
  {
   "cell_type": "code",
   "execution_count": 50,
   "id": "590c70c9",
   "metadata": {},
   "outputs": [
    {
     "name": "stdout",
     "output_type": "stream",
     "text": [
      "Data type of y_train: int32\n",
      "Unique values in y_train: [0 1]\n",
      "y_train contains discrete values.\n"
     ]
    }
   ],
   "source": [
    "# Assuming y_train is already defined\n",
    "# Print the data type of y_train\n",
    "print(\"Data type of y_train:\", y_train.dtype)\n",
    "\n",
    "# Print the unique values in y_train\n",
    "unique_values = np.unique(y_train)\n",
    "print(\"Unique values in y_train:\", unique_values)\n",
    "\n",
    "# Check if the values are continuous\n",
    "if np.issubdtype(y_train.dtype, np.floating):\n",
    "    print(\"y_train contains continuous values.\")\n",
    "else:\n",
    "    print(\"y_train contains discrete values.\")"
   ]
  },
  {
   "cell_type": "code",
   "execution_count": 51,
   "id": "6b557375",
   "metadata": {},
   "outputs": [],
   "source": [
    "# training the model\n",
    "\n",
    "from sklearn.tree import DecisionTreeClassifier\n",
    "classifier_tree=DecisionTreeClassifier()\n",
    "params=[{'min_samples_split':[2,3,4,5],'criterion':['gini']},{'min_samples_split':[2,3,4,5],'criterion':['entropy']}]\n",
    "\n",
    "model_gridtree=GridSearchCV(classifier_tree,params,)"
   ]
  },
  {
   "cell_type": "markdown",
   "id": "d1bb02ba",
   "metadata": {},
   "source": [
    "# MODEL CREATION AND EVALUATION"
   ]
  },
  {
   "cell_type": "markdown",
   "id": "9e291318",
   "metadata": {},
   "source": [
    "## 1.LOGISTIC REGRESSION"
   ]
  },
  {
   "cell_type": "code",
   "execution_count": 52,
   "id": "f2d2c329",
   "metadata": {},
   "outputs": [
    {
     "data": {
      "text/html": [
       "<style>#sk-container-id-1 {color: black;}#sk-container-id-1 pre{padding: 0;}#sk-container-id-1 div.sk-toggleable {background-color: white;}#sk-container-id-1 label.sk-toggleable__label {cursor: pointer;display: block;width: 100%;margin-bottom: 0;padding: 0.3em;box-sizing: border-box;text-align: center;}#sk-container-id-1 label.sk-toggleable__label-arrow:before {content: \"▸\";float: left;margin-right: 0.25em;color: #696969;}#sk-container-id-1 label.sk-toggleable__label-arrow:hover:before {color: black;}#sk-container-id-1 div.sk-estimator:hover label.sk-toggleable__label-arrow:before {color: black;}#sk-container-id-1 div.sk-toggleable__content {max-height: 0;max-width: 0;overflow: hidden;text-align: left;background-color: #f0f8ff;}#sk-container-id-1 div.sk-toggleable__content pre {margin: 0.2em;color: black;border-radius: 0.25em;background-color: #f0f8ff;}#sk-container-id-1 input.sk-toggleable__control:checked~div.sk-toggleable__content {max-height: 200px;max-width: 100%;overflow: auto;}#sk-container-id-1 input.sk-toggleable__control:checked~label.sk-toggleable__label-arrow:before {content: \"▾\";}#sk-container-id-1 div.sk-estimator input.sk-toggleable__control:checked~label.sk-toggleable__label {background-color: #d4ebff;}#sk-container-id-1 div.sk-label input.sk-toggleable__control:checked~label.sk-toggleable__label {background-color: #d4ebff;}#sk-container-id-1 input.sk-hidden--visually {border: 0;clip: rect(1px 1px 1px 1px);clip: rect(1px, 1px, 1px, 1px);height: 1px;margin: -1px;overflow: hidden;padding: 0;position: absolute;width: 1px;}#sk-container-id-1 div.sk-estimator {font-family: monospace;background-color: #f0f8ff;border: 1px dotted black;border-radius: 0.25em;box-sizing: border-box;margin-bottom: 0.5em;}#sk-container-id-1 div.sk-estimator:hover {background-color: #d4ebff;}#sk-container-id-1 div.sk-parallel-item::after {content: \"\";width: 100%;border-bottom: 1px solid gray;flex-grow: 1;}#sk-container-id-1 div.sk-label:hover label.sk-toggleable__label {background-color: #d4ebff;}#sk-container-id-1 div.sk-serial::before {content: \"\";position: absolute;border-left: 1px solid gray;box-sizing: border-box;top: 0;bottom: 0;left: 50%;z-index: 0;}#sk-container-id-1 div.sk-serial {display: flex;flex-direction: column;align-items: center;background-color: white;padding-right: 0.2em;padding-left: 0.2em;position: relative;}#sk-container-id-1 div.sk-item {position: relative;z-index: 1;}#sk-container-id-1 div.sk-parallel {display: flex;align-items: stretch;justify-content: center;background-color: white;position: relative;}#sk-container-id-1 div.sk-item::before, #sk-container-id-1 div.sk-parallel-item::before {content: \"\";position: absolute;border-left: 1px solid gray;box-sizing: border-box;top: 0;bottom: 0;left: 50%;z-index: -1;}#sk-container-id-1 div.sk-parallel-item {display: flex;flex-direction: column;z-index: 1;position: relative;background-color: white;}#sk-container-id-1 div.sk-parallel-item:first-child::after {align-self: flex-end;width: 50%;}#sk-container-id-1 div.sk-parallel-item:last-child::after {align-self: flex-start;width: 50%;}#sk-container-id-1 div.sk-parallel-item:only-child::after {width: 0;}#sk-container-id-1 div.sk-dashed-wrapped {border: 1px dashed gray;margin: 0 0.4em 0.5em 0.4em;box-sizing: border-box;padding-bottom: 0.4em;background-color: white;}#sk-container-id-1 div.sk-label label {font-family: monospace;font-weight: bold;display: inline-block;line-height: 1.2em;}#sk-container-id-1 div.sk-label-container {text-align: center;}#sk-container-id-1 div.sk-container {/* jupyter's `normalize.less` sets `[hidden] { display: none; }` but bootstrap.min.css set `[hidden] { display: none !important; }` so we also need the `!important` here to be able to override the default hidden behavior on the sphinx rendered scikit-learn.org. See: https://github.com/scikit-learn/scikit-learn/issues/21755 */display: inline-block !important;position: relative;}#sk-container-id-1 div.sk-text-repr-fallback {display: none;}</style><div id=\"sk-container-id-1\" class=\"sk-top-container\"><div class=\"sk-text-repr-fallback\"><pre>LogisticRegression()</pre><b>In a Jupyter environment, please rerun this cell to show the HTML representation or trust the notebook. <br />On GitHub, the HTML representation is unable to render, please try loading this page with nbviewer.org.</b></div><div class=\"sk-container\" hidden><div class=\"sk-item\"><div class=\"sk-estimator sk-toggleable\"><input class=\"sk-toggleable__control sk-hidden--visually\" id=\"sk-estimator-id-1\" type=\"checkbox\" checked><label for=\"sk-estimator-id-1\" class=\"sk-toggleable__label sk-toggleable__label-arrow\">LogisticRegression</label><div class=\"sk-toggleable__content\"><pre>LogisticRegression()</pre></div></div></div></div></div>"
      ],
      "text/plain": [
       "LogisticRegression()"
      ]
     },
     "execution_count": 52,
     "metadata": {},
     "output_type": "execute_result"
    }
   ],
   "source": [
    "from sklearn.linear_model import LogisticRegression\n",
    "\n",
    "# training the model\n",
    "\n",
    "log_regressor=LogisticRegression()\n",
    "log_regressor.fit(x_train,y_train)\n"
   ]
  },
  {
   "cell_type": "markdown",
   "id": "b6dc09f8",
   "metadata": {},
   "source": [
    "**In a Jupyter environment, please rerun this cell to show the HTML representation or trust the notebook.**\n",
    "\n",
    "**On GitHub, the HTML representation is unable to render, please try loading this page with nbviewer.org.**"
   ]
  },
  {
   "cell_type": "code",
   "execution_count": 53,
   "id": "e1e84df9",
   "metadata": {},
   "outputs": [
    {
     "data": {
      "text/plain": [
       "array([1, 1, 1, ..., 1, 1, 1])"
      ]
     },
     "execution_count": 53,
     "metadata": {},
     "output_type": "execute_result"
    }
   ],
   "source": [
    "# predicting the model\n",
    "\n",
    "y_pred_log_regressor=log_regressor.predict(x_test)\n",
    "y_pred_log_regressor"
   ]
  },
  {
   "cell_type": "code",
   "execution_count": 54,
   "id": "ac770516",
   "metadata": {},
   "outputs": [
    {
     "name": "stdout",
     "output_type": "stream",
     "text": [
      "0.6889495225102319\n",
      "              precision    recall  f1-score   support\n",
      "\n",
      "           0       0.73      0.77      0.75       887\n",
      "           1       0.62      0.56      0.59       579\n",
      "\n",
      "    accuracy                           0.69      1466\n",
      "   macro avg       0.67      0.67      0.67      1466\n",
      "weighted avg       0.68      0.69      0.69      1466\n",
      "\n"
     ]
    }
   ],
   "source": [
    "# finding accuracy,clasification report\n",
    "\n",
    "acc_LR = accuracy_score(y_test,y_pred_log_regressor)\n",
    "print(accuracy_score(y_test,y_pred_log_regressor))\n",
    "print(classification_report(y_test,y_pred_log_regressor))\n"
   ]
  },
  {
   "cell_type": "code",
   "execution_count": 55,
   "id": "af9106c2",
   "metadata": {},
   "outputs": [
    {
     "name": "stdout",
     "output_type": "stream",
     "text": [
      "[[687 200]\n",
      " [256 323]]\n"
     ]
    }
   ],
   "source": [
    "# finding confusion matrix\n",
    "\n",
    "print(confusion_matrix(y_test,y_pred_log_regressor))\n"
   ]
  },
  {
   "cell_type": "markdown",
   "id": "d13de147",
   "metadata": {},
   "source": [
    "# 2.SUPPORT VECTOR MACHINE"
   ]
  },
  {
   "cell_type": "code",
   "execution_count": 56,
   "id": "e4de1cbf",
   "metadata": {},
   "outputs": [
    {
     "data": {
      "text/html": [
       "<style>#sk-container-id-2 {color: black;}#sk-container-id-2 pre{padding: 0;}#sk-container-id-2 div.sk-toggleable {background-color: white;}#sk-container-id-2 label.sk-toggleable__label {cursor: pointer;display: block;width: 100%;margin-bottom: 0;padding: 0.3em;box-sizing: border-box;text-align: center;}#sk-container-id-2 label.sk-toggleable__label-arrow:before {content: \"▸\";float: left;margin-right: 0.25em;color: #696969;}#sk-container-id-2 label.sk-toggleable__label-arrow:hover:before {color: black;}#sk-container-id-2 div.sk-estimator:hover label.sk-toggleable__label-arrow:before {color: black;}#sk-container-id-2 div.sk-toggleable__content {max-height: 0;max-width: 0;overflow: hidden;text-align: left;background-color: #f0f8ff;}#sk-container-id-2 div.sk-toggleable__content pre {margin: 0.2em;color: black;border-radius: 0.25em;background-color: #f0f8ff;}#sk-container-id-2 input.sk-toggleable__control:checked~div.sk-toggleable__content {max-height: 200px;max-width: 100%;overflow: auto;}#sk-container-id-2 input.sk-toggleable__control:checked~label.sk-toggleable__label-arrow:before {content: \"▾\";}#sk-container-id-2 div.sk-estimator input.sk-toggleable__control:checked~label.sk-toggleable__label {background-color: #d4ebff;}#sk-container-id-2 div.sk-label input.sk-toggleable__control:checked~label.sk-toggleable__label {background-color: #d4ebff;}#sk-container-id-2 input.sk-hidden--visually {border: 0;clip: rect(1px 1px 1px 1px);clip: rect(1px, 1px, 1px, 1px);height: 1px;margin: -1px;overflow: hidden;padding: 0;position: absolute;width: 1px;}#sk-container-id-2 div.sk-estimator {font-family: monospace;background-color: #f0f8ff;border: 1px dotted black;border-radius: 0.25em;box-sizing: border-box;margin-bottom: 0.5em;}#sk-container-id-2 div.sk-estimator:hover {background-color: #d4ebff;}#sk-container-id-2 div.sk-parallel-item::after {content: \"\";width: 100%;border-bottom: 1px solid gray;flex-grow: 1;}#sk-container-id-2 div.sk-label:hover label.sk-toggleable__label {background-color: #d4ebff;}#sk-container-id-2 div.sk-serial::before {content: \"\";position: absolute;border-left: 1px solid gray;box-sizing: border-box;top: 0;bottom: 0;left: 50%;z-index: 0;}#sk-container-id-2 div.sk-serial {display: flex;flex-direction: column;align-items: center;background-color: white;padding-right: 0.2em;padding-left: 0.2em;position: relative;}#sk-container-id-2 div.sk-item {position: relative;z-index: 1;}#sk-container-id-2 div.sk-parallel {display: flex;align-items: stretch;justify-content: center;background-color: white;position: relative;}#sk-container-id-2 div.sk-item::before, #sk-container-id-2 div.sk-parallel-item::before {content: \"\";position: absolute;border-left: 1px solid gray;box-sizing: border-box;top: 0;bottom: 0;left: 50%;z-index: -1;}#sk-container-id-2 div.sk-parallel-item {display: flex;flex-direction: column;z-index: 1;position: relative;background-color: white;}#sk-container-id-2 div.sk-parallel-item:first-child::after {align-self: flex-end;width: 50%;}#sk-container-id-2 div.sk-parallel-item:last-child::after {align-self: flex-start;width: 50%;}#sk-container-id-2 div.sk-parallel-item:only-child::after {width: 0;}#sk-container-id-2 div.sk-dashed-wrapped {border: 1px dashed gray;margin: 0 0.4em 0.5em 0.4em;box-sizing: border-box;padding-bottom: 0.4em;background-color: white;}#sk-container-id-2 div.sk-label label {font-family: monospace;font-weight: bold;display: inline-block;line-height: 1.2em;}#sk-container-id-2 div.sk-label-container {text-align: center;}#sk-container-id-2 div.sk-container {/* jupyter's `normalize.less` sets `[hidden] { display: none; }` but bootstrap.min.css set `[hidden] { display: none !important; }` so we also need the `!important` here to be able to override the default hidden behavior on the sphinx rendered scikit-learn.org. See: https://github.com/scikit-learn/scikit-learn/issues/21755 */display: inline-block !important;position: relative;}#sk-container-id-2 div.sk-text-repr-fallback {display: none;}</style><div id=\"sk-container-id-2\" class=\"sk-top-container\"><div class=\"sk-text-repr-fallback\"><pre>GridSearchCV(cv=5, estimator=SVC(),\n",
       "             param_grid={&#x27;C&#x27;: [0.001, 0.01, 0.1, 1, 10],\n",
       "                         &#x27;gamma&#x27;: [0.0001, 0.001, 0.01, 0.1, 1, 10],\n",
       "                         &#x27;kernel&#x27;: [&#x27;rbf&#x27;]})</pre><b>In a Jupyter environment, please rerun this cell to show the HTML representation or trust the notebook. <br />On GitHub, the HTML representation is unable to render, please try loading this page with nbviewer.org.</b></div><div class=\"sk-container\" hidden><div class=\"sk-item sk-dashed-wrapped\"><div class=\"sk-label-container\"><div class=\"sk-label sk-toggleable\"><input class=\"sk-toggleable__control sk-hidden--visually\" id=\"sk-estimator-id-2\" type=\"checkbox\" ><label for=\"sk-estimator-id-2\" class=\"sk-toggleable__label sk-toggleable__label-arrow\">GridSearchCV</label><div class=\"sk-toggleable__content\"><pre>GridSearchCV(cv=5, estimator=SVC(),\n",
       "             param_grid={&#x27;C&#x27;: [0.001, 0.01, 0.1, 1, 10],\n",
       "                         &#x27;gamma&#x27;: [0.0001, 0.001, 0.01, 0.1, 1, 10],\n",
       "                         &#x27;kernel&#x27;: [&#x27;rbf&#x27;]})</pre></div></div></div><div class=\"sk-parallel\"><div class=\"sk-parallel-item\"><div class=\"sk-item\"><div class=\"sk-label-container\"><div class=\"sk-label sk-toggleable\"><input class=\"sk-toggleable__control sk-hidden--visually\" id=\"sk-estimator-id-3\" type=\"checkbox\" ><label for=\"sk-estimator-id-3\" class=\"sk-toggleable__label sk-toggleable__label-arrow\">estimator: SVC</label><div class=\"sk-toggleable__content\"><pre>SVC()</pre></div></div></div><div class=\"sk-serial\"><div class=\"sk-item\"><div class=\"sk-estimator sk-toggleable\"><input class=\"sk-toggleable__control sk-hidden--visually\" id=\"sk-estimator-id-4\" type=\"checkbox\" ><label for=\"sk-estimator-id-4\" class=\"sk-toggleable__label sk-toggleable__label-arrow\">SVC</label><div class=\"sk-toggleable__content\"><pre>SVC()</pre></div></div></div></div></div></div></div></div></div></div>"
      ],
      "text/plain": [
       "GridSearchCV(cv=5, estimator=SVC(),\n",
       "             param_grid={'C': [0.001, 0.01, 0.1, 1, 10],\n",
       "                         'gamma': [0.0001, 0.001, 0.01, 0.1, 1, 10],\n",
       "                         'kernel': ['rbf']})"
      ]
     },
     "execution_count": 56,
     "metadata": {},
     "output_type": "execute_result"
    }
   ],
   "source": [
    "from sklearn.svm import SVC\n",
    "\n",
    "# training the model\n",
    "\n",
    "params={'kernel':['rbf'],'gamma':[0.0001, 0.001, 0.01, 0.1, 1, 10],'C':[0.001, 0.01, 0.1, 1, 10]}\n",
    "rbf_svc=GridSearchCV(SVC(),params,cv=5)\n",
    "rbf_svc.fit(x_train,y_train)\n"
   ]
  },
  {
   "cell_type": "markdown",
   "id": "da81a470",
   "metadata": {},
   "source": [
    "**In a Jupyter environment, please rerun this cell to show the HTML representation or trust the notebook.**\n",
    "\n",
    "**On GitHub, the HTML representation is unable to render, please try loading this page with nbviewer.org.**"
   ]
  },
  {
   "cell_type": "code",
   "execution_count": 57,
   "id": "4a9a2a19",
   "metadata": {},
   "outputs": [
    {
     "data": {
      "text/plain": [
       "{'C': 1, 'gamma': 0.1, 'kernel': 'rbf'}"
      ]
     },
     "execution_count": 57,
     "metadata": {},
     "output_type": "execute_result"
    }
   ],
   "source": [
    "# checking the best parameters\n",
    "rbf_svc.best_params_"
   ]
  },
  {
   "cell_type": "code",
   "execution_count": 58,
   "id": "f2dafcbd",
   "metadata": {},
   "outputs": [
    {
     "data": {
      "text/plain": [
       "array([0, 1, 1, ..., 1, 0, 1])"
      ]
     },
     "execution_count": 58,
     "metadata": {},
     "output_type": "execute_result"
    }
   ],
   "source": [
    "# predicting the model\n",
    "y_pred_svc=rbf_svc.predict(x_test)\n",
    "y_pred_svc"
   ]
  },
  {
   "cell_type": "code",
   "execution_count": 59,
   "id": "b69f799e",
   "metadata": {},
   "outputs": [
    {
     "name": "stdout",
     "output_type": "stream",
     "text": [
      "0.708731241473397\n",
      "              precision    recall  f1-score   support\n",
      "\n",
      "           0       0.73      0.82      0.77       887\n",
      "           1       0.66      0.54      0.59       579\n",
      "\n",
      "    accuracy                           0.71      1466\n",
      "   macro avg       0.70      0.68      0.68      1466\n",
      "weighted avg       0.70      0.71      0.70      1466\n",
      "\n"
     ]
    }
   ],
   "source": [
    "# finding accuracy,clasification report\n",
    "\n",
    "acc_SVM = accuracy_score(y_test,y_pred_svc)\n",
    "print(accuracy_score(y_test,y_pred_svc))\n",
    "print(classification_report(y_test,y_pred_svc))\n"
   ]
  },
  {
   "cell_type": "code",
   "execution_count": 60,
   "id": "2d11fc20",
   "metadata": {},
   "outputs": [
    {
     "name": "stdout",
     "output_type": "stream",
     "text": [
      "[[729 158]\n",
      " [269 310]]\n"
     ]
    }
   ],
   "source": [
    "# finding confusion matrix\n",
    "\n",
    "print(confusion_matrix(y_test,y_pred_svc))"
   ]
  },
  {
   "cell_type": "markdown",
   "id": "712ce4c8",
   "metadata": {},
   "source": [
    "# 3.DECISION TREE WITH GRIDSEARCHCV\n"
   ]
  },
  {
   "cell_type": "code",
   "execution_count": 61,
   "id": "d79ca85f",
   "metadata": {},
   "outputs": [
    {
     "data": {
      "text/html": [
       "<style>#sk-container-id-3 {color: black;}#sk-container-id-3 pre{padding: 0;}#sk-container-id-3 div.sk-toggleable {background-color: white;}#sk-container-id-3 label.sk-toggleable__label {cursor: pointer;display: block;width: 100%;margin-bottom: 0;padding: 0.3em;box-sizing: border-box;text-align: center;}#sk-container-id-3 label.sk-toggleable__label-arrow:before {content: \"▸\";float: left;margin-right: 0.25em;color: #696969;}#sk-container-id-3 label.sk-toggleable__label-arrow:hover:before {color: black;}#sk-container-id-3 div.sk-estimator:hover label.sk-toggleable__label-arrow:before {color: black;}#sk-container-id-3 div.sk-toggleable__content {max-height: 0;max-width: 0;overflow: hidden;text-align: left;background-color: #f0f8ff;}#sk-container-id-3 div.sk-toggleable__content pre {margin: 0.2em;color: black;border-radius: 0.25em;background-color: #f0f8ff;}#sk-container-id-3 input.sk-toggleable__control:checked~div.sk-toggleable__content {max-height: 200px;max-width: 100%;overflow: auto;}#sk-container-id-3 input.sk-toggleable__control:checked~label.sk-toggleable__label-arrow:before {content: \"▾\";}#sk-container-id-3 div.sk-estimator input.sk-toggleable__control:checked~label.sk-toggleable__label {background-color: #d4ebff;}#sk-container-id-3 div.sk-label input.sk-toggleable__control:checked~label.sk-toggleable__label {background-color: #d4ebff;}#sk-container-id-3 input.sk-hidden--visually {border: 0;clip: rect(1px 1px 1px 1px);clip: rect(1px, 1px, 1px, 1px);height: 1px;margin: -1px;overflow: hidden;padding: 0;position: absolute;width: 1px;}#sk-container-id-3 div.sk-estimator {font-family: monospace;background-color: #f0f8ff;border: 1px dotted black;border-radius: 0.25em;box-sizing: border-box;margin-bottom: 0.5em;}#sk-container-id-3 div.sk-estimator:hover {background-color: #d4ebff;}#sk-container-id-3 div.sk-parallel-item::after {content: \"\";width: 100%;border-bottom: 1px solid gray;flex-grow: 1;}#sk-container-id-3 div.sk-label:hover label.sk-toggleable__label {background-color: #d4ebff;}#sk-container-id-3 div.sk-serial::before {content: \"\";position: absolute;border-left: 1px solid gray;box-sizing: border-box;top: 0;bottom: 0;left: 50%;z-index: 0;}#sk-container-id-3 div.sk-serial {display: flex;flex-direction: column;align-items: center;background-color: white;padding-right: 0.2em;padding-left: 0.2em;position: relative;}#sk-container-id-3 div.sk-item {position: relative;z-index: 1;}#sk-container-id-3 div.sk-parallel {display: flex;align-items: stretch;justify-content: center;background-color: white;position: relative;}#sk-container-id-3 div.sk-item::before, #sk-container-id-3 div.sk-parallel-item::before {content: \"\";position: absolute;border-left: 1px solid gray;box-sizing: border-box;top: 0;bottom: 0;left: 50%;z-index: -1;}#sk-container-id-3 div.sk-parallel-item {display: flex;flex-direction: column;z-index: 1;position: relative;background-color: white;}#sk-container-id-3 div.sk-parallel-item:first-child::after {align-self: flex-end;width: 50%;}#sk-container-id-3 div.sk-parallel-item:last-child::after {align-self: flex-start;width: 50%;}#sk-container-id-3 div.sk-parallel-item:only-child::after {width: 0;}#sk-container-id-3 div.sk-dashed-wrapped {border: 1px dashed gray;margin: 0 0.4em 0.5em 0.4em;box-sizing: border-box;padding-bottom: 0.4em;background-color: white;}#sk-container-id-3 div.sk-label label {font-family: monospace;font-weight: bold;display: inline-block;line-height: 1.2em;}#sk-container-id-3 div.sk-label-container {text-align: center;}#sk-container-id-3 div.sk-container {/* jupyter's `normalize.less` sets `[hidden] { display: none; }` but bootstrap.min.css set `[hidden] { display: none !important; }` so we also need the `!important` here to be able to override the default hidden behavior on the sphinx rendered scikit-learn.org. See: https://github.com/scikit-learn/scikit-learn/issues/21755 */display: inline-block !important;position: relative;}#sk-container-id-3 div.sk-text-repr-fallback {display: none;}</style><div id=\"sk-container-id-3\" class=\"sk-top-container\"><div class=\"sk-text-repr-fallback\"><pre>GridSearchCV(cv=10, estimator=DecisionTreeClassifier(random_state=42),\n",
       "             param_grid=[{&#x27;criterion&#x27;: [&#x27;gini&#x27;],\n",
       "                          &#x27;min_samples_split&#x27;: [2, 3, 4, 5]},\n",
       "                         {&#x27;criterion&#x27;: [&#x27;entropy&#x27;],\n",
       "                          &#x27;min_samples_split&#x27;: [2, 3, 4, 5]}],\n",
       "             scoring=&#x27;accuracy&#x27;)</pre><b>In a Jupyter environment, please rerun this cell to show the HTML representation or trust the notebook. <br />On GitHub, the HTML representation is unable to render, please try loading this page with nbviewer.org.</b></div><div class=\"sk-container\" hidden><div class=\"sk-item sk-dashed-wrapped\"><div class=\"sk-label-container\"><div class=\"sk-label sk-toggleable\"><input class=\"sk-toggleable__control sk-hidden--visually\" id=\"sk-estimator-id-5\" type=\"checkbox\" ><label for=\"sk-estimator-id-5\" class=\"sk-toggleable__label sk-toggleable__label-arrow\">GridSearchCV</label><div class=\"sk-toggleable__content\"><pre>GridSearchCV(cv=10, estimator=DecisionTreeClassifier(random_state=42),\n",
       "             param_grid=[{&#x27;criterion&#x27;: [&#x27;gini&#x27;],\n",
       "                          &#x27;min_samples_split&#x27;: [2, 3, 4, 5]},\n",
       "                         {&#x27;criterion&#x27;: [&#x27;entropy&#x27;],\n",
       "                          &#x27;min_samples_split&#x27;: [2, 3, 4, 5]}],\n",
       "             scoring=&#x27;accuracy&#x27;)</pre></div></div></div><div class=\"sk-parallel\"><div class=\"sk-parallel-item\"><div class=\"sk-item\"><div class=\"sk-label-container\"><div class=\"sk-label sk-toggleable\"><input class=\"sk-toggleable__control sk-hidden--visually\" id=\"sk-estimator-id-6\" type=\"checkbox\" ><label for=\"sk-estimator-id-6\" class=\"sk-toggleable__label sk-toggleable__label-arrow\">estimator: DecisionTreeClassifier</label><div class=\"sk-toggleable__content\"><pre>DecisionTreeClassifier(random_state=42)</pre></div></div></div><div class=\"sk-serial\"><div class=\"sk-item\"><div class=\"sk-estimator sk-toggleable\"><input class=\"sk-toggleable__control sk-hidden--visually\" id=\"sk-estimator-id-7\" type=\"checkbox\" ><label for=\"sk-estimator-id-7\" class=\"sk-toggleable__label sk-toggleable__label-arrow\">DecisionTreeClassifier</label><div class=\"sk-toggleable__content\"><pre>DecisionTreeClassifier(random_state=42)</pre></div></div></div></div></div></div></div></div></div></div>"
      ],
      "text/plain": [
       "GridSearchCV(cv=10, estimator=DecisionTreeClassifier(random_state=42),\n",
       "             param_grid=[{'criterion': ['gini'],\n",
       "                          'min_samples_split': [2, 3, 4, 5]},\n",
       "                         {'criterion': ['entropy'],\n",
       "                          'min_samples_split': [2, 3, 4, 5]}],\n",
       "             scoring='accuracy')"
      ]
     },
     "execution_count": 61,
     "metadata": {},
     "output_type": "execute_result"
    }
   ],
   "source": [
    "#training the model\n",
    "\n",
    "from sklearn.tree import DecisionTreeClassifier\n",
    "classifier_tree=DecisionTreeClassifier(random_state=42,splitter='best')\n",
    "params=[{'min_samples_split':[2,3,4,5],'criterion':['gini']},{'min_samples_split':[2,3,4,5],'criterion':['entropy']}]\n",
    "\n",
    "model_gridtree=GridSearchCV(classifier_tree,params,scoring='accuracy',cv=10)\n",
    "model_gridtree.fit(x_train,y_train)\n"
   ]
  },
  {
   "cell_type": "markdown",
   "id": "6405e68c",
   "metadata": {},
   "source": [
    "**In a Jupyter environment, please rerun this cell to show the HTML representation or trust the notebook.**\n",
    "\n",
    "**On GitHub, the HTML representation is unable to render, please try loading this page with nbviewer.org.**"
   ]
  },
  {
   "cell_type": "code",
   "execution_count": 62,
   "id": "3383a2be",
   "metadata": {},
   "outputs": [
    {
     "data": {
      "text/plain": [
       "{'criterion': 'entropy', 'min_samples_split': 5}"
      ]
     },
     "execution_count": 62,
     "metadata": {},
     "output_type": "execute_result"
    }
   ],
   "source": [
    "#get the best parameters\n",
    "\n",
    "model_gridtree.best_params_"
   ]
  },
  {
   "cell_type": "code",
   "execution_count": 63,
   "id": "e614220c",
   "metadata": {},
   "outputs": [
    {
     "data": {
      "text/plain": [
       "array([0, 1, 1, ..., 1, 1, 1])"
      ]
     },
     "execution_count": 63,
     "metadata": {},
     "output_type": "execute_result"
    }
   ],
   "source": [
    "#predicting the model\n",
    "y_pred_tree=model_gridtree.predict(x_test)\n",
    "y_pred_tree\n"
   ]
  },
  {
   "cell_type": "code",
   "execution_count": 64,
   "id": "47632425",
   "metadata": {},
   "outputs": [
    {
     "name": "stdout",
     "output_type": "stream",
     "text": [
      "0.7080491132332879\n",
      "              precision    recall  f1-score   support\n",
      "\n",
      "           0       0.74      0.79      0.77       887\n",
      "           1       0.65      0.58      0.61       579\n",
      "\n",
      "    accuracy                           0.71      1466\n",
      "   macro avg       0.69      0.69      0.69      1466\n",
      "weighted avg       0.70      0.71      0.70      1466\n",
      "\n",
      "[[704 183]\n",
      " [245 334]]\n"
     ]
    }
   ],
   "source": [
    "#finding accuracy ,classification report and confusion matrix\n",
    "\n",
    "acc_DT = accuracy_score(y_test,y_pred_tree)\n",
    "print(accuracy_score(y_test,y_pred_tree))\n",
    "print(classification_report(y_test,y_pred_tree))\n",
    "print(confusion_matrix(y_test,y_pred_tree))"
   ]
  },
  {
   "cell_type": "markdown",
   "id": "1573ad4c",
   "metadata": {},
   "source": [
    "# 4.RANDOM FOREST WITH GRIDSEARCHCV"
   ]
  },
  {
   "cell_type": "code",
   "execution_count": 65,
   "id": "19de4ae4",
   "metadata": {},
   "outputs": [
    {
     "data": {
      "text/html": [
       "<style>#sk-container-id-4 {color: black;}#sk-container-id-4 pre{padding: 0;}#sk-container-id-4 div.sk-toggleable {background-color: white;}#sk-container-id-4 label.sk-toggleable__label {cursor: pointer;display: block;width: 100%;margin-bottom: 0;padding: 0.3em;box-sizing: border-box;text-align: center;}#sk-container-id-4 label.sk-toggleable__label-arrow:before {content: \"▸\";float: left;margin-right: 0.25em;color: #696969;}#sk-container-id-4 label.sk-toggleable__label-arrow:hover:before {color: black;}#sk-container-id-4 div.sk-estimator:hover label.sk-toggleable__label-arrow:before {color: black;}#sk-container-id-4 div.sk-toggleable__content {max-height: 0;max-width: 0;overflow: hidden;text-align: left;background-color: #f0f8ff;}#sk-container-id-4 div.sk-toggleable__content pre {margin: 0.2em;color: black;border-radius: 0.25em;background-color: #f0f8ff;}#sk-container-id-4 input.sk-toggleable__control:checked~div.sk-toggleable__content {max-height: 200px;max-width: 100%;overflow: auto;}#sk-container-id-4 input.sk-toggleable__control:checked~label.sk-toggleable__label-arrow:before {content: \"▾\";}#sk-container-id-4 div.sk-estimator input.sk-toggleable__control:checked~label.sk-toggleable__label {background-color: #d4ebff;}#sk-container-id-4 div.sk-label input.sk-toggleable__control:checked~label.sk-toggleable__label {background-color: #d4ebff;}#sk-container-id-4 input.sk-hidden--visually {border: 0;clip: rect(1px 1px 1px 1px);clip: rect(1px, 1px, 1px, 1px);height: 1px;margin: -1px;overflow: hidden;padding: 0;position: absolute;width: 1px;}#sk-container-id-4 div.sk-estimator {font-family: monospace;background-color: #f0f8ff;border: 1px dotted black;border-radius: 0.25em;box-sizing: border-box;margin-bottom: 0.5em;}#sk-container-id-4 div.sk-estimator:hover {background-color: #d4ebff;}#sk-container-id-4 div.sk-parallel-item::after {content: \"\";width: 100%;border-bottom: 1px solid gray;flex-grow: 1;}#sk-container-id-4 div.sk-label:hover label.sk-toggleable__label {background-color: #d4ebff;}#sk-container-id-4 div.sk-serial::before {content: \"\";position: absolute;border-left: 1px solid gray;box-sizing: border-box;top: 0;bottom: 0;left: 50%;z-index: 0;}#sk-container-id-4 div.sk-serial {display: flex;flex-direction: column;align-items: center;background-color: white;padding-right: 0.2em;padding-left: 0.2em;position: relative;}#sk-container-id-4 div.sk-item {position: relative;z-index: 1;}#sk-container-id-4 div.sk-parallel {display: flex;align-items: stretch;justify-content: center;background-color: white;position: relative;}#sk-container-id-4 div.sk-item::before, #sk-container-id-4 div.sk-parallel-item::before {content: \"\";position: absolute;border-left: 1px solid gray;box-sizing: border-box;top: 0;bottom: 0;left: 50%;z-index: -1;}#sk-container-id-4 div.sk-parallel-item {display: flex;flex-direction: column;z-index: 1;position: relative;background-color: white;}#sk-container-id-4 div.sk-parallel-item:first-child::after {align-self: flex-end;width: 50%;}#sk-container-id-4 div.sk-parallel-item:last-child::after {align-self: flex-start;width: 50%;}#sk-container-id-4 div.sk-parallel-item:only-child::after {width: 0;}#sk-container-id-4 div.sk-dashed-wrapped {border: 1px dashed gray;margin: 0 0.4em 0.5em 0.4em;box-sizing: border-box;padding-bottom: 0.4em;background-color: white;}#sk-container-id-4 div.sk-label label {font-family: monospace;font-weight: bold;display: inline-block;line-height: 1.2em;}#sk-container-id-4 div.sk-label-container {text-align: center;}#sk-container-id-4 div.sk-container {/* jupyter's `normalize.less` sets `[hidden] { display: none; }` but bootstrap.min.css set `[hidden] { display: none !important; }` so we also need the `!important` here to be able to override the default hidden behavior on the sphinx rendered scikit-learn.org. See: https://github.com/scikit-learn/scikit-learn/issues/21755 */display: inline-block !important;position: relative;}#sk-container-id-4 div.sk-text-repr-fallback {display: none;}</style><div id=\"sk-container-id-4\" class=\"sk-top-container\"><div class=\"sk-text-repr-fallback\"><pre>GridSearchCV(cv=10, estimator=RandomForestClassifier(),\n",
       "             param_grid={&#x27;criterion&#x27;: [&#x27;gini&#x27;, &#x27;entropy&#x27;],\n",
       "                         &#x27;max_depth&#x27;: [None, 10, 20],\n",
       "                         &#x27;min_samples_leaf&#x27;: [1, 2, 4],\n",
       "                         &#x27;min_samples_split&#x27;: [2, 5, 10],\n",
       "                         &#x27;n_estimators&#x27;: [20, 30, 50, 70, 80]},\n",
       "             scoring=&#x27;accuracy&#x27;)</pre><b>In a Jupyter environment, please rerun this cell to show the HTML representation or trust the notebook. <br />On GitHub, the HTML representation is unable to render, please try loading this page with nbviewer.org.</b></div><div class=\"sk-container\" hidden><div class=\"sk-item sk-dashed-wrapped\"><div class=\"sk-label-container\"><div class=\"sk-label sk-toggleable\"><input class=\"sk-toggleable__control sk-hidden--visually\" id=\"sk-estimator-id-8\" type=\"checkbox\" ><label for=\"sk-estimator-id-8\" class=\"sk-toggleable__label sk-toggleable__label-arrow\">GridSearchCV</label><div class=\"sk-toggleable__content\"><pre>GridSearchCV(cv=10, estimator=RandomForestClassifier(),\n",
       "             param_grid={&#x27;criterion&#x27;: [&#x27;gini&#x27;, &#x27;entropy&#x27;],\n",
       "                         &#x27;max_depth&#x27;: [None, 10, 20],\n",
       "                         &#x27;min_samples_leaf&#x27;: [1, 2, 4],\n",
       "                         &#x27;min_samples_split&#x27;: [2, 5, 10],\n",
       "                         &#x27;n_estimators&#x27;: [20, 30, 50, 70, 80]},\n",
       "             scoring=&#x27;accuracy&#x27;)</pre></div></div></div><div class=\"sk-parallel\"><div class=\"sk-parallel-item\"><div class=\"sk-item\"><div class=\"sk-label-container\"><div class=\"sk-label sk-toggleable\"><input class=\"sk-toggleable__control sk-hidden--visually\" id=\"sk-estimator-id-9\" type=\"checkbox\" ><label for=\"sk-estimator-id-9\" class=\"sk-toggleable__label sk-toggleable__label-arrow\">estimator: RandomForestClassifier</label><div class=\"sk-toggleable__content\"><pre>RandomForestClassifier()</pre></div></div></div><div class=\"sk-serial\"><div class=\"sk-item\"><div class=\"sk-estimator sk-toggleable\"><input class=\"sk-toggleable__control sk-hidden--visually\" id=\"sk-estimator-id-10\" type=\"checkbox\" ><label for=\"sk-estimator-id-10\" class=\"sk-toggleable__label sk-toggleable__label-arrow\">RandomForestClassifier</label><div class=\"sk-toggleable__content\"><pre>RandomForestClassifier()</pre></div></div></div></div></div></div></div></div></div></div>"
      ],
      "text/plain": [
       "GridSearchCV(cv=10, estimator=RandomForestClassifier(),\n",
       "             param_grid={'criterion': ['gini', 'entropy'],\n",
       "                         'max_depth': [None, 10, 20],\n",
       "                         'min_samples_leaf': [1, 2, 4],\n",
       "                         'min_samples_split': [2, 5, 10],\n",
       "                         'n_estimators': [20, 30, 50, 70, 80]},\n",
       "             scoring='accuracy')"
      ]
     },
     "execution_count": 65,
     "metadata": {},
     "output_type": "execute_result"
    }
   ],
   "source": [
    "#training the model\n",
    "\n",
    "from sklearn.ensemble import RandomForestClassifier\n",
    "\n",
    "rfc=RandomForestClassifier()\n",
    "params = {\n",
    "    'n_estimators': [20,30,50,70,80],\n",
    "    'criterion': ['gini', 'entropy'],\n",
    "    'max_depth': [None, 10, 20],\n",
    "    'min_samples_split': [2, 5, 10],\n",
    "    'min_samples_leaf': [1, 2, 4]}\n",
    "\n",
    "rfc_grid=GridSearchCV(rfc,params,scoring='accuracy',cv=10)\n",
    "rfc_grid.fit(x_train,y_train)\n"
   ]
  },
  {
   "cell_type": "markdown",
   "id": "cfae78a1",
   "metadata": {},
   "source": [
    "**In a Jupyter environment, please rerun this cell to show the HTML representation or trust the notebook.**\n",
    "\n",
    "**On GitHub, the HTML representation is unable to render, please try loading this page with nbviewer.org.**"
   ]
  },
  {
   "cell_type": "code",
   "execution_count": 66,
   "id": "c55c4bfd",
   "metadata": {},
   "outputs": [
    {
     "data": {
      "text/plain": [
       "{'criterion': 'gini',\n",
       " 'max_depth': 10,\n",
       " 'min_samples_leaf': 4,\n",
       " 'min_samples_split': 5,\n",
       " 'n_estimators': 80}"
      ]
     },
     "execution_count": 66,
     "metadata": {},
     "output_type": "execute_result"
    }
   ],
   "source": [
    "#checking the best parameters\n",
    "\n",
    "rfc_grid.best_params_"
   ]
  },
  {
   "cell_type": "code",
   "execution_count": 67,
   "id": "a4e20a82",
   "metadata": {},
   "outputs": [
    {
     "data": {
      "text/plain": [
       "array([0, 1, 1, ..., 1, 1, 1])"
      ]
     },
     "execution_count": 67,
     "metadata": {},
     "output_type": "execute_result"
    }
   ],
   "source": [
    "#predicting the model\n",
    "\n",
    "y_pred_rfc=rfc_grid.predict(x_test)\n",
    "y_pred_rfc"
   ]
  },
  {
   "cell_type": "code",
   "execution_count": 68,
   "id": "666065df",
   "metadata": {},
   "outputs": [
    {
     "name": "stdout",
     "output_type": "stream",
     "text": [
      "0.7305593451568895\n",
      "              precision    recall  f1-score   support\n",
      "\n",
      "           0       0.76      0.81      0.78       887\n",
      "           1       0.68      0.61      0.64       579\n",
      "\n",
      "    accuracy                           0.73      1466\n",
      "   macro avg       0.72      0.71      0.71      1466\n",
      "weighted avg       0.73      0.73      0.73      1466\n",
      "\n",
      "[[720 167]\n",
      " [228 351]]\n"
     ]
    }
   ],
   "source": [
    "#finding accuracy ,classification report and confusion matrix\n",
    "\n",
    "acc_RF = accuracy_score(y_test,y_pred_rfc)\n",
    "print(accuracy_score(y_test,y_pred_rfc))\n",
    "print(classification_report(y_test,y_pred_rfc))\n",
    "print(confusion_matrix(y_test,y_pred_rfc))\n"
   ]
  },
  {
   "cell_type": "markdown",
   "id": "68dcbcef",
   "metadata": {},
   "source": [
    "# 5.NAVIE BAYES BERNOULLI"
   ]
  },
  {
   "cell_type": "code",
   "execution_count": 69,
   "id": "36a27421",
   "metadata": {},
   "outputs": [
    {
     "data": {
      "text/html": [
       "<style>#sk-container-id-5 {color: black;}#sk-container-id-5 pre{padding: 0;}#sk-container-id-5 div.sk-toggleable {background-color: white;}#sk-container-id-5 label.sk-toggleable__label {cursor: pointer;display: block;width: 100%;margin-bottom: 0;padding: 0.3em;box-sizing: border-box;text-align: center;}#sk-container-id-5 label.sk-toggleable__label-arrow:before {content: \"▸\";float: left;margin-right: 0.25em;color: #696969;}#sk-container-id-5 label.sk-toggleable__label-arrow:hover:before {color: black;}#sk-container-id-5 div.sk-estimator:hover label.sk-toggleable__label-arrow:before {color: black;}#sk-container-id-5 div.sk-toggleable__content {max-height: 0;max-width: 0;overflow: hidden;text-align: left;background-color: #f0f8ff;}#sk-container-id-5 div.sk-toggleable__content pre {margin: 0.2em;color: black;border-radius: 0.25em;background-color: #f0f8ff;}#sk-container-id-5 input.sk-toggleable__control:checked~div.sk-toggleable__content {max-height: 200px;max-width: 100%;overflow: auto;}#sk-container-id-5 input.sk-toggleable__control:checked~label.sk-toggleable__label-arrow:before {content: \"▾\";}#sk-container-id-5 div.sk-estimator input.sk-toggleable__control:checked~label.sk-toggleable__label {background-color: #d4ebff;}#sk-container-id-5 div.sk-label input.sk-toggleable__control:checked~label.sk-toggleable__label {background-color: #d4ebff;}#sk-container-id-5 input.sk-hidden--visually {border: 0;clip: rect(1px 1px 1px 1px);clip: rect(1px, 1px, 1px, 1px);height: 1px;margin: -1px;overflow: hidden;padding: 0;position: absolute;width: 1px;}#sk-container-id-5 div.sk-estimator {font-family: monospace;background-color: #f0f8ff;border: 1px dotted black;border-radius: 0.25em;box-sizing: border-box;margin-bottom: 0.5em;}#sk-container-id-5 div.sk-estimator:hover {background-color: #d4ebff;}#sk-container-id-5 div.sk-parallel-item::after {content: \"\";width: 100%;border-bottom: 1px solid gray;flex-grow: 1;}#sk-container-id-5 div.sk-label:hover label.sk-toggleable__label {background-color: #d4ebff;}#sk-container-id-5 div.sk-serial::before {content: \"\";position: absolute;border-left: 1px solid gray;box-sizing: border-box;top: 0;bottom: 0;left: 50%;z-index: 0;}#sk-container-id-5 div.sk-serial {display: flex;flex-direction: column;align-items: center;background-color: white;padding-right: 0.2em;padding-left: 0.2em;position: relative;}#sk-container-id-5 div.sk-item {position: relative;z-index: 1;}#sk-container-id-5 div.sk-parallel {display: flex;align-items: stretch;justify-content: center;background-color: white;position: relative;}#sk-container-id-5 div.sk-item::before, #sk-container-id-5 div.sk-parallel-item::before {content: \"\";position: absolute;border-left: 1px solid gray;box-sizing: border-box;top: 0;bottom: 0;left: 50%;z-index: -1;}#sk-container-id-5 div.sk-parallel-item {display: flex;flex-direction: column;z-index: 1;position: relative;background-color: white;}#sk-container-id-5 div.sk-parallel-item:first-child::after {align-self: flex-end;width: 50%;}#sk-container-id-5 div.sk-parallel-item:last-child::after {align-self: flex-start;width: 50%;}#sk-container-id-5 div.sk-parallel-item:only-child::after {width: 0;}#sk-container-id-5 div.sk-dashed-wrapped {border: 1px dashed gray;margin: 0 0.4em 0.5em 0.4em;box-sizing: border-box;padding-bottom: 0.4em;background-color: white;}#sk-container-id-5 div.sk-label label {font-family: monospace;font-weight: bold;display: inline-block;line-height: 1.2em;}#sk-container-id-5 div.sk-label-container {text-align: center;}#sk-container-id-5 div.sk-container {/* jupyter's `normalize.less` sets `[hidden] { display: none; }` but bootstrap.min.css set `[hidden] { display: none !important; }` so we also need the `!important` here to be able to override the default hidden behavior on the sphinx rendered scikit-learn.org. See: https://github.com/scikit-learn/scikit-learn/issues/21755 */display: inline-block !important;position: relative;}#sk-container-id-5 div.sk-text-repr-fallback {display: none;}</style><div id=\"sk-container-id-5\" class=\"sk-top-container\"><div class=\"sk-text-repr-fallback\"><pre>BernoulliNB()</pre><b>In a Jupyter environment, please rerun this cell to show the HTML representation or trust the notebook. <br />On GitHub, the HTML representation is unable to render, please try loading this page with nbviewer.org.</b></div><div class=\"sk-container\" hidden><div class=\"sk-item\"><div class=\"sk-estimator sk-toggleable\"><input class=\"sk-toggleable__control sk-hidden--visually\" id=\"sk-estimator-id-11\" type=\"checkbox\" checked><label for=\"sk-estimator-id-11\" class=\"sk-toggleable__label sk-toggleable__label-arrow\">BernoulliNB</label><div class=\"sk-toggleable__content\"><pre>BernoulliNB()</pre></div></div></div></div></div>"
      ],
      "text/plain": [
       "BernoulliNB()"
      ]
     },
     "execution_count": 69,
     "metadata": {},
     "output_type": "execute_result"
    }
   ],
   "source": [
    "#training the model\n",
    "\n",
    "from sklearn.naive_bayes import BernoulliNB\n",
    "model_nb=BernoulliNB()\n",
    "model_nb.fit(x_train,y_train)"
   ]
  },
  {
   "cell_type": "markdown",
   "id": "cff0ed6c",
   "metadata": {},
   "source": [
    "**In a Jupyter environment, please rerun this cell to show the HTML representation or trust the notebook.**\n",
    "\n",
    "**On GitHub, the HTML representation is unable to render, please try loading this page with nbviewer.org.**\n"
   ]
  },
  {
   "cell_type": "code",
   "execution_count": 70,
   "id": "2ab80151",
   "metadata": {},
   "outputs": [
    {
     "data": {
      "text/plain": [
       "array([1, 1, 1, ..., 1, 1, 0])"
      ]
     },
     "execution_count": 70,
     "metadata": {},
     "output_type": "execute_result"
    }
   ],
   "source": [
    "#predicting the model\n",
    "\n",
    "y_pred_nb=model_nb.predict(x_test)\n",
    "y_pred_nb"
   ]
  },
  {
   "cell_type": "code",
   "execution_count": 71,
   "id": "af87410a",
   "metadata": {},
   "outputs": [
    {
     "name": "stdout",
     "output_type": "stream",
     "text": [
      "0.6684856753069577\n",
      "              precision    recall  f1-score   support\n",
      "\n",
      "           0       0.69      0.81      0.75       887\n",
      "           1       0.61      0.46      0.52       579\n",
      "\n",
      "    accuracy                           0.67      1466\n",
      "   macro avg       0.65      0.63      0.63      1466\n",
      "weighted avg       0.66      0.67      0.66      1466\n",
      "\n",
      "[[716 171]\n",
      " [315 264]]\n"
     ]
    }
   ],
   "source": [
    "#finding accuracy , classification report and confusion matrix\n",
    "\n",
    "acc_NB = accuracy_score(y_test,y_pred_nb)\n",
    "print(accuracy_score(y_test,y_pred_nb))\n",
    "print(classification_report(y_test,y_pred_nb))\n",
    "print(confusion_matrix(y_test,y_pred_nb))"
   ]
  },
  {
   "cell_type": "markdown",
   "id": "3e2840ea",
   "metadata": {},
   "source": [
    "# 6.K-NEAREST NEIGHBOR WITH GRIDSEARCHCV"
   ]
  },
  {
   "cell_type": "code",
   "execution_count": 72,
   "id": "83308dc6",
   "metadata": {},
   "outputs": [
    {
     "data": {
      "text/html": [
       "<style>#sk-container-id-6 {color: black;}#sk-container-id-6 pre{padding: 0;}#sk-container-id-6 div.sk-toggleable {background-color: white;}#sk-container-id-6 label.sk-toggleable__label {cursor: pointer;display: block;width: 100%;margin-bottom: 0;padding: 0.3em;box-sizing: border-box;text-align: center;}#sk-container-id-6 label.sk-toggleable__label-arrow:before {content: \"▸\";float: left;margin-right: 0.25em;color: #696969;}#sk-container-id-6 label.sk-toggleable__label-arrow:hover:before {color: black;}#sk-container-id-6 div.sk-estimator:hover label.sk-toggleable__label-arrow:before {color: black;}#sk-container-id-6 div.sk-toggleable__content {max-height: 0;max-width: 0;overflow: hidden;text-align: left;background-color: #f0f8ff;}#sk-container-id-6 div.sk-toggleable__content pre {margin: 0.2em;color: black;border-radius: 0.25em;background-color: #f0f8ff;}#sk-container-id-6 input.sk-toggleable__control:checked~div.sk-toggleable__content {max-height: 200px;max-width: 100%;overflow: auto;}#sk-container-id-6 input.sk-toggleable__control:checked~label.sk-toggleable__label-arrow:before {content: \"▾\";}#sk-container-id-6 div.sk-estimator input.sk-toggleable__control:checked~label.sk-toggleable__label {background-color: #d4ebff;}#sk-container-id-6 div.sk-label input.sk-toggleable__control:checked~label.sk-toggleable__label {background-color: #d4ebff;}#sk-container-id-6 input.sk-hidden--visually {border: 0;clip: rect(1px 1px 1px 1px);clip: rect(1px, 1px, 1px, 1px);height: 1px;margin: -1px;overflow: hidden;padding: 0;position: absolute;width: 1px;}#sk-container-id-6 div.sk-estimator {font-family: monospace;background-color: #f0f8ff;border: 1px dotted black;border-radius: 0.25em;box-sizing: border-box;margin-bottom: 0.5em;}#sk-container-id-6 div.sk-estimator:hover {background-color: #d4ebff;}#sk-container-id-6 div.sk-parallel-item::after {content: \"\";width: 100%;border-bottom: 1px solid gray;flex-grow: 1;}#sk-container-id-6 div.sk-label:hover label.sk-toggleable__label {background-color: #d4ebff;}#sk-container-id-6 div.sk-serial::before {content: \"\";position: absolute;border-left: 1px solid gray;box-sizing: border-box;top: 0;bottom: 0;left: 50%;z-index: 0;}#sk-container-id-6 div.sk-serial {display: flex;flex-direction: column;align-items: center;background-color: white;padding-right: 0.2em;padding-left: 0.2em;position: relative;}#sk-container-id-6 div.sk-item {position: relative;z-index: 1;}#sk-container-id-6 div.sk-parallel {display: flex;align-items: stretch;justify-content: center;background-color: white;position: relative;}#sk-container-id-6 div.sk-item::before, #sk-container-id-6 div.sk-parallel-item::before {content: \"\";position: absolute;border-left: 1px solid gray;box-sizing: border-box;top: 0;bottom: 0;left: 50%;z-index: -1;}#sk-container-id-6 div.sk-parallel-item {display: flex;flex-direction: column;z-index: 1;position: relative;background-color: white;}#sk-container-id-6 div.sk-parallel-item:first-child::after {align-self: flex-end;width: 50%;}#sk-container-id-6 div.sk-parallel-item:last-child::after {align-self: flex-start;width: 50%;}#sk-container-id-6 div.sk-parallel-item:only-child::after {width: 0;}#sk-container-id-6 div.sk-dashed-wrapped {border: 1px dashed gray;margin: 0 0.4em 0.5em 0.4em;box-sizing: border-box;padding-bottom: 0.4em;background-color: white;}#sk-container-id-6 div.sk-label label {font-family: monospace;font-weight: bold;display: inline-block;line-height: 1.2em;}#sk-container-id-6 div.sk-label-container {text-align: center;}#sk-container-id-6 div.sk-container {/* jupyter's `normalize.less` sets `[hidden] { display: none; }` but bootstrap.min.css set `[hidden] { display: none !important; }` so we also need the `!important` here to be able to override the default hidden behavior on the sphinx rendered scikit-learn.org. See: https://github.com/scikit-learn/scikit-learn/issues/21755 */display: inline-block !important;position: relative;}#sk-container-id-6 div.sk-text-repr-fallback {display: none;}</style><div id=\"sk-container-id-6\" class=\"sk-top-container\"><div class=\"sk-text-repr-fallback\"><pre>GridSearchCV(cv=10, estimator=KNeighborsClassifier(),\n",
       "             param_grid={&#x27;n_neighbors&#x27;: [3, 5, 7, 10]}, scoring=&#x27;accuracy&#x27;)</pre><b>In a Jupyter environment, please rerun this cell to show the HTML representation or trust the notebook. <br />On GitHub, the HTML representation is unable to render, please try loading this page with nbviewer.org.</b></div><div class=\"sk-container\" hidden><div class=\"sk-item sk-dashed-wrapped\"><div class=\"sk-label-container\"><div class=\"sk-label sk-toggleable\"><input class=\"sk-toggleable__control sk-hidden--visually\" id=\"sk-estimator-id-12\" type=\"checkbox\" ><label for=\"sk-estimator-id-12\" class=\"sk-toggleable__label sk-toggleable__label-arrow\">GridSearchCV</label><div class=\"sk-toggleable__content\"><pre>GridSearchCV(cv=10, estimator=KNeighborsClassifier(),\n",
       "             param_grid={&#x27;n_neighbors&#x27;: [3, 5, 7, 10]}, scoring=&#x27;accuracy&#x27;)</pre></div></div></div><div class=\"sk-parallel\"><div class=\"sk-parallel-item\"><div class=\"sk-item\"><div class=\"sk-label-container\"><div class=\"sk-label sk-toggleable\"><input class=\"sk-toggleable__control sk-hidden--visually\" id=\"sk-estimator-id-13\" type=\"checkbox\" ><label for=\"sk-estimator-id-13\" class=\"sk-toggleable__label sk-toggleable__label-arrow\">estimator: KNeighborsClassifier</label><div class=\"sk-toggleable__content\"><pre>KNeighborsClassifier()</pre></div></div></div><div class=\"sk-serial\"><div class=\"sk-item\"><div class=\"sk-estimator sk-toggleable\"><input class=\"sk-toggleable__control sk-hidden--visually\" id=\"sk-estimator-id-14\" type=\"checkbox\" ><label for=\"sk-estimator-id-14\" class=\"sk-toggleable__label sk-toggleable__label-arrow\">KNeighborsClassifier</label><div class=\"sk-toggleable__content\"><pre>KNeighborsClassifier()</pre></div></div></div></div></div></div></div></div></div></div>"
      ],
      "text/plain": [
       "GridSearchCV(cv=10, estimator=KNeighborsClassifier(),\n",
       "             param_grid={'n_neighbors': [3, 5, 7, 10]}, scoring='accuracy')"
      ]
     },
     "execution_count": 72,
     "metadata": {},
     "output_type": "execute_result"
    }
   ],
   "source": [
    "#training the model\n",
    "\n",
    "from sklearn.neighbors import KNeighborsClassifier\n",
    "knn=KNeighborsClassifier()\n",
    "params={'n_neighbors':[3,5,7,10]}\n",
    "knn_grid=GridSearchCV(knn,params,scoring='accuracy',cv=10)\n",
    "knn_grid.fit(x_train,y_train)\n"
   ]
  },
  {
   "cell_type": "markdown",
   "id": "a797a6a2",
   "metadata": {},
   "source": [
    "**In a Jupyter environment, please rerun this cell to show the HTML representation or trust the notebook.**\n",
    "\n",
    "**On GitHub, the HTML representation is unable to render, please try loading this page with nbviewer.org.**"
   ]
  },
  {
   "cell_type": "code",
   "execution_count": 73,
   "id": "c322d663",
   "metadata": {},
   "outputs": [
    {
     "data": {
      "text/plain": [
       "array([0, 1, 1, ..., 1, 0, 1])"
      ]
     },
     "execution_count": 73,
     "metadata": {},
     "output_type": "execute_result"
    }
   ],
   "source": [
    "# predicting the model\n",
    "y_pred_knn=knn_grid.predict(x_test)\n",
    "y_pred_knn"
   ]
  },
  {
   "cell_type": "code",
   "execution_count": 74,
   "id": "e5ccb082",
   "metadata": {},
   "outputs": [
    {
     "name": "stdout",
     "output_type": "stream",
     "text": [
      "0.6882673942701227\n",
      "              precision    recall  f1-score   support\n",
      "\n",
      "           0       0.71      0.81      0.76       887\n",
      "           1       0.63      0.50      0.56       579\n",
      "\n",
      "    accuracy                           0.69      1466\n",
      "   macro avg       0.67      0.66      0.66      1466\n",
      "weighted avg       0.68      0.69      0.68      1466\n",
      "\n",
      "[[721 166]\n",
      " [291 288]]\n"
     ]
    }
   ],
   "source": [
    "#finding accuracy ,classification report and confusion matrix\n",
    "\n",
    "acc_KNN = accuracy_score(y_test,y_pred_knn)\n",
    "print(accuracy_score(y_test,y_pred_knn))\n",
    "print(classification_report(y_test,y_pred_knn))\n",
    "print(confusion_matrix(y_test,y_pred_knn))"
   ]
  },
  {
   "cell_type": "markdown",
   "id": "a088e3fc",
   "metadata": {},
   "source": [
    "# 7.XGBOOST CLASSIFIER"
   ]
  },
  {
   "cell_type": "code",
   "execution_count": 75,
   "id": "39609ba6",
   "metadata": {},
   "outputs": [
    {
     "name": "stdout",
     "output_type": "stream",
     "text": [
      "Collecting xgboost\n",
      "  Obtaining dependency information for xgboost from https://files.pythonhosted.org/packages/24/ec/ad387100fa3cc2b9b81af0829b5ecfe75ec5bb19dd7c19d4fea06fb81802/xgboost-2.0.3-py3-none-win_amd64.whl.metadata\n",
      "  Downloading xgboost-2.0.3-py3-none-win_amd64.whl.metadata (2.0 kB)\n",
      "Requirement already satisfied: numpy in c:\\users\\dell\\anaconda3\\lib\\site-packages (from xgboost) (1.24.3)\n",
      "Requirement already satisfied: scipy in c:\\users\\dell\\anaconda3\\lib\\site-packages (from xgboost) (1.11.1)\n",
      "Downloading xgboost-2.0.3-py3-none-win_amd64.whl (99.8 MB)\n",
      "   ---------------------------------------- 0.0/99.8 MB ? eta -:--:--\n",
      "   ---------------------------------------- 0.0/99.8 MB ? eta -:--:--\n",
      "   ---------------------------------------- 0.0/99.8 MB ? eta -:--:--\n",
      "   ---------------------------------------- 0.0/99.8 MB 330.3 kB/s eta 0:05:02\n",
      "   ---------------------------------------- 0.0/99.8 MB 330.3 kB/s eta 0:05:02\n",
      "   ---------------------------------------- 0.1/99.8 MB 722.1 kB/s eta 0:02:18\n",
      "   ---------------------------------------- 0.2/99.8 MB 1.2 MB/s eta 0:01:23\n",
      "   ---------------------------------------- 0.4/99.8 MB 1.5 MB/s eta 0:01:07\n",
      "   ---------------------------------------- 0.5/99.8 MB 1.6 MB/s eta 0:01:01\n",
      "   ---------------------------------------- 0.6/99.8 MB 1.7 MB/s eta 0:00:59\n",
      "   ---------------------------------------- 0.7/99.8 MB 1.7 MB/s eta 0:00:59\n",
      "   ---------------------------------------- 0.7/99.8 MB 1.7 MB/s eta 0:00:57\n",
      "   ---------------------------------------- 0.8/99.8 MB 1.8 MB/s eta 0:00:56\n",
      "   ---------------------------------------- 0.9/99.8 MB 1.8 MB/s eta 0:00:55\n",
      "   ---------------------------------------- 1.1/99.8 MB 1.9 MB/s eta 0:00:53\n",
      "   ---------------------------------------- 1.1/99.8 MB 1.8 MB/s eta 0:00:55\n",
      "   ---------------------------------------- 1.2/99.8 MB 1.8 MB/s eta 0:00:56\n",
      "    --------------------------------------- 1.3/99.8 MB 1.8 MB/s eta 0:00:56\n",
      "    --------------------------------------- 1.3/99.8 MB 1.8 MB/s eta 0:00:56\n",
      "    --------------------------------------- 1.4/99.8 MB 1.8 MB/s eta 0:00:56\n",
      "    --------------------------------------- 1.6/99.8 MB 1.8 MB/s eta 0:00:55\n",
      "    --------------------------------------- 1.7/99.8 MB 1.9 MB/s eta 0:00:53\n",
      "    --------------------------------------- 1.8/99.8 MB 1.9 MB/s eta 0:00:53\n",
      "    --------------------------------------- 1.9/99.8 MB 1.9 MB/s eta 0:00:52\n",
      "    --------------------------------------- 2.0/99.8 MB 1.9 MB/s eta 0:00:51\n",
      "    --------------------------------------- 2.2/99.8 MB 2.0 MB/s eta 0:00:50\n",
      "    --------------------------------------- 2.2/99.8 MB 2.0 MB/s eta 0:00:50\n",
      "    --------------------------------------- 2.3/99.8 MB 2.0 MB/s eta 0:00:49\n",
      "    --------------------------------------- 2.5/99.8 MB 2.0 MB/s eta 0:00:48\n",
      "   - -------------------------------------- 2.6/99.8 MB 2.0 MB/s eta 0:00:48\n",
      "   - -------------------------------------- 2.7/99.8 MB 2.1 MB/s eta 0:00:48\n",
      "   - -------------------------------------- 2.8/99.8 MB 2.1 MB/s eta 0:00:47\n",
      "   - -------------------------------------- 3.0/99.8 MB 2.1 MB/s eta 0:00:47\n",
      "   - -------------------------------------- 3.0/99.8 MB 2.1 MB/s eta 0:00:47\n",
      "   - -------------------------------------- 3.2/99.8 MB 2.1 MB/s eta 0:00:47\n",
      "   - -------------------------------------- 3.3/99.8 MB 2.1 MB/s eta 0:00:47\n",
      "   - -------------------------------------- 3.4/99.8 MB 2.1 MB/s eta 0:00:46\n",
      "   - -------------------------------------- 3.5/99.8 MB 2.1 MB/s eta 0:00:47\n",
      "   - -------------------------------------- 3.5/99.8 MB 2.1 MB/s eta 0:00:47\n",
      "   - -------------------------------------- 3.7/99.8 MB 2.1 MB/s eta 0:00:46\n",
      "   - -------------------------------------- 3.8/99.8 MB 2.1 MB/s eta 0:00:46\n",
      "   - -------------------------------------- 3.9/99.8 MB 2.1 MB/s eta 0:00:46\n",
      "   - -------------------------------------- 3.9/99.8 MB 2.1 MB/s eta 0:00:46\n",
      "   - -------------------------------------- 4.1/99.8 MB 2.1 MB/s eta 0:00:46\n",
      "   - -------------------------------------- 4.2/99.8 MB 2.1 MB/s eta 0:00:46\n",
      "   - -------------------------------------- 4.3/99.8 MB 2.1 MB/s eta 0:00:45\n",
      "   - -------------------------------------- 4.4/99.8 MB 2.1 MB/s eta 0:00:46\n",
      "   - -------------------------------------- 4.5/99.8 MB 2.1 MB/s eta 0:00:46\n",
      "   - -------------------------------------- 4.7/99.8 MB 2.1 MB/s eta 0:00:45\n",
      "   - -------------------------------------- 4.8/99.8 MB 2.1 MB/s eta 0:00:45\n",
      "   - -------------------------------------- 4.9/99.8 MB 2.2 MB/s eta 0:00:44\n",
      "   -- ------------------------------------- 5.1/99.8 MB 2.2 MB/s eta 0:00:44\n",
      "   -- ------------------------------------- 5.2/99.8 MB 2.2 MB/s eta 0:00:44\n",
      "   -- ------------------------------------- 5.3/99.8 MB 2.2 MB/s eta 0:00:44\n",
      "   -- ------------------------------------- 5.5/99.8 MB 2.2 MB/s eta 0:00:43\n",
      "   -- ------------------------------------- 5.6/99.8 MB 2.2 MB/s eta 0:00:43\n",
      "   -- ------------------------------------- 5.7/99.8 MB 2.2 MB/s eta 0:00:43\n",
      "   -- ------------------------------------- 5.8/99.8 MB 2.2 MB/s eta 0:00:43\n",
      "   -- ------------------------------------- 6.0/99.8 MB 2.2 MB/s eta 0:00:42\n",
      "   -- ------------------------------------- 6.1/99.8 MB 2.2 MB/s eta 0:00:43\n",
      "   -- ------------------------------------- 6.2/99.8 MB 2.2 MB/s eta 0:00:42\n",
      "   -- ------------------------------------- 6.3/99.8 MB 2.2 MB/s eta 0:00:42\n",
      "   -- ------------------------------------- 6.4/99.8 MB 2.2 MB/s eta 0:00:42\n",
      "   -- ------------------------------------- 6.5/99.8 MB 2.2 MB/s eta 0:00:42\n",
      "   -- ------------------------------------- 6.7/99.8 MB 2.3 MB/s eta 0:00:42\n",
      "   -- ------------------------------------- 6.8/99.8 MB 2.3 MB/s eta 0:00:42\n",
      "   -- ------------------------------------- 7.0/99.8 MB 2.3 MB/s eta 0:00:41\n",
      "   -- ------------------------------------- 7.1/99.8 MB 2.3 MB/s eta 0:00:41\n",
      "   -- ------------------------------------- 7.2/99.8 MB 2.3 MB/s eta 0:00:41\n",
      "   -- ------------------------------------- 7.3/99.8 MB 2.3 MB/s eta 0:00:41\n",
      "   -- ------------------------------------- 7.4/99.8 MB 2.3 MB/s eta 0:00:41\n",
      "   --- ------------------------------------ 7.6/99.8 MB 2.3 MB/s eta 0:00:41\n",
      "   --- ------------------------------------ 7.6/99.8 MB 2.3 MB/s eta 0:00:41\n",
      "   --- ------------------------------------ 7.7/99.8 MB 2.3 MB/s eta 0:00:41\n",
      "   --- ------------------------------------ 7.8/99.8 MB 2.2 MB/s eta 0:00:41\n",
      "   --- ------------------------------------ 7.9/99.8 MB 2.2 MB/s eta 0:00:41\n",
      "   --- ------------------------------------ 8.1/99.8 MB 2.3 MB/s eta 0:00:41\n",
      "   --- ------------------------------------ 8.3/99.8 MB 2.3 MB/s eta 0:00:41\n",
      "   --- ------------------------------------ 8.4/99.8 MB 2.3 MB/s eta 0:00:41\n",
      "   --- ------------------------------------ 8.4/99.8 MB 2.3 MB/s eta 0:00:41\n",
      "   --- ------------------------------------ 8.5/99.8 MB 2.2 MB/s eta 0:00:41\n",
      "   --- ------------------------------------ 8.6/99.8 MB 2.2 MB/s eta 0:00:41\n",
      "   --- ------------------------------------ 8.8/99.8 MB 2.2 MB/s eta 0:00:41\n",
      "   --- ------------------------------------ 9.0/99.8 MB 2.3 MB/s eta 0:00:41\n",
      "   --- ------------------------------------ 9.1/99.8 MB 2.3 MB/s eta 0:00:40\n",
      "   --- ------------------------------------ 9.3/99.8 MB 2.3 MB/s eta 0:00:40\n",
      "   --- ------------------------------------ 9.4/99.8 MB 2.3 MB/s eta 0:00:40\n",
      "   --- ------------------------------------ 9.5/99.8 MB 2.3 MB/s eta 0:00:40\n",
      "   --- ------------------------------------ 9.7/99.8 MB 2.3 MB/s eta 0:00:40\n",
      "   --- ------------------------------------ 9.7/99.8 MB 2.3 MB/s eta 0:00:40\n",
      "   --- ------------------------------------ 9.9/99.8 MB 2.3 MB/s eta 0:00:40\n",
      "   --- ------------------------------------ 10.0/99.8 MB 2.3 MB/s eta 0:00:40\n",
      "   ---- ----------------------------------- 10.1/99.8 MB 2.3 MB/s eta 0:00:40\n",
      "   ---- ----------------------------------- 10.1/99.8 MB 2.3 MB/s eta 0:00:40\n",
      "   ---- ----------------------------------- 10.2/99.8 MB 2.3 MB/s eta 0:00:40\n",
      "   ---- ----------------------------------- 10.3/99.8 MB 2.3 MB/s eta 0:00:39\n",
      "   ---- ----------------------------------- 10.4/99.8 MB 2.3 MB/s eta 0:00:39\n",
      "   ---- ----------------------------------- 10.5/99.8 MB 2.3 MB/s eta 0:00:39\n",
      "   ---- ----------------------------------- 10.6/99.8 MB 2.3 MB/s eta 0:00:39\n",
      "   ---- ----------------------------------- 10.8/99.8 MB 2.3 MB/s eta 0:00:39\n",
      "   ---- ----------------------------------- 10.9/99.8 MB 2.3 MB/s eta 0:00:39\n",
      "   ---- ----------------------------------- 11.0/99.8 MB 2.3 MB/s eta 0:00:39\n",
      "   ---- ----------------------------------- 11.1/99.8 MB 2.3 MB/s eta 0:00:39\n",
      "   ---- ----------------------------------- 11.2/99.8 MB 2.3 MB/s eta 0:00:39\n",
      "   ---- ----------------------------------- 11.3/99.8 MB 2.3 MB/s eta 0:00:39\n",
      "   ---- ----------------------------------- 11.4/99.8 MB 2.3 MB/s eta 0:00:39\n",
      "   ---- ----------------------------------- 11.5/99.8 MB 2.3 MB/s eta 0:00:39\n",
      "   ---- ----------------------------------- 11.7/99.8 MB 2.3 MB/s eta 0:00:38\n",
      "   ---- ----------------------------------- 11.9/99.8 MB 2.3 MB/s eta 0:00:38\n",
      "   ---- ----------------------------------- 12.1/99.8 MB 2.4 MB/s eta 0:00:38\n",
      "   ---- ----------------------------------- 12.2/99.8 MB 2.4 MB/s eta 0:00:38\n",
      "   ---- ----------------------------------- 12.3/99.8 MB 2.4 MB/s eta 0:00:38\n",
      "   ---- ----------------------------------- 12.4/99.8 MB 2.3 MB/s eta 0:00:38\n",
      "   ----- ---------------------------------- 12.5/99.8 MB 2.3 MB/s eta 0:00:38\n",
      "   ----- ---------------------------------- 12.6/99.8 MB 2.3 MB/s eta 0:00:38\n",
      "   ----- ---------------------------------- 12.7/99.8 MB 2.3 MB/s eta 0:00:38\n",
      "   ----- ---------------------------------- 12.7/99.8 MB 2.3 MB/s eta 0:00:38\n",
      "   ----- ---------------------------------- 12.8/99.8 MB 2.3 MB/s eta 0:00:38\n",
      "   ----- ---------------------------------- 13.0/99.8 MB 2.3 MB/s eta 0:00:38\n",
      "   ----- ---------------------------------- 13.0/99.8 MB 2.3 MB/s eta 0:00:38\n",
      "   ----- ---------------------------------- 13.2/99.8 MB 2.3 MB/s eta 0:00:38\n",
      "   ----- ---------------------------------- 13.4/99.8 MB 2.3 MB/s eta 0:00:38\n",
      "   ----- ---------------------------------- 13.4/99.8 MB 2.3 MB/s eta 0:00:38\n",
      "   ----- ---------------------------------- 13.6/99.8 MB 2.3 MB/s eta 0:00:38\n",
      "   ----- ---------------------------------- 13.6/99.8 MB 2.3 MB/s eta 0:00:38\n",
      "   ----- ---------------------------------- 13.7/99.8 MB 2.3 MB/s eta 0:00:38\n",
      "   ----- ---------------------------------- 13.8/99.8 MB 2.3 MB/s eta 0:00:38\n",
      "   ----- ---------------------------------- 13.9/99.8 MB 2.2 MB/s eta 0:00:39\n",
      "   ----- ---------------------------------- 13.9/99.8 MB 2.2 MB/s eta 0:00:39\n",
      "   ----- ---------------------------------- 14.0/99.8 MB 2.2 MB/s eta 0:00:39\n",
      "   ----- ---------------------------------- 14.1/99.8 MB 2.2 MB/s eta 0:00:39\n",
      "   ----- ---------------------------------- 14.2/99.8 MB 2.2 MB/s eta 0:00:39\n",
      "   ----- ---------------------------------- 14.4/99.8 MB 2.2 MB/s eta 0:00:39\n",
      "   ----- ---------------------------------- 14.4/99.8 MB 2.2 MB/s eta 0:00:39\n",
      "   ----- ---------------------------------- 14.5/99.8 MB 2.2 MB/s eta 0:00:39\n",
      "   ----- ---------------------------------- 14.6/99.8 MB 2.2 MB/s eta 0:00:39\n",
      "   ----- ---------------------------------- 14.7/99.8 MB 2.2 MB/s eta 0:00:39\n",
      "   ----- ---------------------------------- 14.7/99.8 MB 2.2 MB/s eta 0:00:39\n",
      "   ----- ---------------------------------- 14.8/99.8 MB 2.2 MB/s eta 0:00:40\n",
      "   ----- ---------------------------------- 14.9/99.8 MB 2.2 MB/s eta 0:00:40\n",
      "   ------ --------------------------------- 15.0/99.8 MB 2.2 MB/s eta 0:00:40\n",
      "   ------ --------------------------------- 15.1/99.8 MB 2.2 MB/s eta 0:00:40\n",
      "   ------ --------------------------------- 15.2/99.8 MB 2.2 MB/s eta 0:00:40\n",
      "   ------ --------------------------------- 15.3/99.8 MB 2.2 MB/s eta 0:00:40\n",
      "   ------ --------------------------------- 15.4/99.8 MB 2.1 MB/s eta 0:00:40\n",
      "   ------ --------------------------------- 15.5/99.8 MB 2.2 MB/s eta 0:00:40\n",
      "   ------ --------------------------------- 15.5/99.8 MB 2.1 MB/s eta 0:00:40\n",
      "   ------ --------------------------------- 15.6/99.8 MB 2.1 MB/s eta 0:00:40\n",
      "   ------ --------------------------------- 15.8/99.8 MB 2.1 MB/s eta 0:00:40\n",
      "   ------ --------------------------------- 15.9/99.8 MB 2.1 MB/s eta 0:00:40\n",
      "   ------ --------------------------------- 16.0/99.8 MB 2.1 MB/s eta 0:00:40\n",
      "   ------ --------------------------------- 16.1/99.8 MB 2.1 MB/s eta 0:00:41\n",
      "   ------ --------------------------------- 16.2/99.8 MB 2.1 MB/s eta 0:00:41\n",
      "   ------ --------------------------------- 16.3/99.8 MB 2.1 MB/s eta 0:00:41\n",
      "   ------ --------------------------------- 16.4/99.8 MB 2.1 MB/s eta 0:00:41\n",
      "   ------ --------------------------------- 16.5/99.8 MB 2.1 MB/s eta 0:00:41\n",
      "   ------ --------------------------------- 16.6/99.8 MB 2.1 MB/s eta 0:00:41\n",
      "   ------ --------------------------------- 16.7/99.8 MB 2.1 MB/s eta 0:00:41\n",
      "   ------ --------------------------------- 16.8/99.8 MB 2.1 MB/s eta 0:00:41\n",
      "   ------ --------------------------------- 16.8/99.8 MB 2.1 MB/s eta 0:00:41\n",
      "   ------ --------------------------------- 16.9/99.8 MB 2.0 MB/s eta 0:00:41\n",
      "   ------ --------------------------------- 16.9/99.8 MB 2.0 MB/s eta 0:00:42\n",
      "   ------ --------------------------------- 16.9/99.8 MB 2.0 MB/s eta 0:00:42\n",
      "   ------ --------------------------------- 17.0/99.8 MB 2.0 MB/s eta 0:00:42\n",
      "   ------ --------------------------------- 17.0/99.8 MB 2.0 MB/s eta 0:00:42\n",
      "   ------ --------------------------------- 17.0/99.8 MB 2.0 MB/s eta 0:00:42\n",
      "   ------ --------------------------------- 17.0/99.8 MB 2.0 MB/s eta 0:00:42\n",
      "   ------ --------------------------------- 17.0/99.8 MB 2.0 MB/s eta 0:00:42\n",
      "   ------ --------------------------------- 17.0/99.8 MB 2.0 MB/s eta 0:00:42\n",
      "   ------ --------------------------------- 17.0/99.8 MB 2.0 MB/s eta 0:00:42\n",
      "   ------ --------------------------------- 17.0/99.8 MB 2.0 MB/s eta 0:00:42\n",
      "   ------ --------------------------------- 17.0/99.8 MB 2.0 MB/s eta 0:00:42\n",
      "   ------- -------------------------------- 17.8/99.8 MB 2.0 MB/s eta 0:00:42\n",
      "   ------- -------------------------------- 17.9/99.8 MB 2.0 MB/s eta 0:00:42\n",
      "   ------- -------------------------------- 18.0/99.8 MB 2.0 MB/s eta 0:00:42\n",
      "   ------- -------------------------------- 18.1/99.8 MB 2.0 MB/s eta 0:00:42\n",
      "   ------- -------------------------------- 18.2/99.8 MB 2.0 MB/s eta 0:00:42\n",
      "   ------- -------------------------------- 18.3/99.8 MB 2.0 MB/s eta 0:00:42\n",
      "   ------- -------------------------------- 18.3/99.8 MB 1.9 MB/s eta 0:00:42\n",
      "   ------- -------------------------------- 18.4/99.8 MB 1.9 MB/s eta 0:00:42\n",
      "   ------- -------------------------------- 18.4/99.8 MB 1.9 MB/s eta 0:00:43\n",
      "   ------- -------------------------------- 18.5/99.8 MB 1.9 MB/s eta 0:00:43\n",
      "   ------- -------------------------------- 18.6/99.8 MB 1.9 MB/s eta 0:00:43\n",
      "   ------- -------------------------------- 18.7/99.8 MB 1.9 MB/s eta 0:00:43\n",
      "   ------- -------------------------------- 18.8/99.8 MB 1.9 MB/s eta 0:00:42\n",
      "   ------- -------------------------------- 18.9/99.8 MB 1.9 MB/s eta 0:00:43\n",
      "   ------- -------------------------------- 18.9/99.8 MB 1.9 MB/s eta 0:00:43\n",
      "   ------- -------------------------------- 19.0/99.8 MB 1.9 MB/s eta 0:00:43\n",
      "   ------- -------------------------------- 19.1/99.8 MB 1.9 MB/s eta 0:00:43\n",
      "   ------- -------------------------------- 19.1/99.8 MB 1.9 MB/s eta 0:00:43\n",
      "   ------- -------------------------------- 19.2/99.8 MB 1.9 MB/s eta 0:00:43\n",
      "   ------- -------------------------------- 19.3/99.8 MB 1.9 MB/s eta 0:00:43\n",
      "   ------- -------------------------------- 19.4/99.8 MB 1.9 MB/s eta 0:00:44\n",
      "   ------- -------------------------------- 19.5/99.8 MB 1.9 MB/s eta 0:00:44\n",
      "   ------- -------------------------------- 19.6/99.8 MB 1.8 MB/s eta 0:00:44\n",
      "   ------- -------------------------------- 19.7/99.8 MB 1.8 MB/s eta 0:00:44\n",
      "   ------- -------------------------------- 19.8/99.8 MB 1.8 MB/s eta 0:00:44\n",
      "   ------- -------------------------------- 19.9/99.8 MB 1.8 MB/s eta 0:00:44\n",
      "   -------- ------------------------------- 20.0/99.8 MB 1.8 MB/s eta 0:00:44\n",
      "   -------- ------------------------------- 20.1/99.8 MB 1.8 MB/s eta 0:00:44\n",
      "   -------- ------------------------------- 20.2/99.8 MB 1.8 MB/s eta 0:00:44\n",
      "   -------- ------------------------------- 20.3/99.8 MB 1.8 MB/s eta 0:00:44\n",
      "   -------- ------------------------------- 20.4/99.8 MB 1.8 MB/s eta 0:00:44\n",
      "   -------- ------------------------------- 20.5/99.8 MB 1.8 MB/s eta 0:00:44\n",
      "   -------- ------------------------------- 20.6/99.8 MB 1.8 MB/s eta 0:00:44\n",
      "   -------- ------------------------------- 20.7/99.8 MB 1.8 MB/s eta 0:00:44\n",
      "   -------- ------------------------------- 20.7/99.8 MB 1.8 MB/s eta 0:00:44\n",
      "   -------- ------------------------------- 20.7/99.8 MB 1.8 MB/s eta 0:00:44\n",
      "   -------- ------------------------------- 20.8/99.8 MB 1.8 MB/s eta 0:00:44\n",
      "   -------- ------------------------------- 20.8/99.8 MB 1.8 MB/s eta 0:00:45\n",
      "   -------- ------------------------------- 21.0/99.8 MB 1.8 MB/s eta 0:00:45\n",
      "   -------- ------------------------------- 21.1/99.8 MB 1.8 MB/s eta 0:00:45\n",
      "   -------- ------------------------------- 21.3/99.8 MB 1.8 MB/s eta 0:00:44\n",
      "   -------- ------------------------------- 21.4/99.8 MB 1.8 MB/s eta 0:00:44\n",
      "   -------- ------------------------------- 21.7/99.8 MB 1.8 MB/s eta 0:00:43\n",
      "   -------- ------------------------------- 21.9/99.8 MB 1.8 MB/s eta 0:00:43\n",
      "   -------- ------------------------------- 22.0/99.8 MB 1.8 MB/s eta 0:00:43\n",
      "   -------- ------------------------------- 22.2/99.8 MB 1.8 MB/s eta 0:00:43\n",
      "   -------- ------------------------------- 22.4/99.8 MB 1.8 MB/s eta 0:00:42\n",
      "   --------- ------------------------------ 22.5/99.8 MB 1.8 MB/s eta 0:00:42\n",
      "   --------- ------------------------------ 22.6/99.8 MB 1.8 MB/s eta 0:00:42\n",
      "   --------- ------------------------------ 22.8/99.8 MB 1.9 MB/s eta 0:00:42\n",
      "   --------- ------------------------------ 22.9/99.8 MB 1.9 MB/s eta 0:00:42\n",
      "   --------- ------------------------------ 22.9/99.8 MB 1.9 MB/s eta 0:00:41\n",
      "   --------- ------------------------------ 22.9/99.8 MB 1.9 MB/s eta 0:00:42\n",
      "   --------- ------------------------------ 23.1/99.8 MB 1.9 MB/s eta 0:00:42\n",
      "   --------- ------------------------------ 23.3/99.8 MB 1.9 MB/s eta 0:00:42\n",
      "   --------- ------------------------------ 23.5/99.8 MB 1.9 MB/s eta 0:00:41\n",
      "   --------- ------------------------------ 23.5/99.8 MB 1.9 MB/s eta 0:00:41\n",
      "   --------- ------------------------------ 23.5/99.8 MB 1.9 MB/s eta 0:00:41\n",
      "   --------- ------------------------------ 23.5/99.8 MB 1.8 MB/s eta 0:00:42\n",
      "   --------- ------------------------------ 23.6/99.8 MB 1.8 MB/s eta 0:00:42\n",
      "   --------- ------------------------------ 23.7/99.8 MB 1.8 MB/s eta 0:00:42\n",
      "   --------- ------------------------------ 23.9/99.8 MB 1.8 MB/s eta 0:00:42\n",
      "   --------- ------------------------------ 24.0/99.8 MB 1.9 MB/s eta 0:00:41\n",
      "   --------- ------------------------------ 24.2/99.8 MB 1.9 MB/s eta 0:00:40\n",
      "   --------- ------------------------------ 24.3/99.8 MB 1.9 MB/s eta 0:00:40\n",
      "   --------- ------------------------------ 24.4/99.8 MB 1.9 MB/s eta 0:00:40\n",
      "   --------- ------------------------------ 24.5/99.8 MB 1.9 MB/s eta 0:00:40\n",
      "   --------- ------------------------------ 24.6/99.8 MB 1.9 MB/s eta 0:00:40\n",
      "   --------- ------------------------------ 24.8/99.8 MB 1.9 MB/s eta 0:00:39\n",
      "   --------- ------------------------------ 24.9/99.8 MB 1.9 MB/s eta 0:00:39\n",
      "   ---------- ----------------------------- 25.0/99.8 MB 2.0 MB/s eta 0:00:38\n",
      "   ---------- ----------------------------- 25.2/99.8 MB 2.0 MB/s eta 0:00:38\n",
      "   ---------- ----------------------------- 25.3/99.8 MB 2.0 MB/s eta 0:00:38\n",
      "   ---------- ----------------------------- 25.4/99.8 MB 2.0 MB/s eta 0:00:38\n",
      "   ---------- ----------------------------- 25.6/99.8 MB 2.0 MB/s eta 0:00:38\n",
      "   ---------- ----------------------------- 25.8/99.8 MB 2.0 MB/s eta 0:00:37\n",
      "   ---------- ----------------------------- 25.9/99.8 MB 2.0 MB/s eta 0:00:37\n",
      "   ---------- ----------------------------- 26.1/99.8 MB 2.0 MB/s eta 0:00:37\n",
      "   ---------- ----------------------------- 26.2/99.8 MB 2.0 MB/s eta 0:00:37\n",
      "   ---------- ----------------------------- 26.3/99.8 MB 2.0 MB/s eta 0:00:36\n",
      "   ---------- ----------------------------- 26.5/99.8 MB 2.1 MB/s eta 0:00:36\n",
      "   ---------- ----------------------------- 26.6/99.8 MB 2.1 MB/s eta 0:00:36\n",
      "   ---------- ----------------------------- 26.8/99.8 MB 2.1 MB/s eta 0:00:36\n",
      "   ---------- ----------------------------- 26.9/99.8 MB 2.1 MB/s eta 0:00:35\n",
      "   ---------- ----------------------------- 27.0/99.8 MB 2.1 MB/s eta 0:00:36\n",
      "   ---------- ----------------------------- 27.1/99.8 MB 2.1 MB/s eta 0:00:34\n",
      "   ---------- ----------------------------- 27.3/99.8 MB 2.2 MB/s eta 0:00:34\n",
      "   ---------- ----------------------------- 27.4/99.8 MB 2.3 MB/s eta 0:00:31\n",
      "   ----------- ---------------------------- 27.5/99.8 MB 2.3 MB/s eta 0:00:32\n",
      "   ----------- ---------------------------- 27.7/99.8 MB 2.3 MB/s eta 0:00:32\n",
      "   ----------- ---------------------------- 27.8/99.8 MB 2.3 MB/s eta 0:00:32\n",
      "   ----------- ---------------------------- 28.0/99.8 MB 2.2 MB/s eta 0:00:33\n",
      "   ----------- ---------------------------- 28.1/99.8 MB 2.2 MB/s eta 0:00:32\n",
      "   ----------- ---------------------------- 28.3/99.8 MB 2.3 MB/s eta 0:00:32\n",
      "   ----------- ---------------------------- 28.4/99.8 MB 2.3 MB/s eta 0:00:32\n",
      "   ----------- ---------------------------- 28.6/99.8 MB 2.3 MB/s eta 0:00:31\n",
      "   ----------- ---------------------------- 28.8/99.8 MB 2.3 MB/s eta 0:00:31\n",
      "   ----------- ---------------------------- 29.0/99.8 MB 2.4 MB/s eta 0:00:30\n",
      "   ----------- ---------------------------- 29.1/99.8 MB 2.4 MB/s eta 0:00:30\n",
      "   ----------- ---------------------------- 29.3/99.8 MB 2.4 MB/s eta 0:00:29\n",
      "   ----------- ---------------------------- 29.5/99.8 MB 2.5 MB/s eta 0:00:29\n",
      "   ----------- ---------------------------- 29.6/99.8 MB 2.5 MB/s eta 0:00:29\n",
      "   ----------- ---------------------------- 29.7/99.8 MB 2.5 MB/s eta 0:00:28\n",
      "   ----------- ---------------------------- 29.9/99.8 MB 2.5 MB/s eta 0:00:28\n",
      "   ------------ --------------------------- 30.0/99.8 MB 2.5 MB/s eta 0:00:28\n",
      "   ------------ --------------------------- 30.3/99.8 MB 2.6 MB/s eta 0:00:27\n",
      "   ------------ --------------------------- 30.4/99.8 MB 2.6 MB/s eta 0:00:27\n",
      "   ------------ --------------------------- 30.5/99.8 MB 2.6 MB/s eta 0:00:27\n",
      "   ------------ --------------------------- 30.7/99.8 MB 2.6 MB/s eta 0:00:27\n",
      "   ------------ --------------------------- 30.9/99.8 MB 2.7 MB/s eta 0:00:26\n",
      "   ------------ --------------------------- 31.0/99.8 MB 2.7 MB/s eta 0:00:26\n",
      "   ------------ --------------------------- 31.1/99.8 MB 2.8 MB/s eta 0:00:25\n",
      "   ------------ --------------------------- 31.3/99.8 MB 2.8 MB/s eta 0:00:25\n",
      "   ------------ --------------------------- 31.4/99.8 MB 2.8 MB/s eta 0:00:25\n",
      "   ------------ --------------------------- 31.5/99.8 MB 2.8 MB/s eta 0:00:25\n",
      "   ------------ --------------------------- 31.7/99.8 MB 2.8 MB/s eta 0:00:25\n",
      "   ------------ --------------------------- 31.8/99.8 MB 2.8 MB/s eta 0:00:25\n",
      "   ------------ --------------------------- 32.0/99.8 MB 2.8 MB/s eta 0:00:25\n",
      "   ------------ --------------------------- 32.2/99.8 MB 2.8 MB/s eta 0:00:25\n",
      "   ------------ --------------------------- 32.3/99.8 MB 2.8 MB/s eta 0:00:25\n",
      "   ------------- -------------------------- 32.5/99.8 MB 2.8 MB/s eta 0:00:25\n",
      "   ------------- -------------------------- 32.6/99.8 MB 2.8 MB/s eta 0:00:25\n",
      "   ------------- -------------------------- 32.7/99.8 MB 2.7 MB/s eta 0:00:25\n",
      "   ------------- -------------------------- 32.7/99.8 MB 2.7 MB/s eta 0:00:25\n",
      "   ------------- -------------------------- 32.9/99.8 MB 2.7 MB/s eta 0:00:25\n",
      "   ------------- -------------------------- 33.0/99.8 MB 2.7 MB/s eta 0:00:25\n",
      "   ------------- -------------------------- 33.1/99.8 MB 2.7 MB/s eta 0:00:25\n",
      "   ------------- -------------------------- 33.2/99.8 MB 2.8 MB/s eta 0:00:25\n",
      "   ------------- -------------------------- 33.4/99.8 MB 2.8 MB/s eta 0:00:24\n",
      "   ------------- -------------------------- 33.5/99.8 MB 2.8 MB/s eta 0:00:24\n",
      "   ------------- -------------------------- 33.7/99.8 MB 2.8 MB/s eta 0:00:24\n",
      "   ------------- -------------------------- 33.8/99.8 MB 2.9 MB/s eta 0:00:23\n",
      "   ------------- -------------------------- 34.0/99.8 MB 2.9 MB/s eta 0:00:23\n",
      "   ------------- -------------------------- 34.0/99.8 MB 2.9 MB/s eta 0:00:23\n",
      "   ------------- -------------------------- 34.1/99.8 MB 2.9 MB/s eta 0:00:23\n",
      "   ------------- -------------------------- 34.3/99.8 MB 2.9 MB/s eta 0:00:23\n",
      "   ------------- -------------------------- 34.3/99.8 MB 2.9 MB/s eta 0:00:23\n",
      "   ------------- -------------------------- 34.5/99.8 MB 2.9 MB/s eta 0:00:23\n",
      "   ------------- -------------------------- 34.6/99.8 MB 2.9 MB/s eta 0:00:23\n",
      "   ------------- -------------------------- 34.8/99.8 MB 2.9 MB/s eta 0:00:23\n",
      "   ------------- -------------------------- 34.8/99.8 MB 2.9 MB/s eta 0:00:23\n",
      "   -------------- ------------------------- 35.0/99.8 MB 2.9 MB/s eta 0:00:23\n",
      "   -------------- ------------------------- 35.1/99.8 MB 2.8 MB/s eta 0:00:23\n",
      "   -------------- ------------------------- 35.2/99.8 MB 2.8 MB/s eta 0:00:23\n",
      "   -------------- ------------------------- 35.3/99.8 MB 2.8 MB/s eta 0:00:23\n",
      "   -------------- ------------------------- 35.4/99.8 MB 2.8 MB/s eta 0:00:23\n",
      "   -------------- ------------------------- 35.5/99.8 MB 2.8 MB/s eta 0:00:23\n",
      "   -------------- ------------------------- 35.7/99.8 MB 2.8 MB/s eta 0:00:23\n",
      "   -------------- ------------------------- 35.8/99.8 MB 2.8 MB/s eta 0:00:23\n",
      "   -------------- ------------------------- 35.9/99.8 MB 2.8 MB/s eta 0:00:23\n",
      "   -------------- ------------------------- 36.0/99.8 MB 2.8 MB/s eta 0:00:23\n",
      "   -------------- ------------------------- 36.1/99.8 MB 2.8 MB/s eta 0:00:23\n",
      "   -------------- ------------------------- 36.3/99.8 MB 2.8 MB/s eta 0:00:23\n",
      "   -------------- ------------------------- 36.4/99.8 MB 2.8 MB/s eta 0:00:23\n",
      "   -------------- ------------------------- 36.6/99.8 MB 2.8 MB/s eta 0:00:23\n",
      "   -------------- ------------------------- 36.8/99.8 MB 2.8 MB/s eta 0:00:23\n",
      "   -------------- ------------------------- 36.9/99.8 MB 2.9 MB/s eta 0:00:22\n",
      "   -------------- ------------------------- 37.0/99.8 MB 2.8 MB/s eta 0:00:23\n",
      "   -------------- ------------------------- 37.1/99.8 MB 2.8 MB/s eta 0:00:23\n",
      "   -------------- ------------------------- 37.3/99.8 MB 2.8 MB/s eta 0:00:23\n",
      "   --------------- ------------------------ 37.4/99.8 MB 2.8 MB/s eta 0:00:23\n",
      "   --------------- ------------------------ 37.6/99.8 MB 2.8 MB/s eta 0:00:23\n",
      "   --------------- ------------------------ 37.6/99.8 MB 2.8 MB/s eta 0:00:23\n",
      "   --------------- ------------------------ 37.7/99.8 MB 2.8 MB/s eta 0:00:23\n",
      "   --------------- ------------------------ 37.9/99.8 MB 2.8 MB/s eta 0:00:23\n",
      "   --------------- ------------------------ 38.0/99.8 MB 2.8 MB/s eta 0:00:23\n",
      "   --------------- ------------------------ 38.2/99.8 MB 2.8 MB/s eta 0:00:23\n",
      "   --------------- ------------------------ 38.3/99.8 MB 2.8 MB/s eta 0:00:23\n",
      "   --------------- ------------------------ 38.4/99.8 MB 2.8 MB/s eta 0:00:23\n",
      "   --------------- ------------------------ 38.5/99.8 MB 2.8 MB/s eta 0:00:23\n",
      "   --------------- ------------------------ 38.6/99.8 MB 2.7 MB/s eta 0:00:23\n",
      "   --------------- ------------------------ 38.7/99.8 MB 2.7 MB/s eta 0:00:23\n",
      "   --------------- ------------------------ 38.9/99.8 MB 2.7 MB/s eta 0:00:23\n",
      "   --------------- ------------------------ 39.0/99.8 MB 2.7 MB/s eta 0:00:23\n",
      "   --------------- ------------------------ 39.1/99.8 MB 2.7 MB/s eta 0:00:23\n",
      "   --------------- ------------------------ 39.3/99.8 MB 2.7 MB/s eta 0:00:23\n",
      "   --------------- ------------------------ 39.4/99.8 MB 2.7 MB/s eta 0:00:23\n",
      "   --------------- ------------------------ 39.5/99.8 MB 2.7 MB/s eta 0:00:23\n",
      "   --------------- ------------------------ 39.6/99.8 MB 2.7 MB/s eta 0:00:23\n",
      "   --------------- ------------------------ 39.8/99.8 MB 2.7 MB/s eta 0:00:23\n",
      "   ---------------- ----------------------- 39.9/99.8 MB 2.7 MB/s eta 0:00:23\n",
      "   ---------------- ----------------------- 40.0/99.8 MB 2.7 MB/s eta 0:00:23\n",
      "   ---------------- ----------------------- 40.1/99.8 MB 2.7 MB/s eta 0:00:23\n",
      "   ---------------- ----------------------- 40.3/99.8 MB 2.7 MB/s eta 0:00:23\n",
      "   ---------------- ----------------------- 40.5/99.8 MB 2.7 MB/s eta 0:00:23\n",
      "   ---------------- ----------------------- 40.7/99.8 MB 2.7 MB/s eta 0:00:23\n",
      "   ---------------- ----------------------- 40.8/99.8 MB 2.7 MB/s eta 0:00:23\n",
      "   ---------------- ----------------------- 40.9/99.8 MB 2.7 MB/s eta 0:00:23\n",
      "   ---------------- ----------------------- 41.0/99.8 MB 2.7 MB/s eta 0:00:23\n",
      "   ---------------- ----------------------- 41.2/99.8 MB 2.7 MB/s eta 0:00:23\n",
      "   ---------------- ----------------------- 41.2/99.8 MB 2.7 MB/s eta 0:00:22\n",
      "   ---------------- ----------------------- 41.3/99.8 MB 2.6 MB/s eta 0:00:23\n",
      "   ---------------- ----------------------- 41.4/99.8 MB 2.7 MB/s eta 0:00:22\n",
      "   ---------------- ----------------------- 41.6/99.8 MB 2.6 MB/s eta 0:00:23\n",
      "   ---------------- ----------------------- 41.7/99.8 MB 2.6 MB/s eta 0:00:23\n",
      "   ---------------- ----------------------- 41.9/99.8 MB 2.6 MB/s eta 0:00:22\n",
      "   ---------------- ----------------------- 42.0/99.8 MB 2.6 MB/s eta 0:00:22\n",
      "   ---------------- ----------------------- 42.1/99.8 MB 2.6 MB/s eta 0:00:22\n",
      "   ---------------- ----------------------- 42.3/99.8 MB 2.6 MB/s eta 0:00:22\n",
      "   ----------------- ---------------------- 42.4/99.8 MB 2.6 MB/s eta 0:00:22\n",
      "   ----------------- ---------------------- 42.5/99.8 MB 2.6 MB/s eta 0:00:22\n",
      "   ----------------- ---------------------- 42.7/99.8 MB 2.6 MB/s eta 0:00:22\n",
      "   ----------------- ---------------------- 42.8/99.8 MB 2.6 MB/s eta 0:00:22\n",
      "   ----------------- ---------------------- 43.0/99.8 MB 2.6 MB/s eta 0:00:22\n",
      "   ----------------- ---------------------- 43.1/99.8 MB 2.6 MB/s eta 0:00:22\n",
      "   ----------------- ---------------------- 43.1/99.8 MB 2.6 MB/s eta 0:00:22\n",
      "   ----------------- ---------------------- 43.2/99.8 MB 2.6 MB/s eta 0:00:22\n",
      "   ----------------- ---------------------- 43.3/99.8 MB 2.6 MB/s eta 0:00:22\n",
      "   ----------------- ---------------------- 43.4/99.8 MB 2.6 MB/s eta 0:00:22\n",
      "   ----------------- ---------------------- 43.5/99.8 MB 2.6 MB/s eta 0:00:22\n",
      "   ----------------- ---------------------- 43.6/99.8 MB 2.6 MB/s eta 0:00:22\n",
      "   ----------------- ---------------------- 43.7/99.8 MB 2.6 MB/s eta 0:00:22\n",
      "   ----------------- ---------------------- 43.7/99.8 MB 2.5 MB/s eta 0:00:23\n",
      "   ----------------- ---------------------- 43.8/99.8 MB 2.5 MB/s eta 0:00:22\n",
      "   ----------------- ---------------------- 44.0/99.8 MB 2.5 MB/s eta 0:00:23\n",
      "   ----------------- ---------------------- 44.1/99.8 MB 2.5 MB/s eta 0:00:23\n",
      "   ----------------- ---------------------- 44.2/99.8 MB 2.5 MB/s eta 0:00:23\n",
      "   ----------------- ---------------------- 44.4/99.8 MB 2.6 MB/s eta 0:00:22\n",
      "   ----------------- ---------------------- 44.5/99.8 MB 2.6 MB/s eta 0:00:22\n",
      "   ----------------- ---------------------- 44.7/99.8 MB 2.6 MB/s eta 0:00:22\n",
      "   ----------------- ---------------------- 44.8/99.8 MB 2.6 MB/s eta 0:00:22\n",
      "   ------------------ --------------------- 45.0/99.8 MB 2.6 MB/s eta 0:00:22\n",
      "   ------------------ --------------------- 45.1/99.8 MB 2.6 MB/s eta 0:00:22\n",
      "   ------------------ --------------------- 45.3/99.8 MB 2.6 MB/s eta 0:00:22\n",
      "   ------------------ --------------------- 45.3/99.8 MB 2.6 MB/s eta 0:00:21\n",
      "   ------------------ --------------------- 45.4/99.8 MB 2.6 MB/s eta 0:00:22\n",
      "   ------------------ --------------------- 45.5/99.8 MB 2.5 MB/s eta 0:00:22\n",
      "   ------------------ --------------------- 45.6/99.8 MB 2.5 MB/s eta 0:00:22\n",
      "   ------------------ --------------------- 45.7/99.8 MB 2.5 MB/s eta 0:00:22\n",
      "   ------------------ --------------------- 45.9/99.8 MB 2.5 MB/s eta 0:00:22\n",
      "   ------------------ --------------------- 46.0/99.8 MB 2.5 MB/s eta 0:00:22\n",
      "   ------------------ --------------------- 46.1/99.8 MB 2.6 MB/s eta 0:00:21\n",
      "   ------------------ --------------------- 46.2/99.8 MB 2.5 MB/s eta 0:00:22\n",
      "   ------------------ --------------------- 46.3/99.8 MB 2.5 MB/s eta 0:00:22\n",
      "   ------------------ --------------------- 46.4/99.8 MB 2.5 MB/s eta 0:00:22\n",
      "   ------------------ --------------------- 46.5/99.8 MB 2.5 MB/s eta 0:00:22\n",
      "   ------------------ --------------------- 46.6/99.8 MB 2.5 MB/s eta 0:00:22\n",
      "   ------------------ --------------------- 46.7/99.8 MB 2.5 MB/s eta 0:00:22\n",
      "   ------------------ --------------------- 46.8/99.8 MB 2.5 MB/s eta 0:00:22\n",
      "   ------------------ --------------------- 46.9/99.8 MB 2.5 MB/s eta 0:00:22\n",
      "   ------------------ --------------------- 47.0/99.8 MB 2.4 MB/s eta 0:00:22\n",
      "   ------------------ --------------------- 47.0/99.8 MB 2.4 MB/s eta 0:00:22\n",
      "   ------------------ --------------------- 47.1/99.8 MB 2.4 MB/s eta 0:00:22\n",
      "   ------------------ --------------------- 47.2/99.8 MB 2.4 MB/s eta 0:00:22\n",
      "   ------------------ --------------------- 47.4/99.8 MB 2.4 MB/s eta 0:00:22\n",
      "   ------------------- -------------------- 47.5/99.8 MB 2.4 MB/s eta 0:00:22\n",
      "   ------------------- -------------------- 47.6/99.8 MB 2.4 MB/s eta 0:00:22\n",
      "   ------------------- -------------------- 47.6/99.8 MB 2.4 MB/s eta 0:00:22\n",
      "   ------------------- -------------------- 47.7/99.8 MB 2.4 MB/s eta 0:00:22\n",
      "   ------------------- -------------------- 47.9/99.8 MB 2.4 MB/s eta 0:00:22\n",
      "   ------------------- -------------------- 48.1/99.8 MB 2.4 MB/s eta 0:00:22\n",
      "   ------------------- -------------------- 48.2/99.8 MB 2.4 MB/s eta 0:00:22\n",
      "   ------------------- -------------------- 48.3/99.8 MB 2.4 MB/s eta 0:00:22\n",
      "   ------------------- -------------------- 48.4/99.8 MB 2.4 MB/s eta 0:00:22\n",
      "   ------------------- -------------------- 48.5/99.8 MB 2.4 MB/s eta 0:00:22\n",
      "   ------------------- -------------------- 48.6/99.8 MB 2.4 MB/s eta 0:00:22\n",
      "   ------------------- -------------------- 48.7/99.8 MB 2.4 MB/s eta 0:00:22\n",
      "   ------------------- -------------------- 48.9/99.8 MB 2.4 MB/s eta 0:00:22\n",
      "   ------------------- -------------------- 48.9/99.8 MB 2.4 MB/s eta 0:00:22\n",
      "   ------------------- -------------------- 49.0/99.8 MB 2.4 MB/s eta 0:00:22\n",
      "   ------------------- -------------------- 49.1/99.8 MB 2.4 MB/s eta 0:00:22\n",
      "   ------------------- -------------------- 49.2/99.8 MB 2.3 MB/s eta 0:00:22\n",
      "   ------------------- -------------------- 49.3/99.8 MB 2.3 MB/s eta 0:00:22\n",
      "   ------------------- -------------------- 49.5/99.8 MB 2.3 MB/s eta 0:00:22\n",
      "   ------------------- -------------------- 49.6/99.8 MB 2.3 MB/s eta 0:00:22\n",
      "   ------------------- -------------------- 49.7/99.8 MB 2.3 MB/s eta 0:00:22\n",
      "   ------------------- -------------------- 49.8/99.8 MB 2.3 MB/s eta 0:00:22\n",
      "   ------------------- -------------------- 49.8/99.8 MB 2.3 MB/s eta 0:00:22\n",
      "   -------------------- ------------------- 50.0/99.8 MB 2.3 MB/s eta 0:00:22\n",
      "   -------------------- ------------------- 50.1/99.8 MB 2.3 MB/s eta 0:00:22\n",
      "   -------------------- ------------------- 50.2/99.8 MB 2.3 MB/s eta 0:00:22\n",
      "   -------------------- ------------------- 50.3/99.8 MB 2.3 MB/s eta 0:00:22\n",
      "   -------------------- ------------------- 50.4/99.8 MB 2.3 MB/s eta 0:00:22\n",
      "   -------------------- ------------------- 50.5/99.8 MB 2.3 MB/s eta 0:00:22\n",
      "   -------------------- ------------------- 50.6/99.8 MB 2.3 MB/s eta 0:00:22\n",
      "   -------------------- ------------------- 50.7/99.8 MB 2.3 MB/s eta 0:00:22\n",
      "   -------------------- ------------------- 50.7/99.8 MB 2.3 MB/s eta 0:00:22\n",
      "   -------------------- ------------------- 50.8/99.8 MB 2.2 MB/s eta 0:00:22\n",
      "   -------------------- ------------------- 51.0/99.8 MB 2.2 MB/s eta 0:00:22\n",
      "   -------------------- ------------------- 51.1/99.8 MB 2.2 MB/s eta 0:00:22\n",
      "   -------------------- ------------------- 51.2/99.8 MB 2.2 MB/s eta 0:00:22\n",
      "   -------------------- ------------------- 51.3/99.8 MB 2.2 MB/s eta 0:00:22\n",
      "   -------------------- ------------------- 51.4/99.8 MB 2.2 MB/s eta 0:00:22\n",
      "   -------------------- ------------------- 51.5/99.8 MB 2.2 MB/s eta 0:00:22\n",
      "   -------------------- ------------------- 51.5/99.8 MB 2.2 MB/s eta 0:00:22\n",
      "   -------------------- ------------------- 51.6/99.8 MB 2.2 MB/s eta 0:00:22\n",
      "   -------------------- ------------------- 51.6/99.8 MB 2.2 MB/s eta 0:00:22\n",
      "   -------------------- ------------------- 51.8/99.8 MB 2.2 MB/s eta 0:00:22\n",
      "   -------------------- ------------------- 51.9/99.8 MB 2.2 MB/s eta 0:00:22\n",
      "   -------------------- ------------------- 51.9/99.8 MB 2.2 MB/s eta 0:00:22\n",
      "   -------------------- ------------------- 52.0/99.8 MB 2.2 MB/s eta 0:00:23\n",
      "   -------------------- ------------------- 52.2/99.8 MB 2.1 MB/s eta 0:00:23\n",
      "   -------------------- ------------------- 52.3/99.8 MB 2.1 MB/s eta 0:00:23\n",
      "   --------------------- ------------------ 52.5/99.8 MB 2.1 MB/s eta 0:00:23\n",
      "   --------------------- ------------------ 52.6/99.8 MB 2.1 MB/s eta 0:00:23\n",
      "   --------------------- ------------------ 52.6/99.8 MB 2.1 MB/s eta 0:00:23\n",
      "   --------------------- ------------------ 52.9/99.8 MB 2.1 MB/s eta 0:00:23\n",
      "   --------------------- ------------------ 53.0/99.8 MB 2.1 MB/s eta 0:00:23\n",
      "   --------------------- ------------------ 53.2/99.8 MB 2.1 MB/s eta 0:00:23\n",
      "   --------------------- ------------------ 53.4/99.8 MB 2.1 MB/s eta 0:00:22\n",
      "   --------------------- ------------------ 53.5/99.8 MB 2.1 MB/s eta 0:00:22\n",
      "   --------------------- ------------------ 53.6/99.8 MB 2.2 MB/s eta 0:00:22\n",
      "   --------------------- ------------------ 53.7/99.8 MB 2.2 MB/s eta 0:00:22\n",
      "   --------------------- ------------------ 53.8/99.8 MB 2.2 MB/s eta 0:00:22\n",
      "   --------------------- ------------------ 54.0/99.8 MB 2.2 MB/s eta 0:00:22\n",
      "   --------------------- ------------------ 54.2/99.8 MB 2.2 MB/s eta 0:00:21\n",
      "   --------------------- ------------------ 54.3/99.8 MB 2.2 MB/s eta 0:00:21\n",
      "   --------------------- ------------------ 54.4/99.8 MB 2.2 MB/s eta 0:00:21\n",
      "   --------------------- ------------------ 54.6/99.8 MB 2.2 MB/s eta 0:00:21\n",
      "   --------------------- ------------------ 54.8/99.8 MB 2.2 MB/s eta 0:00:21\n",
      "   --------------------- ------------------ 54.8/99.8 MB 2.2 MB/s eta 0:00:21\n",
      "   ---------------------- ----------------- 54.9/99.8 MB 2.2 MB/s eta 0:00:21\n",
      "   ---------------------- ----------------- 55.0/99.8 MB 2.2 MB/s eta 0:00:21\n",
      "   ---------------------- ----------------- 55.2/99.8 MB 2.2 MB/s eta 0:00:21\n",
      "   ---------------------- ----------------- 55.3/99.8 MB 2.2 MB/s eta 0:00:21\n",
      "   ---------------------- ----------------- 55.4/99.8 MB 2.2 MB/s eta 0:00:21\n",
      "   ---------------------- ----------------- 55.4/99.8 MB 2.2 MB/s eta 0:00:21\n",
      "   ---------------------- ----------------- 55.4/99.8 MB 2.2 MB/s eta 0:00:21\n",
      "   ---------------------- ----------------- 55.5/99.8 MB 2.1 MB/s eta 0:00:21\n",
      "   ---------------------- ----------------- 55.7/99.8 MB 2.1 MB/s eta 0:00:21\n",
      "   ---------------------- ----------------- 55.7/99.8 MB 2.1 MB/s eta 0:00:21\n",
      "   ---------------------- ----------------- 55.7/99.8 MB 2.1 MB/s eta 0:00:21\n",
      "   ---------------------- ----------------- 55.9/99.8 MB 2.1 MB/s eta 0:00:21\n",
      "   ---------------------- ----------------- 55.9/99.8 MB 2.1 MB/s eta 0:00:21\n",
      "   ---------------------- ----------------- 56.1/99.8 MB 2.1 MB/s eta 0:00:21\n",
      "   ---------------------- ----------------- 56.2/99.8 MB 2.1 MB/s eta 0:00:21\n",
      "   ---------------------- ----------------- 56.3/99.8 MB 2.1 MB/s eta 0:00:21\n",
      "   ---------------------- ----------------- 56.4/99.8 MB 2.1 MB/s eta 0:00:21\n",
      "   ---------------------- ----------------- 56.6/99.8 MB 2.1 MB/s eta 0:00:21\n",
      "   ---------------------- ----------------- 56.7/99.8 MB 2.1 MB/s eta 0:00:21\n",
      "   ---------------------- ----------------- 56.9/99.8 MB 2.2 MB/s eta 0:00:20\n",
      "   ---------------------- ----------------- 57.0/99.8 MB 2.2 MB/s eta 0:00:20\n",
      "   ---------------------- ----------------- 57.1/99.8 MB 2.2 MB/s eta 0:00:20\n",
      "   ---------------------- ----------------- 57.3/99.8 MB 2.2 MB/s eta 0:00:20\n",
      "   ---------------------- ----------------- 57.3/99.8 MB 2.2 MB/s eta 0:00:20\n",
      "   ----------------------- ---------------- 57.4/99.8 MB 2.2 MB/s eta 0:00:20\n",
      "   ----------------------- ---------------- 57.5/99.8 MB 2.2 MB/s eta 0:00:20\n",
      "   ----------------------- ---------------- 57.7/99.8 MB 2.2 MB/s eta 0:00:20\n",
      "   ----------------------- ---------------- 57.8/99.8 MB 2.2 MB/s eta 0:00:20\n",
      "   ----------------------- ---------------- 57.9/99.8 MB 2.2 MB/s eta 0:00:20\n",
      "   ----------------------- ---------------- 58.0/99.8 MB 2.2 MB/s eta 0:00:19\n",
      "   ----------------------- ---------------- 58.1/99.8 MB 2.2 MB/s eta 0:00:19\n",
      "   ----------------------- ---------------- 58.2/99.8 MB 2.2 MB/s eta 0:00:19\n",
      "   ----------------------- ---------------- 58.4/99.8 MB 2.2 MB/s eta 0:00:19\n",
      "   ----------------------- ---------------- 58.4/99.8 MB 2.2 MB/s eta 0:00:19\n",
      "   ----------------------- ---------------- 58.6/99.8 MB 2.2 MB/s eta 0:00:19\n",
      "   ----------------------- ---------------- 58.8/99.8 MB 2.2 MB/s eta 0:00:19\n",
      "   ----------------------- ---------------- 58.9/99.8 MB 2.2 MB/s eta 0:00:19\n",
      "   ----------------------- ---------------- 59.0/99.8 MB 2.2 MB/s eta 0:00:19\n",
      "   ----------------------- ---------------- 59.1/99.8 MB 2.2 MB/s eta 0:00:19\n",
      "   ----------------------- ---------------- 59.3/99.8 MB 2.3 MB/s eta 0:00:18\n",
      "   ----------------------- ---------------- 59.4/99.8 MB 2.3 MB/s eta 0:00:18\n",
      "   ----------------------- ---------------- 59.5/99.8 MB 2.3 MB/s eta 0:00:18\n",
      "   ----------------------- ---------------- 59.6/99.8 MB 2.3 MB/s eta 0:00:18\n",
      "   ----------------------- ---------------- 59.8/99.8 MB 2.3 MB/s eta 0:00:18\n",
      "   ------------------------ --------------- 59.9/99.8 MB 2.3 MB/s eta 0:00:18\n",
      "   ------------------------ --------------- 60.0/99.8 MB 2.3 MB/s eta 0:00:18\n",
      "   ------------------------ --------------- 60.1/99.8 MB 2.3 MB/s eta 0:00:18\n",
      "   ------------------------ --------------- 60.2/99.8 MB 2.3 MB/s eta 0:00:18\n",
      "   ------------------------ --------------- 60.3/99.8 MB 2.3 MB/s eta 0:00:18\n",
      "   ------------------------ --------------- 60.3/99.8 MB 2.3 MB/s eta 0:00:18\n",
      "   ------------------------ --------------- 60.4/99.8 MB 2.3 MB/s eta 0:00:18\n",
      "   ------------------------ --------------- 60.5/99.8 MB 2.3 MB/s eta 0:00:18\n",
      "   ------------------------ --------------- 60.6/99.8 MB 2.3 MB/s eta 0:00:18\n",
      "   ------------------------ --------------- 60.8/99.8 MB 2.3 MB/s eta 0:00:18\n",
      "   ------------------------ --------------- 60.8/99.8 MB 2.3 MB/s eta 0:00:18\n",
      "   ------------------------ --------------- 61.0/99.8 MB 2.3 MB/s eta 0:00:17\n",
      "   ------------------------ --------------- 61.2/99.8 MB 2.3 MB/s eta 0:00:17\n",
      "   ------------------------ --------------- 61.3/99.8 MB 2.3 MB/s eta 0:00:17\n",
      "   ------------------------ --------------- 61.5/99.8 MB 2.3 MB/s eta 0:00:17\n",
      "   ------------------------ --------------- 61.6/99.8 MB 2.3 MB/s eta 0:00:17\n",
      "   ------------------------ --------------- 61.7/99.8 MB 2.3 MB/s eta 0:00:17\n",
      "   ------------------------ --------------- 61.9/99.8 MB 2.4 MB/s eta 0:00:17\n",
      "   ------------------------ --------------- 62.0/99.8 MB 2.4 MB/s eta 0:00:17\n",
      "   ------------------------ --------------- 62.1/99.8 MB 2.4 MB/s eta 0:00:16\n",
      "   ------------------------ --------------- 62.2/99.8 MB 2.4 MB/s eta 0:00:16\n",
      "   ------------------------- -------------- 62.4/99.8 MB 2.4 MB/s eta 0:00:16\n",
      "   ------------------------- -------------- 62.5/99.8 MB 2.4 MB/s eta 0:00:16\n",
      "   ------------------------- -------------- 62.6/99.8 MB 2.4 MB/s eta 0:00:16\n",
      "   ------------------------- -------------- 62.7/99.8 MB 2.4 MB/s eta 0:00:16\n",
      "   ------------------------- -------------- 62.9/99.8 MB 2.5 MB/s eta 0:00:16\n",
      "   ------------------------- -------------- 63.0/99.8 MB 2.4 MB/s eta 0:00:16\n",
      "   ------------------------- -------------- 63.1/99.8 MB 2.4 MB/s eta 0:00:16\n",
      "   ------------------------- -------------- 63.2/99.8 MB 2.4 MB/s eta 0:00:15\n",
      "   ------------------------- -------------- 63.3/99.8 MB 2.4 MB/s eta 0:00:16\n",
      "   ------------------------- -------------- 63.5/99.8 MB 2.4 MB/s eta 0:00:15\n",
      "   ------------------------- -------------- 63.7/99.8 MB 2.4 MB/s eta 0:00:15\n",
      "   ------------------------- -------------- 63.9/99.8 MB 2.4 MB/s eta 0:00:15\n",
      "   ------------------------- -------------- 64.1/99.8 MB 2.4 MB/s eta 0:00:15\n",
      "   ------------------------- -------------- 64.2/99.8 MB 2.4 MB/s eta 0:00:15\n",
      "   ------------------------- -------------- 64.4/99.8 MB 2.4 MB/s eta 0:00:15\n",
      "   ------------------------- -------------- 64.6/99.8 MB 2.4 MB/s eta 0:00:15\n",
      "   ------------------------- -------------- 64.7/99.8 MB 2.4 MB/s eta 0:00:15\n",
      "   ------------------------- -------------- 64.8/99.8 MB 2.4 MB/s eta 0:00:15\n",
      "   -------------------------- ------------- 64.9/99.8 MB 2.4 MB/s eta 0:00:15\n",
      "   -------------------------- ------------- 65.1/99.8 MB 2.5 MB/s eta 0:00:15\n",
      "   -------------------------- ------------- 65.3/99.8 MB 2.5 MB/s eta 0:00:14\n",
      "   -------------------------- ------------- 65.5/99.8 MB 2.5 MB/s eta 0:00:14\n",
      "   -------------------------- ------------- 65.6/99.8 MB 2.5 MB/s eta 0:00:14\n",
      "   -------------------------- ------------- 65.8/99.8 MB 2.5 MB/s eta 0:00:14\n",
      "   -------------------------- ------------- 65.9/99.8 MB 2.6 MB/s eta 0:00:14\n",
      "   -------------------------- ------------- 66.1/99.8 MB 2.6 MB/s eta 0:00:14\n",
      "   -------------------------- ------------- 66.2/99.8 MB 2.6 MB/s eta 0:00:13\n",
      "   -------------------------- ------------- 66.4/99.8 MB 2.6 MB/s eta 0:00:13\n",
      "   -------------------------- ------------- 66.5/99.8 MB 2.6 MB/s eta 0:00:13\n",
      "   -------------------------- ------------- 66.6/99.8 MB 2.6 MB/s eta 0:00:13\n",
      "   -------------------------- ------------- 66.8/99.8 MB 2.6 MB/s eta 0:00:13\n",
      "   -------------------------- ------------- 67.0/99.8 MB 2.6 MB/s eta 0:00:13\n",
      "   -------------------------- ------------- 67.1/99.8 MB 2.6 MB/s eta 0:00:13\n",
      "   -------------------------- ------------- 67.3/99.8 MB 2.6 MB/s eta 0:00:13\n",
      "   --------------------------- ------------ 67.4/99.8 MB 2.6 MB/s eta 0:00:13\n",
      "   --------------------------- ------------ 67.5/99.8 MB 2.6 MB/s eta 0:00:13\n",
      "   --------------------------- ------------ 67.7/99.8 MB 2.7 MB/s eta 0:00:13\n",
      "   --------------------------- ------------ 67.8/99.8 MB 2.7 MB/s eta 0:00:13\n",
      "   --------------------------- ------------ 67.9/99.8 MB 2.7 MB/s eta 0:00:13\n",
      "   --------------------------- ------------ 68.0/99.8 MB 2.7 MB/s eta 0:00:12\n",
      "   --------------------------- ------------ 68.1/99.8 MB 2.7 MB/s eta 0:00:12\n",
      "   --------------------------- ------------ 68.2/99.8 MB 2.7 MB/s eta 0:00:12\n",
      "   --------------------------- ------------ 68.4/99.8 MB 2.7 MB/s eta 0:00:12\n",
      "   --------------------------- ------------ 68.6/99.8 MB 2.7 MB/s eta 0:00:12\n",
      "   --------------------------- ------------ 68.7/99.8 MB 2.7 MB/s eta 0:00:12\n",
      "   --------------------------- ------------ 68.8/99.8 MB 2.7 MB/s eta 0:00:12\n",
      "   --------------------------- ------------ 69.0/99.8 MB 2.7 MB/s eta 0:00:12\n",
      "   --------------------------- ------------ 69.1/99.8 MB 2.7 MB/s eta 0:00:12\n",
      "   --------------------------- ------------ 69.2/99.8 MB 2.7 MB/s eta 0:00:12\n",
      "   --------------------------- ------------ 69.4/99.8 MB 2.7 MB/s eta 0:00:12\n",
      "   --------------------------- ------------ 69.5/99.8 MB 2.7 MB/s eta 0:00:12\n",
      "   --------------------------- ------------ 69.6/99.8 MB 2.7 MB/s eta 0:00:12\n",
      "   --------------------------- ------------ 69.8/99.8 MB 2.7 MB/s eta 0:00:12\n",
      "   ---------------------------- ----------- 69.9/99.8 MB 2.7 MB/s eta 0:00:12\n",
      "   ---------------------------- ----------- 70.0/99.8 MB 2.7 MB/s eta 0:00:12\n",
      "   ---------------------------- ----------- 70.2/99.8 MB 2.7 MB/s eta 0:00:11\n",
      "   ---------------------------- ----------- 70.3/99.8 MB 2.7 MB/s eta 0:00:11\n",
      "   ---------------------------- ----------- 70.5/99.8 MB 2.7 MB/s eta 0:00:11\n",
      "   ---------------------------- ----------- 70.5/99.8 MB 2.7 MB/s eta 0:00:11\n",
      "   ---------------------------- ----------- 70.6/99.8 MB 2.7 MB/s eta 0:00:11\n",
      "   ---------------------------- ----------- 70.7/99.8 MB 2.7 MB/s eta 0:00:11\n",
      "   ---------------------------- ----------- 70.8/99.8 MB 2.8 MB/s eta 0:00:11\n",
      "   ---------------------------- ----------- 71.0/99.8 MB 2.8 MB/s eta 0:00:11\n",
      "   ---------------------------- ----------- 71.2/99.8 MB 2.8 MB/s eta 0:00:11\n",
      "   ---------------------------- ----------- 71.4/99.8 MB 2.8 MB/s eta 0:00:11\n",
      "   ---------------------------- ----------- 71.5/99.8 MB 2.8 MB/s eta 0:00:11\n",
      "   ---------------------------- ----------- 71.6/99.8 MB 2.8 MB/s eta 0:00:10\n",
      "   ---------------------------- ----------- 71.8/99.8 MB 2.8 MB/s eta 0:00:10\n",
      "   ---------------------------- ----------- 71.9/99.8 MB 2.8 MB/s eta 0:00:10\n",
      "   ---------------------------- ----------- 72.1/99.8 MB 2.8 MB/s eta 0:00:10\n",
      "   ---------------------------- ----------- 72.3/99.8 MB 2.9 MB/s eta 0:00:10\n",
      "   ----------------------------- ---------- 72.4/99.8 MB 2.9 MB/s eta 0:00:10\n",
      "   ----------------------------- ---------- 72.6/99.8 MB 2.9 MB/s eta 0:00:10\n",
      "   ----------------------------- ---------- 72.7/99.8 MB 2.9 MB/s eta 0:00:10\n",
      "   ----------------------------- ---------- 72.8/99.8 MB 2.9 MB/s eta 0:00:10\n",
      "   ----------------------------- ---------- 72.9/99.8 MB 2.9 MB/s eta 0:00:10\n",
      "   ----------------------------- ---------- 73.1/99.8 MB 2.9 MB/s eta 0:00:10\n",
      "   ----------------------------- ---------- 73.2/99.8 MB 2.9 MB/s eta 0:00:10\n",
      "   ----------------------------- ---------- 73.4/99.8 MB 2.9 MB/s eta 0:00:10\n",
      "   ----------------------------- ---------- 73.5/99.8 MB 2.9 MB/s eta 0:00:09\n",
      "   ----------------------------- ---------- 73.7/99.8 MB 2.9 MB/s eta 0:00:09\n",
      "   ----------------------------- ---------- 73.8/99.8 MB 2.9 MB/s eta 0:00:09\n",
      "   ----------------------------- ---------- 74.0/99.8 MB 2.9 MB/s eta 0:00:09\n",
      "   ----------------------------- ---------- 74.1/99.8 MB 2.9 MB/s eta 0:00:09\n",
      "   ----------------------------- ---------- 74.2/99.8 MB 2.9 MB/s eta 0:00:09\n",
      "   ----------------------------- ---------- 74.3/99.8 MB 2.9 MB/s eta 0:00:09\n",
      "   ----------------------------- ---------- 74.5/99.8 MB 2.9 MB/s eta 0:00:09\n",
      "   ----------------------------- ---------- 74.6/99.8 MB 2.9 MB/s eta 0:00:09\n",
      "   ----------------------------- ---------- 74.6/99.8 MB 2.9 MB/s eta 0:00:09\n",
      "   ------------------------------ --------- 74.9/99.8 MB 2.9 MB/s eta 0:00:09\n",
      "   ------------------------------ --------- 75.1/99.8 MB 2.9 MB/s eta 0:00:09\n",
      "   ------------------------------ --------- 75.2/99.8 MB 2.9 MB/s eta 0:00:09\n",
      "   ------------------------------ --------- 75.3/99.8 MB 2.9 MB/s eta 0:00:09\n",
      "   ------------------------------ --------- 75.4/99.8 MB 2.9 MB/s eta 0:00:09\n",
      "   ------------------------------ --------- 75.6/99.8 MB 2.9 MB/s eta 0:00:09\n",
      "   ------------------------------ --------- 75.7/99.8 MB 2.9 MB/s eta 0:00:09\n",
      "   ------------------------------ --------- 75.9/99.8 MB 2.9 MB/s eta 0:00:09\n",
      "   ------------------------------ --------- 76.1/99.8 MB 2.9 MB/s eta 0:00:09\n",
      "   ------------------------------ --------- 76.2/99.8 MB 2.9 MB/s eta 0:00:09\n",
      "   ------------------------------ --------- 76.3/99.8 MB 2.9 MB/s eta 0:00:09\n",
      "   ------------------------------ --------- 76.4/99.8 MB 2.9 MB/s eta 0:00:09\n",
      "   ------------------------------ --------- 76.5/99.8 MB 2.9 MB/s eta 0:00:09\n",
      "   ------------------------------ --------- 76.7/99.8 MB 2.9 MB/s eta 0:00:08\n",
      "   ------------------------------ --------- 76.9/99.8 MB 2.9 MB/s eta 0:00:08\n",
      "   ------------------------------ --------- 77.1/99.8 MB 2.9 MB/s eta 0:00:08\n",
      "   ------------------------------ --------- 77.2/99.8 MB 2.9 MB/s eta 0:00:08\n",
      "   ------------------------------- -------- 77.4/99.8 MB 2.9 MB/s eta 0:00:08\n",
      "   ------------------------------- -------- 77.5/99.8 MB 2.9 MB/s eta 0:00:08\n",
      "   ------------------------------- -------- 77.7/99.8 MB 2.9 MB/s eta 0:00:08\n",
      "   ------------------------------- -------- 77.8/99.8 MB 2.9 MB/s eta 0:00:08\n",
      "   ------------------------------- -------- 78.0/99.8 MB 3.0 MB/s eta 0:00:08\n",
      "   ------------------------------- -------- 78.1/99.8 MB 2.9 MB/s eta 0:00:08\n",
      "   ------------------------------- -------- 78.3/99.8 MB 3.0 MB/s eta 0:00:08\n",
      "   ------------------------------- -------- 78.4/99.8 MB 3.0 MB/s eta 0:00:08\n",
      "   ------------------------------- -------- 78.5/99.8 MB 3.0 MB/s eta 0:00:08\n",
      "   ------------------------------- -------- 78.6/99.8 MB 3.0 MB/s eta 0:00:08\n",
      "   ------------------------------- -------- 78.7/99.8 MB 2.9 MB/s eta 0:00:08\n",
      "   ------------------------------- -------- 78.9/99.8 MB 2.9 MB/s eta 0:00:08\n",
      "   ------------------------------- -------- 79.0/99.8 MB 3.0 MB/s eta 0:00:08\n",
      "   ------------------------------- -------- 79.2/99.8 MB 3.0 MB/s eta 0:00:07\n",
      "   ------------------------------- -------- 79.3/99.8 MB 3.0 MB/s eta 0:00:07\n",
      "   ------------------------------- -------- 79.5/99.8 MB 3.0 MB/s eta 0:00:07\n",
      "   ------------------------------- -------- 79.6/99.8 MB 3.0 MB/s eta 0:00:07\n",
      "   ------------------------------- -------- 79.7/99.8 MB 3.0 MB/s eta 0:00:07\n",
      "   -------------------------------- ------- 79.9/99.8 MB 3.0 MB/s eta 0:00:07\n",
      "   -------------------------------- ------- 80.1/99.8 MB 3.0 MB/s eta 0:00:07\n",
      "   -------------------------------- ------- 80.2/99.8 MB 3.0 MB/s eta 0:00:07\n",
      "   -------------------------------- ------- 80.3/99.8 MB 3.0 MB/s eta 0:00:07\n",
      "   -------------------------------- ------- 80.4/99.8 MB 3.0 MB/s eta 0:00:07\n",
      "   -------------------------------- ------- 80.6/99.8 MB 3.0 MB/s eta 0:00:07\n",
      "   -------------------------------- ------- 80.6/99.8 MB 3.0 MB/s eta 0:00:07\n",
      "   -------------------------------- ------- 80.8/99.8 MB 3.0 MB/s eta 0:00:07\n",
      "   -------------------------------- ------- 80.9/99.8 MB 3.0 MB/s eta 0:00:07\n",
      "   -------------------------------- ------- 81.1/99.8 MB 3.0 MB/s eta 0:00:07\n",
      "   -------------------------------- ------- 81.2/99.8 MB 3.0 MB/s eta 0:00:07\n",
      "   -------------------------------- ------- 81.4/99.8 MB 3.0 MB/s eta 0:00:07\n",
      "   -------------------------------- ------- 81.5/99.8 MB 3.0 MB/s eta 0:00:07\n",
      "   -------------------------------- ------- 81.6/99.8 MB 3.0 MB/s eta 0:00:07\n",
      "   -------------------------------- ------- 81.7/99.8 MB 3.0 MB/s eta 0:00:07\n",
      "   -------------------------------- ------- 81.8/99.8 MB 3.0 MB/s eta 0:00:06\n",
      "   -------------------------------- ------- 82.0/99.8 MB 3.0 MB/s eta 0:00:06\n",
      "   -------------------------------- ------- 82.2/99.8 MB 3.0 MB/s eta 0:00:06\n",
      "   --------------------------------- ------ 82.3/99.8 MB 3.0 MB/s eta 0:00:06\n",
      "   --------------------------------- ------ 82.4/99.8 MB 3.0 MB/s eta 0:00:06\n",
      "   --------------------------------- ------ 82.5/99.8 MB 3.0 MB/s eta 0:00:06\n",
      "   --------------------------------- ------ 82.6/99.8 MB 2.9 MB/s eta 0:00:06\n",
      "   --------------------------------- ------ 82.7/99.8 MB 3.0 MB/s eta 0:00:06\n",
      "   --------------------------------- ------ 83.0/99.8 MB 2.9 MB/s eta 0:00:06\n",
      "   --------------------------------- ------ 83.1/99.8 MB 3.0 MB/s eta 0:00:06\n",
      "   --------------------------------- ------ 83.1/99.8 MB 3.0 MB/s eta 0:00:06\n",
      "   --------------------------------- ------ 83.3/99.8 MB 2.9 MB/s eta 0:00:06\n",
      "   --------------------------------- ------ 83.4/99.8 MB 2.9 MB/s eta 0:00:06\n",
      "   --------------------------------- ------ 83.5/99.8 MB 2.9 MB/s eta 0:00:06\n",
      "   --------------------------------- ------ 83.7/99.8 MB 2.9 MB/s eta 0:00:06\n",
      "   --------------------------------- ------ 83.8/99.8 MB 2.9 MB/s eta 0:00:06\n",
      "   --------------------------------- ------ 84.0/99.8 MB 2.9 MB/s eta 0:00:06\n",
      "   --------------------------------- ------ 84.1/99.8 MB 2.9 MB/s eta 0:00:06\n",
      "   --------------------------------- ------ 84.2/99.8 MB 2.9 MB/s eta 0:00:06\n",
      "   --------------------------------- ------ 84.3/99.8 MB 2.9 MB/s eta 0:00:06\n",
      "   --------------------------------- ------ 84.4/99.8 MB 2.9 MB/s eta 0:00:06\n",
      "   --------------------------------- ------ 84.6/99.8 MB 2.9 MB/s eta 0:00:06\n",
      "   --------------------------------- ------ 84.7/99.8 MB 2.9 MB/s eta 0:00:06\n",
      "   ---------------------------------- ----- 84.8/99.8 MB 2.9 MB/s eta 0:00:06\n",
      "   ---------------------------------- ----- 84.9/99.8 MB 2.9 MB/s eta 0:00:06\n",
      "   ---------------------------------- ----- 85.1/99.8 MB 2.9 MB/s eta 0:00:06\n",
      "   ---------------------------------- ----- 85.3/99.8 MB 2.9 MB/s eta 0:00:06\n",
      "   ---------------------------------- ----- 85.4/99.8 MB 2.9 MB/s eta 0:00:05\n",
      "   ---------------------------------- ----- 85.6/99.8 MB 2.9 MB/s eta 0:00:05\n",
      "   ---------------------------------- ----- 85.7/99.8 MB 2.9 MB/s eta 0:00:05\n",
      "   ---------------------------------- ----- 85.8/99.8 MB 2.9 MB/s eta 0:00:05\n",
      "   ---------------------------------- ----- 85.9/99.8 MB 2.9 MB/s eta 0:00:05\n",
      "   ---------------------------------- ----- 86.1/99.8 MB 2.9 MB/s eta 0:00:05\n",
      "   ---------------------------------- ----- 86.2/99.8 MB 2.9 MB/s eta 0:00:05\n",
      "   ---------------------------------- ----- 86.4/99.8 MB 2.9 MB/s eta 0:00:05\n",
      "   ---------------------------------- ----- 86.5/99.8 MB 2.9 MB/s eta 0:00:05\n",
      "   ---------------------------------- ----- 86.6/99.8 MB 2.9 MB/s eta 0:00:05\n",
      "   ---------------------------------- ----- 86.8/99.8 MB 2.9 MB/s eta 0:00:05\n",
      "   ---------------------------------- ----- 86.9/99.8 MB 2.9 MB/s eta 0:00:05\n",
      "   ---------------------------------- ----- 87.0/99.8 MB 2.9 MB/s eta 0:00:05\n",
      "   ---------------------------------- ----- 87.2/99.8 MB 2.9 MB/s eta 0:00:05\n",
      "   ----------------------------------- ---- 87.3/99.8 MB 2.9 MB/s eta 0:00:05\n",
      "   ----------------------------------- ---- 87.4/99.8 MB 2.9 MB/s eta 0:00:05\n",
      "   ----------------------------------- ---- 87.6/99.8 MB 2.8 MB/s eta 0:00:05\n",
      "   ----------------------------------- ---- 87.7/99.8 MB 2.8 MB/s eta 0:00:05\n",
      "   ----------------------------------- ---- 87.8/99.8 MB 2.8 MB/s eta 0:00:05\n",
      "   ----------------------------------- ---- 88.0/99.8 MB 2.8 MB/s eta 0:00:05\n",
      "   ----------------------------------- ---- 88.1/99.8 MB 2.8 MB/s eta 0:00:05\n",
      "   ----------------------------------- ---- 88.2/99.8 MB 2.8 MB/s eta 0:00:05\n",
      "   ----------------------------------- ---- 88.4/99.8 MB 2.8 MB/s eta 0:00:04\n",
      "   ----------------------------------- ---- 88.6/99.8 MB 2.8 MB/s eta 0:00:04\n",
      "   ----------------------------------- ---- 88.7/99.8 MB 2.8 MB/s eta 0:00:04\n",
      "   ----------------------------------- ---- 88.9/99.8 MB 2.9 MB/s eta 0:00:04\n",
      "   ----------------------------------- ---- 89.0/99.8 MB 2.9 MB/s eta 0:00:04\n",
      "   ----------------------------------- ---- 89.1/99.8 MB 2.9 MB/s eta 0:00:04\n",
      "   ----------------------------------- ---- 89.2/99.8 MB 2.8 MB/s eta 0:00:04\n",
      "   ----------------------------------- ---- 89.3/99.8 MB 2.8 MB/s eta 0:00:04\n",
      "   ----------------------------------- ---- 89.5/99.8 MB 2.8 MB/s eta 0:00:04\n",
      "   ----------------------------------- ---- 89.7/99.8 MB 2.8 MB/s eta 0:00:04\n",
      "   ------------------------------------ --- 89.8/99.8 MB 2.8 MB/s eta 0:00:04\n",
      "   ------------------------------------ --- 89.9/99.8 MB 2.8 MB/s eta 0:00:04\n",
      "   ------------------------------------ --- 90.0/99.8 MB 2.8 MB/s eta 0:00:04\n",
      "   ------------------------------------ --- 90.2/99.8 MB 2.8 MB/s eta 0:00:04\n",
      "   ------------------------------------ --- 90.3/99.8 MB 2.8 MB/s eta 0:00:04\n",
      "   ------------------------------------ --- 90.5/99.8 MB 2.8 MB/s eta 0:00:04\n",
      "   ------------------------------------ --- 90.6/99.8 MB 2.8 MB/s eta 0:00:04\n",
      "   ------------------------------------ --- 90.9/99.8 MB 2.8 MB/s eta 0:00:04\n",
      "   ------------------------------------ --- 91.0/99.8 MB 2.8 MB/s eta 0:00:04\n",
      "   ------------------------------------ --- 91.2/99.8 MB 2.9 MB/s eta 0:00:04\n",
      "   ------------------------------------ --- 91.4/99.8 MB 2.8 MB/s eta 0:00:03\n",
      "   ------------------------------------ --- 91.5/99.8 MB 2.9 MB/s eta 0:00:03\n",
      "   ------------------------------------ --- 91.6/99.8 MB 2.9 MB/s eta 0:00:03\n",
      "   ------------------------------------ --- 91.8/99.8 MB 2.9 MB/s eta 0:00:03\n",
      "   ------------------------------------ --- 91.8/99.8 MB 2.8 MB/s eta 0:00:03\n",
      "   ------------------------------------ --- 92.0/99.8 MB 2.8 MB/s eta 0:00:03\n",
      "   ------------------------------------ --- 92.1/99.8 MB 2.8 MB/s eta 0:00:03\n",
      "   ------------------------------------ --- 92.2/99.8 MB 2.8 MB/s eta 0:00:03\n",
      "   ------------------------------------- -- 92.4/99.8 MB 2.8 MB/s eta 0:00:03\n",
      "   ------------------------------------- -- 92.5/99.8 MB 2.8 MB/s eta 0:00:03\n",
      "   ------------------------------------- -- 92.6/99.8 MB 2.8 MB/s eta 0:00:03\n",
      "   ------------------------------------- -- 92.8/99.8 MB 2.9 MB/s eta 0:00:03\n",
      "   ------------------------------------- -- 92.9/99.8 MB 2.8 MB/s eta 0:00:03\n",
      "   ------------------------------------- -- 93.0/99.8 MB 2.9 MB/s eta 0:00:03\n",
      "   ------------------------------------- -- 93.2/99.8 MB 2.9 MB/s eta 0:00:03\n",
      "   ------------------------------------- -- 93.3/99.8 MB 2.9 MB/s eta 0:00:03\n",
      "   ------------------------------------- -- 93.4/99.8 MB 2.8 MB/s eta 0:00:03\n",
      "   ------------------------------------- -- 93.5/99.8 MB 2.8 MB/s eta 0:00:03\n",
      "   ------------------------------------- -- 93.7/99.8 MB 2.8 MB/s eta 0:00:03\n",
      "   ------------------------------------- -- 93.8/99.8 MB 2.9 MB/s eta 0:00:03\n",
      "   ------------------------------------- -- 93.9/99.8 MB 2.8 MB/s eta 0:00:03\n",
      "   ------------------------------------- -- 94.0/99.8 MB 2.8 MB/s eta 0:00:03\n",
      "   ------------------------------------- -- 94.2/99.8 MB 2.8 MB/s eta 0:00:02\n",
      "   ------------------------------------- -- 94.3/99.8 MB 2.8 MB/s eta 0:00:02\n",
      "   ------------------------------------- -- 94.4/99.8 MB 2.8 MB/s eta 0:00:02\n",
      "   ------------------------------------- -- 94.5/99.8 MB 2.9 MB/s eta 0:00:02\n",
      "   ------------------------------------- -- 94.7/99.8 MB 2.9 MB/s eta 0:00:02\n",
      "   -------------------------------------- - 94.8/99.8 MB 2.9 MB/s eta 0:00:02\n",
      "   -------------------------------------- - 94.9/99.8 MB 2.8 MB/s eta 0:00:02\n",
      "   -------------------------------------- - 95.1/99.8 MB 2.9 MB/s eta 0:00:02\n",
      "   -------------------------------------- - 95.2/99.8 MB 2.9 MB/s eta 0:00:02\n",
      "   -------------------------------------- - 95.2/99.8 MB 2.8 MB/s eta 0:00:02\n",
      "   -------------------------------------- - 95.3/99.8 MB 2.8 MB/s eta 0:00:02\n",
      "   -------------------------------------- - 95.5/99.8 MB 2.8 MB/s eta 0:00:02\n",
      "   -------------------------------------- - 95.7/99.8 MB 2.8 MB/s eta 0:00:02\n",
      "   -------------------------------------- - 95.8/99.8 MB 2.8 MB/s eta 0:00:02\n",
      "   -------------------------------------- - 95.9/99.8 MB 2.8 MB/s eta 0:00:02\n",
      "   -------------------------------------- - 96.1/99.8 MB 2.8 MB/s eta 0:00:02\n",
      "   -------------------------------------- - 96.2/99.8 MB 2.8 MB/s eta 0:00:02\n",
      "   -------------------------------------- - 96.3/99.8 MB 2.8 MB/s eta 0:00:02\n",
      "   -------------------------------------- - 96.5/99.8 MB 2.8 MB/s eta 0:00:02\n",
      "   -------------------------------------- - 96.6/99.8 MB 2.8 MB/s eta 0:00:02\n",
      "   -------------------------------------- - 96.7/99.8 MB 2.8 MB/s eta 0:00:02\n",
      "   -------------------------------------- - 96.8/99.8 MB 2.8 MB/s eta 0:00:02\n",
      "   -------------------------------------- - 97.0/99.8 MB 2.8 MB/s eta 0:00:01\n",
      "   -------------------------------------- - 97.1/99.8 MB 2.8 MB/s eta 0:00:01\n",
      "   ---------------------------------------  97.3/99.8 MB 2.8 MB/s eta 0:00:01\n",
      "   ---------------------------------------  97.5/99.8 MB 2.8 MB/s eta 0:00:01\n",
      "   ---------------------------------------  97.5/99.8 MB 2.8 MB/s eta 0:00:01\n",
      "   ---------------------------------------  97.7/99.8 MB 2.9 MB/s eta 0:00:01\n",
      "   ---------------------------------------  97.9/99.8 MB 2.9 MB/s eta 0:00:01\n",
      "   ---------------------------------------  98.1/99.8 MB 2.9 MB/s eta 0:00:01\n",
      "   ---------------------------------------  98.2/99.8 MB 2.9 MB/s eta 0:00:01\n",
      "   ---------------------------------------  98.4/99.8 MB 2.9 MB/s eta 0:00:01\n",
      "   ---------------------------------------  98.5/99.8 MB 2.9 MB/s eta 0:00:01\n",
      "   ---------------------------------------  98.6/99.8 MB 2.9 MB/s eta 0:00:01\n",
      "   ---------------------------------------  98.8/99.8 MB 2.9 MB/s eta 0:00:01\n",
      "   ---------------------------------------  98.9/99.8 MB 2.9 MB/s eta 0:00:01\n",
      "   ---------------------------------------  99.1/99.8 MB 2.9 MB/s eta 0:00:01\n",
      "   ---------------------------------------  99.2/99.8 MB 2.9 MB/s eta 0:00:01\n",
      "   ---------------------------------------  99.4/99.8 MB 2.9 MB/s eta 0:00:01\n",
      "   ---------------------------------------  99.5/99.8 MB 2.9 MB/s eta 0:00:01\n",
      "   ---------------------------------------  99.6/99.8 MB 2.9 MB/s eta 0:00:01\n",
      "   ---------------------------------------  99.7/99.8 MB 2.9 MB/s eta 0:00:01\n",
      "   ---------------------------------------  99.7/99.8 MB 2.9 MB/s eta 0:00:01\n",
      "   ---------------------------------------  99.7/99.8 MB 2.9 MB/s eta 0:00:01\n",
      "   ---------------------------------------  99.7/99.8 MB 2.9 MB/s eta 0:00:01\n",
      "   ---------------------------------------  99.7/99.8 MB 2.9 MB/s eta 0:00:01\n",
      "   ---------------------------------------  99.7/99.8 MB 2.9 MB/s eta 0:00:01\n",
      "   ---------------------------------------  99.7/99.8 MB 2.9 MB/s eta 0:00:01\n",
      "   ---------------------------------------  99.7/99.8 MB 2.9 MB/s eta 0:00:01\n",
      "   ---------------------------------------  99.7/99.8 MB 2.9 MB/s eta 0:00:01\n",
      "   ---------------------------------------  99.7/99.8 MB 2.9 MB/s eta 0:00:01\n",
      "   ---------------------------------------- 99.8/99.8 MB 2.4 MB/s eta 0:00:00\n",
      "Installing collected packages: xgboost\n",
      "Successfully installed xgboost-2.0.3\n"
     ]
    }
   ],
   "source": [
    "!pip install xgboost"
   ]
  },
  {
   "cell_type": "code",
   "execution_count": 76,
   "id": "ddc64072",
   "metadata": {},
   "outputs": [
    {
     "data": {
      "text/html": [
       "<style>#sk-container-id-7 {color: black;}#sk-container-id-7 pre{padding: 0;}#sk-container-id-7 div.sk-toggleable {background-color: white;}#sk-container-id-7 label.sk-toggleable__label {cursor: pointer;display: block;width: 100%;margin-bottom: 0;padding: 0.3em;box-sizing: border-box;text-align: center;}#sk-container-id-7 label.sk-toggleable__label-arrow:before {content: \"▸\";float: left;margin-right: 0.25em;color: #696969;}#sk-container-id-7 label.sk-toggleable__label-arrow:hover:before {color: black;}#sk-container-id-7 div.sk-estimator:hover label.sk-toggleable__label-arrow:before {color: black;}#sk-container-id-7 div.sk-toggleable__content {max-height: 0;max-width: 0;overflow: hidden;text-align: left;background-color: #f0f8ff;}#sk-container-id-7 div.sk-toggleable__content pre {margin: 0.2em;color: black;border-radius: 0.25em;background-color: #f0f8ff;}#sk-container-id-7 input.sk-toggleable__control:checked~div.sk-toggleable__content {max-height: 200px;max-width: 100%;overflow: auto;}#sk-container-id-7 input.sk-toggleable__control:checked~label.sk-toggleable__label-arrow:before {content: \"▾\";}#sk-container-id-7 div.sk-estimator input.sk-toggleable__control:checked~label.sk-toggleable__label {background-color: #d4ebff;}#sk-container-id-7 div.sk-label input.sk-toggleable__control:checked~label.sk-toggleable__label {background-color: #d4ebff;}#sk-container-id-7 input.sk-hidden--visually {border: 0;clip: rect(1px 1px 1px 1px);clip: rect(1px, 1px, 1px, 1px);height: 1px;margin: -1px;overflow: hidden;padding: 0;position: absolute;width: 1px;}#sk-container-id-7 div.sk-estimator {font-family: monospace;background-color: #f0f8ff;border: 1px dotted black;border-radius: 0.25em;box-sizing: border-box;margin-bottom: 0.5em;}#sk-container-id-7 div.sk-estimator:hover {background-color: #d4ebff;}#sk-container-id-7 div.sk-parallel-item::after {content: \"\";width: 100%;border-bottom: 1px solid gray;flex-grow: 1;}#sk-container-id-7 div.sk-label:hover label.sk-toggleable__label {background-color: #d4ebff;}#sk-container-id-7 div.sk-serial::before {content: \"\";position: absolute;border-left: 1px solid gray;box-sizing: border-box;top: 0;bottom: 0;left: 50%;z-index: 0;}#sk-container-id-7 div.sk-serial {display: flex;flex-direction: column;align-items: center;background-color: white;padding-right: 0.2em;padding-left: 0.2em;position: relative;}#sk-container-id-7 div.sk-item {position: relative;z-index: 1;}#sk-container-id-7 div.sk-parallel {display: flex;align-items: stretch;justify-content: center;background-color: white;position: relative;}#sk-container-id-7 div.sk-item::before, #sk-container-id-7 div.sk-parallel-item::before {content: \"\";position: absolute;border-left: 1px solid gray;box-sizing: border-box;top: 0;bottom: 0;left: 50%;z-index: -1;}#sk-container-id-7 div.sk-parallel-item {display: flex;flex-direction: column;z-index: 1;position: relative;background-color: white;}#sk-container-id-7 div.sk-parallel-item:first-child::after {align-self: flex-end;width: 50%;}#sk-container-id-7 div.sk-parallel-item:last-child::after {align-self: flex-start;width: 50%;}#sk-container-id-7 div.sk-parallel-item:only-child::after {width: 0;}#sk-container-id-7 div.sk-dashed-wrapped {border: 1px dashed gray;margin: 0 0.4em 0.5em 0.4em;box-sizing: border-box;padding-bottom: 0.4em;background-color: white;}#sk-container-id-7 div.sk-label label {font-family: monospace;font-weight: bold;display: inline-block;line-height: 1.2em;}#sk-container-id-7 div.sk-label-container {text-align: center;}#sk-container-id-7 div.sk-container {/* jupyter's `normalize.less` sets `[hidden] { display: none; }` but bootstrap.min.css set `[hidden] { display: none !important; }` so we also need the `!important` here to be able to override the default hidden behavior on the sphinx rendered scikit-learn.org. See: https://github.com/scikit-learn/scikit-learn/issues/21755 */display: inline-block !important;position: relative;}#sk-container-id-7 div.sk-text-repr-fallback {display: none;}</style><div id=\"sk-container-id-7\" class=\"sk-top-container\"><div class=\"sk-text-repr-fallback\"><pre>XGBClassifier(base_score=None, booster=None, callbacks=None,\n",
       "              colsample_bylevel=None, colsample_bynode=None,\n",
       "              colsample_bytree=0.8, device=None, early_stopping_rounds=None,\n",
       "              enable_categorical=False, eval_metric=&#x27;logloss&#x27;,\n",
       "              feature_types=None, gamma=0, grow_policy=None,\n",
       "              importance_type=None, interaction_constraints=None,\n",
       "              learning_rate=0.1, max_bin=None, max_cat_threshold=None,\n",
       "              max_cat_to_onehot=None, max_delta_step=None, max_depth=3,\n",
       "              max_leaves=None, min_child_weight=None, missing=nan,\n",
       "              monotone_constraints=None, multi_strategy=None, n_estimators=1000,\n",
       "              n_jobs=None, num_parallel_tree=None, random_state=None, ...)</pre><b>In a Jupyter environment, please rerun this cell to show the HTML representation or trust the notebook. <br />On GitHub, the HTML representation is unable to render, please try loading this page with nbviewer.org.</b></div><div class=\"sk-container\" hidden><div class=\"sk-item\"><div class=\"sk-estimator sk-toggleable\"><input class=\"sk-toggleable__control sk-hidden--visually\" id=\"sk-estimator-id-15\" type=\"checkbox\" checked><label for=\"sk-estimator-id-15\" class=\"sk-toggleable__label sk-toggleable__label-arrow\">XGBClassifier</label><div class=\"sk-toggleable__content\"><pre>XGBClassifier(base_score=None, booster=None, callbacks=None,\n",
       "              colsample_bylevel=None, colsample_bynode=None,\n",
       "              colsample_bytree=0.8, device=None, early_stopping_rounds=None,\n",
       "              enable_categorical=False, eval_metric=&#x27;logloss&#x27;,\n",
       "              feature_types=None, gamma=0, grow_policy=None,\n",
       "              importance_type=None, interaction_constraints=None,\n",
       "              learning_rate=0.1, max_bin=None, max_cat_threshold=None,\n",
       "              max_cat_to_onehot=None, max_delta_step=None, max_depth=3,\n",
       "              max_leaves=None, min_child_weight=None, missing=nan,\n",
       "              monotone_constraints=None, multi_strategy=None, n_estimators=1000,\n",
       "              n_jobs=None, num_parallel_tree=None, random_state=None, ...)</pre></div></div></div></div></div>"
      ],
      "text/plain": [
       "XGBClassifier(base_score=None, booster=None, callbacks=None,\n",
       "              colsample_bylevel=None, colsample_bynode=None,\n",
       "              colsample_bytree=0.8, device=None, early_stopping_rounds=None,\n",
       "              enable_categorical=False, eval_metric='logloss',\n",
       "              feature_types=None, gamma=0, grow_policy=None,\n",
       "              importance_type=None, interaction_constraints=None,\n",
       "              learning_rate=0.1, max_bin=None, max_cat_threshold=None,\n",
       "              max_cat_to_onehot=None, max_delta_step=None, max_depth=3,\n",
       "              max_leaves=None, min_child_weight=None, missing=nan,\n",
       "              monotone_constraints=None, multi_strategy=None, n_estimators=1000,\n",
       "              n_jobs=None, num_parallel_tree=None, random_state=None, ...)"
      ]
     },
     "execution_count": 76,
     "metadata": {},
     "output_type": "execute_result"
    }
   ],
   "source": [
    "#training the model\n",
    "from xgboost import XGBClassifier\n",
    "xgb_classifier =XGBClassifier(\n",
    "    n_estimators=1000,\n",
    "    learning_rate=0.1,\n",
    "    max_depth=3,\n",
    "    subsample=0.8,\n",
    "    colsample_bytree=0.8,\n",
    "    gamma=0,\n",
    "    reg_alpha=0,\n",
    "    reg_lambda=1,\n",
    "    scale_pos_weight=1,\n",
    "    objective='binary:logistic',\n",
    "    eval_metric='logloss'\n",
    ")\n",
    "xgb_classifier.fit(x_train,y_train)"
   ]
  },
  {
   "cell_type": "markdown",
   "id": "35fece24",
   "metadata": {},
   "source": [
    "**In a Jupyter environment, please rerun this cell to show the HTML representation or trust the notebook.**\n",
    "\n",
    "**On GitHub, the HTML representation is unable to render, please try loading this page with nbviewer.org.**"
   ]
  },
  {
   "cell_type": "code",
   "execution_count": 77,
   "id": "87065076",
   "metadata": {},
   "outputs": [
    {
     "data": {
      "text/plain": [
       "array([0, 1, 1, ..., 1, 1, 1])"
      ]
     },
     "execution_count": 77,
     "metadata": {},
     "output_type": "execute_result"
    }
   ],
   "source": [
    "#predicting the model\n",
    "\n",
    "y_pred_xgb=xgb_classifier.predict(x_test)\n",
    "y_pred_xgb\n"
   ]
  },
  {
   "cell_type": "code",
   "execution_count": 78,
   "id": "c0be34a9",
   "metadata": {},
   "outputs": [
    {
     "name": "stdout",
     "output_type": "stream",
     "text": [
      "0.7421555252387448\n",
      "              precision    recall  f1-score   support\n",
      "\n",
      "           0       0.77      0.81      0.79       887\n",
      "           1       0.69      0.64      0.66       579\n",
      "\n",
      "    accuracy                           0.74      1466\n",
      "   macro avg       0.73      0.72      0.73      1466\n",
      "weighted avg       0.74      0.74      0.74      1466\n",
      "\n",
      "[[718 169]\n",
      " [209 370]]\n"
     ]
    }
   ],
   "source": [
    "#finding the accuracy ,classification report and confusion matrix\n",
    "\n",
    "acc_XGB = accuracy_score(y_test,y_pred_xgb)\n",
    "print(accuracy_score(y_test,y_pred_xgb))\n",
    "print(classification_report(y_test,y_pred_xgb))\n",
    "print(confusion_matrix(y_test,y_pred_xgb))"
   ]
  },
  {
   "cell_type": "markdown",
   "id": "7cbf174c",
   "metadata": {},
   "source": [
    "# 8.ARTIFICIAL NEURAL NETWORK"
   ]
  },
  {
   "cell_type": "code",
   "execution_count": 79,
   "id": "aef8c089",
   "metadata": {},
   "outputs": [
    {
     "data": {
      "text/html": [
       "<style>#sk-container-id-8 {color: black;}#sk-container-id-8 pre{padding: 0;}#sk-container-id-8 div.sk-toggleable {background-color: white;}#sk-container-id-8 label.sk-toggleable__label {cursor: pointer;display: block;width: 100%;margin-bottom: 0;padding: 0.3em;box-sizing: border-box;text-align: center;}#sk-container-id-8 label.sk-toggleable__label-arrow:before {content: \"▸\";float: left;margin-right: 0.25em;color: #696969;}#sk-container-id-8 label.sk-toggleable__label-arrow:hover:before {color: black;}#sk-container-id-8 div.sk-estimator:hover label.sk-toggleable__label-arrow:before {color: black;}#sk-container-id-8 div.sk-toggleable__content {max-height: 0;max-width: 0;overflow: hidden;text-align: left;background-color: #f0f8ff;}#sk-container-id-8 div.sk-toggleable__content pre {margin: 0.2em;color: black;border-radius: 0.25em;background-color: #f0f8ff;}#sk-container-id-8 input.sk-toggleable__control:checked~div.sk-toggleable__content {max-height: 200px;max-width: 100%;overflow: auto;}#sk-container-id-8 input.sk-toggleable__control:checked~label.sk-toggleable__label-arrow:before {content: \"▾\";}#sk-container-id-8 div.sk-estimator input.sk-toggleable__control:checked~label.sk-toggleable__label {background-color: #d4ebff;}#sk-container-id-8 div.sk-label input.sk-toggleable__control:checked~label.sk-toggleable__label {background-color: #d4ebff;}#sk-container-id-8 input.sk-hidden--visually {border: 0;clip: rect(1px 1px 1px 1px);clip: rect(1px, 1px, 1px, 1px);height: 1px;margin: -1px;overflow: hidden;padding: 0;position: absolute;width: 1px;}#sk-container-id-8 div.sk-estimator {font-family: monospace;background-color: #f0f8ff;border: 1px dotted black;border-radius: 0.25em;box-sizing: border-box;margin-bottom: 0.5em;}#sk-container-id-8 div.sk-estimator:hover {background-color: #d4ebff;}#sk-container-id-8 div.sk-parallel-item::after {content: \"\";width: 100%;border-bottom: 1px solid gray;flex-grow: 1;}#sk-container-id-8 div.sk-label:hover label.sk-toggleable__label {background-color: #d4ebff;}#sk-container-id-8 div.sk-serial::before {content: \"\";position: absolute;border-left: 1px solid gray;box-sizing: border-box;top: 0;bottom: 0;left: 50%;z-index: 0;}#sk-container-id-8 div.sk-serial {display: flex;flex-direction: column;align-items: center;background-color: white;padding-right: 0.2em;padding-left: 0.2em;position: relative;}#sk-container-id-8 div.sk-item {position: relative;z-index: 1;}#sk-container-id-8 div.sk-parallel {display: flex;align-items: stretch;justify-content: center;background-color: white;position: relative;}#sk-container-id-8 div.sk-item::before, #sk-container-id-8 div.sk-parallel-item::before {content: \"\";position: absolute;border-left: 1px solid gray;box-sizing: border-box;top: 0;bottom: 0;left: 50%;z-index: -1;}#sk-container-id-8 div.sk-parallel-item {display: flex;flex-direction: column;z-index: 1;position: relative;background-color: white;}#sk-container-id-8 div.sk-parallel-item:first-child::after {align-self: flex-end;width: 50%;}#sk-container-id-8 div.sk-parallel-item:last-child::after {align-self: flex-start;width: 50%;}#sk-container-id-8 div.sk-parallel-item:only-child::after {width: 0;}#sk-container-id-8 div.sk-dashed-wrapped {border: 1px dashed gray;margin: 0 0.4em 0.5em 0.4em;box-sizing: border-box;padding-bottom: 0.4em;background-color: white;}#sk-container-id-8 div.sk-label label {font-family: monospace;font-weight: bold;display: inline-block;line-height: 1.2em;}#sk-container-id-8 div.sk-label-container {text-align: center;}#sk-container-id-8 div.sk-container {/* jupyter's `normalize.less` sets `[hidden] { display: none; }` but bootstrap.min.css set `[hidden] { display: none !important; }` so we also need the `!important` here to be able to override the default hidden behavior on the sphinx rendered scikit-learn.org. See: https://github.com/scikit-learn/scikit-learn/issues/21755 */display: inline-block !important;position: relative;}#sk-container-id-8 div.sk-text-repr-fallback {display: none;}</style><div id=\"sk-container-id-8\" class=\"sk-top-container\"><div class=\"sk-text-repr-fallback\"><pre>MLPClassifier(batch_size=10, hidden_layer_sizes=(100, 100, 100),\n",
       "              learning_rate_init=0.01, max_iter=2000, random_state=10)</pre><b>In a Jupyter environment, please rerun this cell to show the HTML representation or trust the notebook. <br />On GitHub, the HTML representation is unable to render, please try loading this page with nbviewer.org.</b></div><div class=\"sk-container\" hidden><div class=\"sk-item\"><div class=\"sk-estimator sk-toggleable\"><input class=\"sk-toggleable__control sk-hidden--visually\" id=\"sk-estimator-id-16\" type=\"checkbox\" checked><label for=\"sk-estimator-id-16\" class=\"sk-toggleable__label sk-toggleable__label-arrow\">MLPClassifier</label><div class=\"sk-toggleable__content\"><pre>MLPClassifier(batch_size=10, hidden_layer_sizes=(100, 100, 100),\n",
       "              learning_rate_init=0.01, max_iter=2000, random_state=10)</pre></div></div></div></div></div>"
      ],
      "text/plain": [
       "MLPClassifier(batch_size=10, hidden_layer_sizes=(100, 100, 100),\n",
       "              learning_rate_init=0.01, max_iter=2000, random_state=10)"
      ]
     },
     "execution_count": 79,
     "metadata": {},
     "output_type": "execute_result"
    }
   ],
   "source": [
    "# Training the model\n",
    "\n",
    "from sklearn.neural_network import MLPClassifier\n",
    "model_mlp = MLPClassifier(hidden_layer_sizes=(100,100,100),batch_size=10,learning_rate_init=0.01,max_iter=2000,random_state=10)\n",
    "model_mlp.fit(x_train,y_train)"
   ]
  },
  {
   "cell_type": "markdown",
   "id": "aa785f8e",
   "metadata": {},
   "source": [
    "**In a Jupyter environment, please rerun this cell to show the HTML representation or trust the notebook.**\n",
    "\n",
    "**On GitHub, the HTML representation is unable to render, please try loading this page with nbviewer.org.**"
   ]
  },
  {
   "cell_type": "code",
   "execution_count": 80,
   "id": "fd6b121f",
   "metadata": {},
   "outputs": [
    {
     "data": {
      "text/plain": [
       "array([1, 1, 1, ..., 1, 0, 0])"
      ]
     },
     "execution_count": 80,
     "metadata": {},
     "output_type": "execute_result"
    }
   ],
   "source": [
    "#testing the model\n",
    "\n",
    "y_pred_mlp=model_mlp.predict(x_test)\n",
    "y_pred_mlp"
   ]
  },
  {
   "cell_type": "code",
   "execution_count": 81,
   "id": "fd877899",
   "metadata": {},
   "outputs": [
    {
     "name": "stdout",
     "output_type": "stream",
     "text": [
      "0.6903137789904502\n",
      "              precision    recall  f1-score   support\n",
      "\n",
      "           0       0.72      0.80      0.76       887\n",
      "           1       0.63      0.53      0.57       579\n",
      "\n",
      "    accuracy                           0.69      1466\n",
      "   macro avg       0.67      0.66      0.67      1466\n",
      "weighted avg       0.68      0.69      0.68      1466\n",
      "\n",
      "[[706 181]\n",
      " [273 306]]\n"
     ]
    }
   ],
   "source": [
    "#finding accuracy , classification report and confusion matrix\n",
    "\n",
    "acc_ANN = accuracy_score(y_test,y_pred_mlp)\n",
    "print(accuracy_score(y_test,y_pred_mlp))\n",
    "print(classification_report(y_test,y_pred_mlp))\n",
    "print(confusion_matrix(y_test,y_pred_mlp))"
   ]
  },
  {
   "cell_type": "code",
   "execution_count": 82,
   "id": "59b8cd32",
   "metadata": {},
   "outputs": [
    {
     "name": "stdout",
     "output_type": "stream",
     "text": [
      "Requirement already satisfied: tabulate in c:\\users\\dell\\anaconda3\\lib\\site-packages (0.8.10)\n"
     ]
    }
   ],
   "source": [
    "!pip install tabulate"
   ]
  },
  {
   "cell_type": "code",
   "execution_count": 83,
   "id": "432e9c3b",
   "metadata": {},
   "outputs": [],
   "source": [
    "from tabulate import tabulate"
   ]
  },
  {
   "cell_type": "code",
   "execution_count": 90,
   "id": "be0959d7",
   "metadata": {},
   "outputs": [
    {
     "name": "stdout",
     "output_type": "stream",
     "text": [
      "╒═══════════════╤══════════════════╕\n",
      "│ Algorithm     │   Accuracy Score │\n",
      "╞═══════════════╪══════════════════╡\n",
      "│ LR            │           68.89% │\n",
      "├───────────────┼──────────────────┤\n",
      "│ SVM           │           70.87% │\n",
      "├───────────────┼──────────────────┤\n",
      "│ Naive-Bayes   │           66.85% │\n",
      "├───────────────┼──────────────────┤\n",
      "│ Decision Tree │           70.80% │\n",
      "├───────────────┼──────────────────┤\n",
      "│ KNN           │           68.83% │\n",
      "├───────────────┼──────────────────┤\n",
      "│ XGBoost       │           74.22% │\n",
      "├───────────────┼──────────────────┤\n",
      "│ Random Forest │           73.06% │\n",
      "├───────────────┼──────────────────┤\n",
      "│ ANN           │           69.03% │\n",
      "╘═══════════════╧══════════════════╛\n"
     ]
    }
   ],
   "source": [
    "data1 = [[\"LR\", acc_LR],\n",
    "        [\"SVM\", acc_SVM],\n",
    "        [\"Naive-Bayes\", acc_NB],\n",
    "        [\"Decision Tree\", acc_DT],\n",
    "        [\"KNN\", acc_KNN],\n",
    "        [\"XGBoost\", acc_XGB],\n",
    "        [\"Random Forest\", acc_RF],\n",
    "        [\"ANN\", acc_ANN]]\n",
    "\n",
    "col_names1 = [\"Algorithm\", \"Accuracy Score\"]\n",
    "\n",
    "print(tabulate(data1, headers = col_names1, tablefmt = \"fancy_grid\", floatfmt = \".2%\"))"
   ]
  },
  {
   "cell_type": "markdown",
   "id": "66a01bbb",
   "metadata": {},
   "source": [
    "# SUMMARY OF THE PROJECT"
   ]
  },
  {
   "cell_type": "markdown",
   "id": "6e97d572",
   "metadata": {},
   "source": [
    "FicZon Inc, an IT solution provider, relies heavily on digital channels for leads, particularly through their website. With a significant dependence on sales force effectiveness, FicZon has experienced a decline in sales due to market maturation and increased competition.\n",
    "\n",
    "The current lead quality assessment relies on manual categorization by the sales staff, with a post-analysis focus. Recognizing the need for improvement, FicZon initiated a project with the goal of leveraging Machine Learning (ML) to pre-categorize leads, anticipating a substantial boost in sales effectiveness.\n",
    "\n",
    "The project's primary objectives included data exploration insights into sales effectiveness and the development of an ML model capable of predicting lead categories (High Potential or Low Potential). Various machine learning models were employed to achieve these goals.\n",
    "\n",
    "The implementation of ML aimed to enhance the accuracy and efficiency of lead categorization, ensuring a proactive approach to sales, and addressing the challenges posed by market dynamics and emerging competitors.\n",
    "\n",
    "The dataset for the Business case was obtained through SQL server using MySQL Workbench. It has 7422 rows × 9 columns with column names as 'Created', 'Product_ID', 'Source', 'Mobile', 'EMAIL', 'Sales_Agent', 'Location', 'Delivery_Mode' and 'Status'. The dataset contains all these details for 7422 products which were sold to different customers.\n",
    "\n",
    "It is a Supervised Leraning Classification problem with input features as Categorical Data and target as the 'Status' where different values are recorded providing whether that particular Product is at what stage (Open, lost, Just Enquiry etc). The predictor variables as well as the target variable 'Status' is nominal type.\n",
    "\n",
    "### Machine Learning algorithms used:\n",
    "\n",
    "1.Logistic Regression\n",
    "\n",
    "2.Support Vector Machine\n",
    "\n",
    "3.Decision Tree with GridSearchCV\n",
    "\n",
    "4.Random Forest with GridSearchCV\n",
    "\n",
    "5.Naive Bayes Bernoulli\n",
    "\n",
    "6.K-nearest Neighbours\n",
    "\n",
    "7.XGBoost Classifier\n",
    "\n",
    "8.Artificial Neural Network"
   ]
  },
  {
   "cell_type": "markdown",
   "id": "331b6ea5",
   "metadata": {},
   "source": [
    "# METHODOLOGY"
   ]
  },
  {
   "cell_type": "markdown",
   "id": "52b22e65",
   "metadata": {},
   "source": [
    "Most of the columns have a lot of different unique labels. Hence, these labels were merged and new labels were formed categorizing the labels with similar features into one group. After categorizing, the categorical data were converted to Numerical type using Label Encoding Technique.\n",
    "\n",
    "The Target variable 'Status' was categorized into 'Good' and 'Bad' which referred to High Potential and Low Potential Lead respectively.\n",
    "\n",
    "SMOTE is used for balancing the sample data. After various Data Preprocessing and Feature Engineering Process, different Machine Learning Algorithms like Logistic Regression, Support Vector Machine, Decision Tree, Random Forest, XGBoost, K-NN, A-NN and Naive-Bayes alogorithms were used for prediction."
   ]
  },
  {
   "cell_type": "markdown",
   "id": "48455e83",
   "metadata": {},
   "source": [
    "# CONCLUSION"
   ]
  },
  {
   "cell_type": "markdown",
   "id": "3ad6ad3b",
   "metadata": {},
   "source": [
    "The Main purpose of the project was to find out the Lead Quality which can significantly increase the sales.\n",
    "\n",
    "After trying various Machine Learning Model on the given data set, based on the Accuracy score, Recall score, Precision score and F1 score, it can be concluded that out of all the algorithms, **XGBoost Classifier** is performing best with highest accuracy score.\n",
    "\n",
    "**It can concluded that XGBoost alogorithm is the best performing model on this Data set.**"
   ]
  }
 ],
 "metadata": {
  "kernelspec": {
   "display_name": "Python 3 (ipykernel)",
   "language": "python",
   "name": "python3"
  },
  "language_info": {
   "codemirror_mode": {
    "name": "ipython",
    "version": 3
   },
   "file_extension": ".py",
   "mimetype": "text/x-python",
   "name": "python",
   "nbconvert_exporter": "python",
   "pygments_lexer": "ipython3",
   "version": "3.11.5"
  }
 },
 "nbformat": 4,
 "nbformat_minor": 5
}
